{
 "cells":[
  {
   "cell_type":"code",
   "source":[
    "\"\"\"\n",
    "WORK FOR FINANTIAL DERIVATIVES - NOVA IMS - MADE BY:\n",
    "Bernardo Machado – M20221001\n",
    "David Gonçalves – M20221236\n",
    "Frederico Bravo – M20221231\n",
    "João Mascarenhas – M20221537\n",
    "Nelson Lima – M20221539\n",
    "\"\"\""
   ],
   "execution_count":688,
   "outputs":[
    {
     "data":{
      "text\/plain":[
       "'\\nWORK FOR FINANTIAL DERIVATIVES - NOVA IMS - MADE BY:\\nBernardo Machado – M20221001\\nDavid Gonçalves – M20221236\\nFrederico Bravo – M20221231\\nJoão Mascarenhas – M20221537\\nNelson Lima – M20221539\\n'"
      ]
     },
     "metadata":{
      
     },
     "output_type":"display_data"
    }
   ],
   "metadata":{
    "datalore":{
     "node_id":"DFlSw3KGNStXWqUrCXy0Yu",
     "type":"CODE",
     "hide_input_from_viewers":true,
     "hide_output_from_viewers":true
    }
   }
  },
  {
   "cell_type":"code",
   "source":[
    "# Import libraries\n",
    "import pandas as pd\n",
    "import numpy as np \n",
    "import numpy.random as npr\n",
    "from datetime import datetime, date, timedelta\n",
    "from dateutil.relativedelta import relativedelta\n",
    "import matplotlib.pyplot as plt\n",
    "import matplotlib.dates as mdates\n",
    "import io\n",
    "import re\n",
    "from scipy.interpolate import interp1d\n",
    "from datetime import datetime\n",
    "from datetime import timezone\n",
    "from math import sqrt\n",
    "from scipy.stats import norm\n",
    "from scipy.optimize import root"
   ],
   "execution_count":630,
   "outputs":[
    
   ],
   "metadata":{
    "datalore":{
     "node_id":"cKxT3FRcP7cADGefXI7UJP",
     "type":"CODE",
     "hide_input_from_viewers":false,
     "hide_output_from_viewers":false,
     "report_properties":{
      "y":0
     }
    }
   }
  },
  {
   "cell_type":"code",
   "source":[
    "# Import our datasets\n",
    "capnormal_data=pd.read_csv(\"HA_capNormalVol.csv\")\n",
    "swaps_data=pd.read_csv(\"HA_swaps.csv\")\n",
    "swaption_data=pd.read_csv(\"HA_swaptionNormalVol.csv\")"
   ],
   "execution_count":631,
   "outputs":[
    
   ],
   "metadata":{
    "datalore":{
     "node_id":"9Z8cYm7M4EcllOPqEu0CgK",
     "type":"CODE",
     "hide_input_from_viewers":false,
     "hide_output_from_viewers":false,
     "report_properties":{
      "y":5
     }
    }
   }
  },
  {
   "cell_type":"code",
   "source":[
    "#Preparing the data and interpolating the missing values\n",
    "swaps_data['Unnamed: 0']=pd.to_datetime(swaps_data['Unnamed: 0'])\n",
    "swaps_data.sort_values('Unnamed: 0',inplace=True)\n",
    "swaps_data.set_index('Unnamed: 0',inplace=True)\n",
    "swaps_data.interpolate(method='time', limit_direction='both', axis=0,inplace=True)\n",
    "swaps_data.reset_index(inplace=True)\n",
    "swaps_data['Unnamed: 0']=swaps_data['Unnamed: 0'].dt.strftime('%Y-%m-%d')"
   ],
   "execution_count":632,
   "outputs":[
    
   ],
   "metadata":{
    "datalore":{
     "node_id":"psOLSnvlffZq4DEc9qYNG0",
     "type":"CODE",
     "hide_input_from_viewers":true,
     "hide_output_from_viewers":true
    }
   }
  },
  {
   "cell_type":"code",
   "source":[
    "# Function for adding n moths to date\n",
    "def schedule(start, end, freq=6):            \n",
    "    def advance(dt, months):\n",
    "        try:\n",
    "            return date(dt.year, dt.month + months, dt.day)\n",
    "        except:\n",
    "            return date(dt.year + 1, dt.month - months, dt.day)\n",
    "    dates = [start]\n",
    "    while dates[-1] <= end:\n",
    "        dates.append(advance(dates[-1], 6))\n",
    "    return dates[:-1]"
   ],
   "execution_count":633,
   "outputs":[
    
   ],
   "metadata":{
    "datalore":{
     "node_id":"FsQ8pYBLA98QZckgsYalNy",
     "type":"CODE",
     "hide_input_from_viewers":false,
     "hide_output_from_viewers":false,
     "report_properties":{
      "y":23
     }
    }
   }
  },
  {
   "cell_type":"code",
   "source":[
    "#Question 1\n",
    "\n",
    "#creating schedule of dates\n",
    "today_date = date(2007,1,15)\n",
    "maturity = date(2022,1,19)\n",
    "start_date = date(2007,1,19)"
   ],
   "execution_count":634,
   "outputs":[
    
   ],
   "metadata":{
    "datalore":{
     "node_id":"jucEqU6iRkuDvnZcWvZAfq",
     "type":"CODE",
     "hide_input_from_viewers":false,
     "hide_output_from_viewers":false,
     "report_properties":{
      "y":30
     }
    }
   }
  },
  {
   "cell_type":"code",
   "source":[
    "swaps = swaps_data.rename(columns={'Unnamed: 0': 'Date'}) #changing name of columns\n",
    "swaps['Date'] = pd.to_datetime(swaps['Date']) #setting the Date columns to a datetime columns\n",
    "swaps.set_index('Date', inplace=True) #setting the column as the index"
   ],
   "execution_count":635,
   "outputs":[
    
   ],
   "metadata":{
    "datalore":{
     "node_id":"eLbefmFYYR7wkAVAqiXttB",
     "type":"CODE",
     "hide_input_from_viewers":false,
     "hide_output_from_viewers":false,
     "report_properties":{
      "y":35
     }
    }
   }
  },
  {
   "cell_type":"code",
   "source":[
    "#Select the date and change our series to DataFrame\n",
    "swaps_v1=swaps.loc['2007-01-15 00:00:00'].to_frame()\n",
    "swaps_v1.columns=['par_rate']\n",
    "swaps_v1.reset_index(inplace=True)"
   ],
   "execution_count":636,
   "outputs":[
    
   ],
   "metadata":{
    "datalore":{
     "node_id":"T7OBtqt4yP2WyMLTt3LDew",
     "type":"CODE",
     "hide_input_from_viewers":true,
     "hide_output_from_viewers":true
    }
   }
  },
  {
   "cell_type":"code",
   "source":[
    "swaps_v1[['instrument', 'maturity']] = swaps_v1['index'].str.split(' ', expand=True) #splitting the index column to have a columns with only the name of the product\n",
    "swaps_v1[\"maturity\"] = swaps_v1[\"maturity\"].apply(lambda x: x + \"M\" if \"X\" in x else x) #adding a M to the FRAs maturities\n",
    "swaps_v1['maturity_fra'] = swaps_v1['maturity'].str.split('X').str[1] #getting the maturity of the fra\n",
    "swaps_v1.loc[swaps_v1[\"instrument\"] == \"FRA\", \"maturity\"] = swaps_v1[\"maturity_fra\"] #getting the new maturity"
   ],
   "execution_count":637,
   "outputs":[
    
   ],
   "metadata":{
    "datalore":{
     "node_id":"lurZMmx2B94uSIUKEcVDqn",
     "type":"CODE",
     "hide_input_from_viewers":false,
     "hide_output_from_viewers":false,
     "report_properties":{
      "y":95
     }
    }
   }
  },
  {
   "cell_type":"code",
   "source":[
    "def extract_number(string):\n",
    "    # Use a regular expression to extract the numeric value from the string\n",
    "    number = re.findall(r'\\d+', string)\n",
    "    # If the string contains the character 'M', return the number as a float\n",
    "    # (dividing the number by 12 to convert from months to years)\n",
    "    if 'M' in string:\n",
    "        return float(number[0]) \/ 12\n",
    "    # Otherwise, return the number as an integer\n",
    "    else:\n",
    "        return int(number[0])"
   ],
   "execution_count":638,
   "outputs":[
    
   ],
   "metadata":{
    "datalore":{
     "node_id":"q8ALPafONg2Y5KCJ7xxI6S",
     "type":"CODE",
     "hide_input_from_viewers":false,
     "hide_output_from_viewers":false,
     "report_properties":{
      "y":202
     }
    }
   }
  },
  {
   "cell_type":"code",
   "source":[
    "#Calculate the year fractions\n",
    "swaps_v1[\"year_frac\"] = swaps_v1[\"maturity\"].apply(extract_number)\n",
    "swaps_v1.set_index('index',inplace=True)\n",
    "forward=swaps_v1.loc['FRA 6X12', 'par_rate']"
   ],
   "execution_count":639,
   "outputs":[
    
   ],
   "metadata":{
    "datalore":{
     "node_id":"CyIBYLe6He378gYR8yweTo",
     "type":"CODE",
     "hide_input_from_viewers":false,
     "hide_output_from_viewers":false,
     "report_properties":{
      "y":209
     }
    }
   }
  },
  {
   "cell_type":"code",
   "source":[
    "#Calculate the Yield of the missing one year rate\n",
    "one_year_rate=(((1+swaps_v1.loc['Deposit 6M', 'par_rate'])**swaps_v1.loc['Deposit 6M', 'year_frac'])*(1+forward)**(1-swaps_v1.loc['Deposit 6M', 'year_frac']))-1\n",
    "print(f'One Year rate is: {one_year_rate}%')"
   ],
   "execution_count":640,
   "outputs":[
    {
     "name":"stdout",
     "text":[
      "One Year rate is: 4.015275067232105%\n"
     ],
     "output_type":"stream"
    }
   ],
   "metadata":{
    "datalore":{
     "node_id":"2w25gwdqY7CCf94CJ0QMRI",
     "type":"CODE",
     "hide_input_from_viewers":false,
     "hide_output_from_viewers":false,
     "report_properties":{
      "y":235
     }
    }
   }
  },
  {
   "cell_type":"code",
   "source":[
    "yield_curve = swaps_v1[swaps_v1.index.str.contains(\"FRA\") == False]"
   ],
   "execution_count":641,
   "outputs":[
    
   ],
   "metadata":{
    "datalore":{
     "node_id":"HRG2g88K3A2qIthnDaILAX",
     "type":"CODE",
     "hide_input_from_viewers":false,
     "hide_output_from_viewers":false,
     "report_properties":{
      "y":247
     }
    }
   }
  },
  {
   "cell_type":"code",
   "source":[
    "#Create a DataFrame for the one year rate\n",
    "one_year_rate_frame = pd.DataFrame([[one_year_rate,'-','1Y','-',1.0]],\n",
    "     index=['Swap 1Y'],\n",
    "     columns=['par_rate', 'instrument','maturity','maturity_fra','year_frac'])"
   ],
   "execution_count":642,
   "outputs":[
    
   ],
   "metadata":{
    "datalore":{
     "node_id":"Jc0KbecxJRmOTYt09mvpmM",
     "type":"CODE",
     "hide_input_from_viewers":false,
     "hide_output_from_viewers":false,
     "report_properties":{
      "y":250
     }
    }
   }
  },
  {
   "cell_type":"code",
   "source":[
    "yield_curve=yield_curve.append(one_year_rate_frame)\n",
    "yield_curve.set_index('year_frac',inplace=True) #define as index\n",
    "#Calculate data\n",
    "yield_curve.loc[0.5, 'df'] = 1 \/ (1 + (yield_curve.loc[0.5, 'par_rate']\/100) * 0.5)\n",
    "yield_curve.loc[0.5, 'zero_rate'] = yield_curve.loc[0.5, 'par_rate']\/100\n",
    "yield_curve.loc[1, 'df'] = 1 \/ (1 + yield_curve.loc[1, 'par_rate']\/100 * 1)\n",
    "yield_curve.loc[1, 'zero_rate'] = yield_curve.loc[1, 'par_rate']\/100\n",
    "yield_curve=yield_curve.sort_index() \n",
    "date(start_date.year,start_date.month,start_date.day) #today date of the exercise"
   ],
   "execution_count":643,
   "outputs":[
    {
     "data":{
      "text\/plain":[
       "datetime.date(2007, 1, 19)"
      ]
     },
     "metadata":{
      
     },
     "output_type":"display_data"
    }
   ],
   "metadata":{
    "datalore":{
     "node_id":"rkTAjBZML91B4o57eNkWiU",
     "type":"CODE",
     "hide_input_from_viewers":false,
     "hide_output_from_viewers":false,
     "report_properties":{
      "y":253
     }
    }
   }
  },
  {
   "cell_type":"code",
   "source":[
    "# Complete our DataFrame\n",
    "yield_curve[\"Tenor\"]= yield_curve.index\n",
    "yield_curve['maturity'] = [date(start_date.year,start_date.month+6,start_date.day)] + [date(2007 +int(n), 1, 19) for n in yield_curve.index[1:]]\n",
    "yield_curve['days'] = yield_curve.maturity.apply(lambda x: (x - start_date).days)"
   ],
   "execution_count":644,
   "outputs":[
    
   ],
   "metadata":{
    "datalore":{
     "node_id":"HCKSSJguj1eMIuNLkI2Dkl",
     "type":"CODE",
     "hide_input_from_viewers":true,
     "hide_output_from_viewers":true
    }
   }
  },
  {
   "cell_type":"code",
   "source":[
    "for idx, row in yield_curve.loc[2:].iterrows():\n",
    "    prev_dfs = yield_curve.loc[1:idx-1].df.sum()\n",
    "    yield_curve.loc[idx, 'df'] = (1 - row.par_rate\/100 * prev_dfs) \/ (1+row.par_rate\/100)"
   ],
   "execution_count":645,
   "outputs":[
    
   ],
   "metadata":{
    "datalore":{
     "node_id":"F2r0HIyGpl8ufjs2xEZSdZ",
     "type":"CODE",
     "hide_input_from_viewers":true,
     "hide_output_from_viewers":true
    }
   }
  },
  {
   "cell_type":"code",
   "source":[
    "\n",
    "for a in yield_curve.index[2:]:\n",
    "    yield_curve.loc[a,'zero_rate']=((1\/yield_curve.loc[a,'df'])**(1\/a))-1\n"
   ],
   "execution_count":646,
   "outputs":[
    
   ],
   "metadata":{
    "datalore":{
     "node_id":"PB8d1QmFn7NFx8woFYEs53",
     "type":"CODE",
     "hide_input_from_viewers":true,
     "hide_output_from_viewers":true
    }
   }
  },
  {
   "cell_type":"code",
   "source":[
    "#Calculate Discount Factor\n",
    "yield_curve.loc[15,'df']=yield_curve.loc[11,'df']+(15-10)*((0.5998486551576877-0.6274500092316508)\/(12-11))\n",
    "print('Discount Factor is:', yield_curve.loc[15,'df'])"
   ],
   "execution_count":647,
   "outputs":[
    {
     "name":"stdout",
     "text":[
      "Discount Factor is: 0.48944323886183516\n"
     ],
     "output_type":"stream"
    }
   ],
   "metadata":{
    "datalore":{
     "node_id":"zczxQJ0nepY20oM7K45JbW",
     "type":"CODE",
     "hide_input_from_viewers":true,
     "hide_output_from_viewers":true
    }
   }
  },
  {
   "cell_type":"code",
   "source":[
    "start_date = date(2007,1,19)\n",
    "# Add six months and keep the same day\n",
    "loan_dates=[start_date]\n",
    "for i in range(30):\n",
    "  resulting_date = start_date + relativedelta(months=+6)\n",
    "  if resulting_date.weekday()==5:\n",
    "    resulting_date=resulting_date+timedelta(days=2)\n",
    "  if resulting_date.weekday()==6:\n",
    "    resulting_date=resulting_date+timedelta(days=1)\n",
    "  loan_dates.append(resulting_date)\n",
    "  start_date=date(resulting_date.year,resulting_date.month,19)\n",
    "start_date = date(2007,1,19)\n",
    "#loan_dates"
   ],
   "execution_count":648,
   "outputs":[
    
   ],
   "metadata":{
    "datalore":{
     "node_id":"BOzd9A3uSUbipDQQDUTScU",
     "type":"CODE",
     "hide_input_from_viewers":false,
     "hide_output_from_viewers":false,
     "report_properties":{
      "y":277
     }
    }
   }
  },
  {
   "cell_type":"code",
   "source":[
    "#Create a list with number of days beetwen today and future date in year fractions\n",
    "nr_days=[]\n",
    "for a in range(0,len(loan_dates)):\n",
    "    if a ==0:\n",
    "      pass\n",
    "    else:\n",
    "      nr_days.append((loan_dates[a]-today_date).days\/365)\n",
    "nr_days"
   ],
   "execution_count":649,
   "outputs":[
    {
     "data":{
      "text\/plain":[
       "[0.5068493150684932,\n",
       " 1.0164383561643835,\n",
       " 1.515068493150685,\n",
       " 2.0136986301369864,\n",
       " 2.5123287671232877,\n",
       " 3.0136986301369864,\n",
       " 3.5095890410958903,\n",
       " 4.013698630136986,\n",
       " 4.50958904109589,\n",
       " 5.013698630136986,\n",
       " 5.512328767123288,\n",
       " 6.021917808219178,\n",
       " 6.512328767123288,\n",
       " 7.019178082191781,\n",
       " 7.517808219178082,\n",
       " 8.016438356164384,\n",
       " 8.515068493150684,\n",
       " 9.016438356164384,\n",
       " 9.515068493150684,\n",
       " 10.01917808219178,\n",
       " 10.515068493150684,\n",
       " 11.01917808219178,\n",
       " 11.515068493150684,\n",
       " 12.024657534246575,\n",
       " 12.515068493150684,\n",
       " 13.021917808219179,\n",
       " 13.520547945205479,\n",
       " 14.021917808219179,\n",
       " 14.517808219178082,\n",
       " 15.021917808219179]"
      ]
     },
     "metadata":{
      
     },
     "output_type":"display_data"
    }
   ],
   "metadata":{
    "datalore":{
     "node_id":"gmqKQhDbNlEuHjRZ0oMT0F",
     "type":"CODE",
     "hide_input_from_viewers":false,
     "hide_output_from_viewers":false,
     "report_properties":{
      "y":283
     }
    }
   }
  },
  {
   "cell_type":"code",
   "source":[
    "y=np.array(yield_curve.zero_rate.values)\n",
    "x=np.array(yield_curve.index.values)\n",
    "y_interp = interp1d(x,y)\n",
    " \n",
    "# Finding the interpolation\n",
    "interpolated_rates=[]\n",
    "for a in nr_days:\n",
    "  interpolate_x=a\n",
    "  interpolated_rates.append(float(y_interp(interpolate_x)))\n",
    "interpolated_rates"
   ],
   "execution_count":650,
   "outputs":[
    {
     "data":{
      "text\/plain":[
       "[0.038818530831127684,\n",
       " 0.0401785480772134,\n",
       " 0.04096106935894772,\n",
       " 0.04172244627297853,\n",
       " 0.04173531257030465,\n",
       " 0.04174825530203538,\n",
       " 0.04176125871019032,\n",
       " 0.04177540709209084,\n",
       " 0.041822056504942834,\n",
       " 0.04187087887849022,\n",
       " 0.041968737505568496,\n",
       " 0.0420683090732121,\n",
       " 0.04215475890475419,\n",
       " 0.04224594754610628,\n",
       " 0.04238171355993787,\n",
       " 0.04251715209004331,\n",
       " 0.04264298443084846,\n",
       " 0.04276977762419703,\n",
       " 0.04290378376868447,\n",
       " 0.04303887093294358,\n",
       " 0.04316201576346114,\n",
       " 0.043286799221674215,\n",
       " 0.04339953792666865,\n",
       " 0.043465482029131246,\n",
       " 0.04258434181141895,\n",
       " 0.04167366616741463,\n",
       " 0.04077775823655632,\n",
       " 0.03987692773464934,\n",
       " 0.038985942374839704,\n",
       " 0.03808843304905318]"
      ]
     },
     "metadata":{
      
     },
     "output_type":"display_data"
    }
   ],
   "metadata":{
    "datalore":{
     "node_id":"uTgwKaKNG1IHlEpXuD76Rp",
     "type":"CODE",
     "hide_input_from_viewers":false,
     "hide_output_from_viewers":false,
     "report_properties":{
      "y":286
     }
    }
   }
  },
  {
   "cell_type":"code",
   "source":[
    "notional=1748653.15\n",
    "installemnts=np.full(30,1748653.15)\n",
    "int_pay=installemnts*interpolated_rates\n",
    "int_pay[len(int_pay)-1]=notional*(1+interpolated_rates[len(interpolated_rates)-1])\n",
    "int_pay"
   ],
   "execution_count":651,
   "outputs":[
    {
     "data":{
      "text\/html":[
       "<pre>array([  67880.14621622,   70258.34465765,   71626.70296189,\n",
       "         72958.08710095,   72980.5857923 ,   73003.21814091,\n",
       "         73025.95659154,   73050.69720412,   73132.27084685,\n",
       "         73217.64424414,   73388.76504064,   73562.88117605,\n",
       "         73714.05194629,   73873.50925123,   74110.91691898,\n",
       "         74347.75193128,   74567.7890504 ,   74789.50636735,\n",
       "         75023.83663403,   75260.05722934,   75475.39482513,\n",
       "         75693.5978124 ,   75890.73870401,   76006.05206651,\n",
       "         74465.24344921,   72872.7876157 ,   71306.15539029,\n",
       "         69730.91529552,   68172.89093948, 1815256.60842979])<\/pre>"
      ]
     },
     "metadata":{
      
     },
     "output_type":"display_data"
    }
   ],
   "metadata":{
    "datalore":{
     "node_id":"VALtNNh6rtfuX7AiuTuMLG",
     "type":"CODE",
     "hide_input_from_viewers":false,
     "hide_output_from_viewers":false,
     "report_properties":{
      "y":292
     }
    }
   }
  },
  {
   "cell_type":"code",
   "source":[
    "#Question 2a)\n",
    "#The company is Party A\n",
    "swap_notional=1748653.15\n",
    "start_swap=loan_dates[0]\n",
    "maturity_swap=loan_dates[-1]\n",
    "#Party A Receives Euribor 6m, half yearly, act\/360\n",
    "#Party A Pays xxxxxxxx, half yearly, act\/360"
   ],
   "execution_count":652,
   "outputs":[
    
   ],
   "metadata":{
    "datalore":{
     "node_id":"L0XV25qDHuXMBjm6WwDhEk",
     "type":"CODE",
     "hide_input_from_viewers":true,
     "hide_output_from_viewers":true
    }
   }
  },
  {
   "cell_type":"code",
   "source":[
    "#create a copy of yield_curve DataFrame\n",
    "yield_curve_swap = yield_curve.copy()"
   ],
   "execution_count":653,
   "outputs":[
    
   ],
   "metadata":{
    "datalore":{
     "node_id":"EuiyUbzagUJTQTTk3QoCFu",
     "type":"CODE",
     "hide_input_from_viewers":true,
     "hide_output_from_viewers":true
    }
   }
  },
  {
   "cell_type":"code",
   "source":[
    "def getDF(dt):\n",
    "    #interpolate Discount Factor to calculate forwards\n",
    "    x = (dt - start_date).days\n",
    "    return np.interp(x, yield_curve_swap.days, yield_curve_swap.df)\n",
    "\n",
    "def getFwd(start, end):\n",
    "    #Calculate Forward\n",
    "    DF0 = getDF(start)\n",
    "    DF1 = getDF(end)\n",
    "    n = (end - start).days \/ 360\n",
    "    return (DF0 \/ DF1 - 1) \/ n"
   ],
   "execution_count":654,
   "outputs":[
    
   ],
   "metadata":{
    "datalore":{
     "node_id":"zKkrlJXgKZeALOLF58UC9m",
     "type":"CODE",
     "hide_input_from_viewers":true,
     "hide_output_from_viewers":true
    }
   }
  },
  {
   "cell_type":"code",
   "source":[
    "#get floating leg\n",
    "pd.options.display.float_format = '{:,.5f}'.format\n",
    "float_leg = pd.DataFrame({\n",
    "    'notional': swap_notional,\n",
    "    'start': loan_dates[:-1],\n",
    "    'end': loan_dates[1:]\n",
    "})\n",
    "\n",
    "float_leg['dcf'] = float_leg.apply(lambda x: (x.end - x.start).days \/ 360, axis=1)\n",
    "float_leg['fwd'] = float_leg.apply(lambda row: getFwd(row.start, row.end), axis=1)\n",
    "float_leg.loc[0, 'fwd'] = yield_curve_swap.loc[0.5, 'par_rate']\/100\n",
    "float_leg['cf'] = float_leg.notional * float_leg.dcf * float_leg.fwd\n",
    "float_leg['df'] = float_leg.end.apply(getDF)\n",
    "float_leg['pv'] = float_leg.cf * float_leg.df\n",
    "\n",
    "\n",
    "float_leg_pv = float_leg.pv.sum()\n",
    "print(f\"PV of float leg is: {float_leg_pv:,.2f}\")\n",
    "float_leg"
   ],
   "execution_count":655,
   "outputs":[
    {
     "name":"stdout",
     "text":[
      "PV of float leg is: 892,971.57\n"
     ],
     "output_type":"stream"
    },
    {
     "data":{
      "text\/html":[
       "<div>\n",
       "<style scoped>\n",
       "    .dataframe tbody tr th:only-of-type {\n",
       "        vertical-align: middle;\n",
       "    }\n",
       "\n",
       "    .dataframe tbody tr th {\n",
       "        vertical-align: top;\n",
       "    }\n",
       "\n",
       "    .dataframe thead th {\n",
       "        text-align: right;\n",
       "    }\n",
       "<\/style>\n",
       "<table border=\"1\" class=\"dataframe\">\n",
       "  <thead>\n",
       "    <tr style=\"text-align: right;\">\n",
       "      <th><\/th>\n",
       "      <th>notional<\/th>\n",
       "      <th>start<\/th>\n",
       "      <th>end<\/th>\n",
       "      <th>dcf<\/th>\n",
       "      <th>fwd<\/th>\n",
       "      <th>cf<\/th>\n",
       "      <th>df<\/th>\n",
       "      <th>pv<\/th>\n",
       "    <\/tr>\n",
       "  <\/thead>\n",
       "  <tbody>\n",
       "    <tr>\n",
       "      <th>0<\/th>\n",
       "      <td>1,748,653.15000<\/td>\n",
       "      <td>2007-01-19<\/td>\n",
       "      <td>2007-07-19<\/td>\n",
       "      <td>0.50278<\/td>\n",
       "      <td>0.03880<\/td>\n",
       "      <td>34,112.33706<\/td>\n",
       "      <td>0.98097<\/td>\n",
       "      <td>33,463.15191<\/td>\n",
       "    <\/tr>\n",
       "    <tr>\n",
       "      <th>1<\/th>\n",
       "      <td>1,748,653.15000<\/td>\n",
       "      <td>2007-07-19<\/td>\n",
       "      <td>2008-01-21<\/td>\n",
       "      <td>0.51667<\/td>\n",
       "      <td>0.03985<\/td>\n",
       "      <td>36,003.43733<\/td>\n",
       "      <td>0.96118<\/td>\n",
       "      <td>34,605.75683<\/td>\n",
       "    <\/tr>\n",
       "    <tr>\n",
       "      <th>2<\/th>\n",
       "      <td>1,748,653.15000<\/td>\n",
       "      <td>2008-01-21<\/td>\n",
       "      <td>2008-07-21<\/td>\n",
       "      <td>0.50556<\/td>\n",
       "      <td>0.04169<\/td>\n",
       "      <td>36,852.68842<\/td>\n",
       "      <td>0.94134<\/td>\n",
       "      <td>34,690.93149<\/td>\n",
       "    <\/tr>\n",
       "    <tr>\n",
       "      <th>3<\/th>\n",
       "      <td>1,748,653.15000<\/td>\n",
       "      <td>2008-07-21<\/td>\n",
       "      <td>2009-01-19<\/td>\n",
       "      <td>0.50556<\/td>\n",
       "      <td>0.04258<\/td>\n",
       "      <td>37,646.07566<\/td>\n",
       "      <td>0.92150<\/td>\n",
       "      <td>34,690.93149<\/td>\n",
       "    <\/tr>\n",
       "    <tr>\n",
       "      <th>4<\/th>\n",
       "      <td>1,748,653.15000<\/td>\n",
       "      <td>2009-01-19<\/td>\n",
       "      <td>2009-07-20<\/td>\n",
       "      <td>0.50556<\/td>\n",
       "      <td>0.04038<\/td>\n",
       "      <td>35,698.16367<\/td>\n",
       "      <td>0.90307<\/td>\n",
       "      <td>32,237.80296<\/td>\n",
       "    <\/tr>\n",
       "    <tr>\n",
       "      <th>5<\/th>\n",
       "      <td>1,748,653.15000<\/td>\n",
       "      <td>2009-07-20<\/td>\n",
       "      <td>2010-01-19<\/td>\n",
       "      <td>0.50833<\/td>\n",
       "      <td>0.04123<\/td>\n",
       "      <td>36,646.54485<\/td>\n",
       "      <td>0.88453<\/td>\n",
       "      <td>32,414.93374<\/td>\n",
       "    <\/tr>\n",
       "    <tr>\n",
       "      <th>6<\/th>\n",
       "      <td>1,748,653.15000<\/td>\n",
       "      <td>2010-01-19<\/td>\n",
       "      <td>2010-07-19<\/td>\n",
       "      <td>0.50278<\/td>\n",
       "      <td>0.04043<\/td>\n",
       "      <td>35,542.35504<\/td>\n",
       "      <td>0.86691<\/td>\n",
       "      <td>30,811.97511<\/td>\n",
       "    <\/tr>\n",
       "    <tr>\n",
       "      <th>7<\/th>\n",
       "      <td>1,748,653.15000<\/td>\n",
       "      <td>2010-07-19<\/td>\n",
       "      <td>2011-01-19<\/td>\n",
       "      <td>0.51111<\/td>\n",
       "      <td>0.04128<\/td>\n",
       "      <td>36,893.77046<\/td>\n",
       "      <td>0.84900<\/td>\n",
       "      <td>31,322.67083<\/td>\n",
       "    <\/tr>\n",
       "    <tr>\n",
       "      <th>8<\/th>\n",
       "      <td>1,748,653.15000<\/td>\n",
       "      <td>2011-01-19<\/td>\n",
       "      <td>2011-07-19<\/td>\n",
       "      <td>0.50278<\/td>\n",
       "      <td>0.04080<\/td>\n",
       "      <td>35,868.12115<\/td>\n",
       "      <td>0.83193<\/td>\n",
       "      <td>29,839.82821<\/td>\n",
       "    <\/tr>\n",
       "    <tr>\n",
       "      <th>9<\/th>\n",
       "      <td>1,748,653.15000<\/td>\n",
       "      <td>2011-07-19<\/td>\n",
       "      <td>2012-01-19<\/td>\n",
       "      <td>0.51111<\/td>\n",
       "      <td>0.04167<\/td>\n",
       "      <td>37,239.12433<\/td>\n",
       "      <td>0.81458<\/td>\n",
       "      <td>30,334.41100<\/td>\n",
       "    <\/tr>\n",
       "    <tr>\n",
       "      <th>10<\/th>\n",
       "      <td>1,748,653.15000<\/td>\n",
       "      <td>2012-01-19<\/td>\n",
       "      <td>2012-07-19<\/td>\n",
       "      <td>0.50556<\/td>\n",
       "      <td>0.04144<\/td>\n",
       "      <td>36,637.96498<\/td>\n",
       "      <td>0.79787<\/td>\n",
       "      <td>29,232.23900<\/td>\n",
       "    <\/tr>\n",
       "    <tr>\n",
       "      <th>11<\/th>\n",
       "      <td>1,748,653.15000<\/td>\n",
       "      <td>2012-07-19<\/td>\n",
       "      <td>2013-01-21<\/td>\n",
       "      <td>0.51667<\/td>\n",
       "      <td>0.04234<\/td>\n",
       "      <td>38,248.52240<\/td>\n",
       "      <td>0.78079<\/td>\n",
       "      <td>29,864.03041<\/td>\n",
       "    <\/tr>\n",
       "    <tr>\n",
       "      <th>12<\/th>\n",
       "      <td>1,748,653.15000<\/td>\n",
       "      <td>2013-01-21<\/td>\n",
       "      <td>2013-07-19<\/td>\n",
       "      <td>0.49722<\/td>\n",
       "      <td>0.04179<\/td>\n",
       "      <td>36,338.28982<\/td>\n",
       "      <td>0.76489<\/td>\n",
       "      <td>27,794.94238<\/td>\n",
       "    <\/tr>\n",
       "    <tr>\n",
       "      <th>13<\/th>\n",
       "      <td>1,748,653.15000<\/td>\n",
       "      <td>2013-07-19<\/td>\n",
       "      <td>2014-01-20<\/td>\n",
       "      <td>0.51389<\/td>\n",
       "      <td>0.04271<\/td>\n",
       "      <td>38,376.88780<\/td>\n",
       "      <td>0.74847<\/td>\n",
       "      <td>28,723.86442<\/td>\n",
       "    <\/tr>\n",
       "    <tr>\n",
       "      <th>14<\/th>\n",
       "      <td>1,748,653.15000<\/td>\n",
       "      <td>2014-01-20<\/td>\n",
       "      <td>2014-07-21<\/td>\n",
       "      <td>0.50556<\/td>\n",
       "      <td>0.04286<\/td>\n",
       "      <td>37,892.69503<\/td>\n",
       "      <td>0.73259<\/td>\n",
       "      <td>27,759.91421<\/td>\n",
       "    <\/tr>\n",
       "    <tr>\n",
       "      <th>15<\/th>\n",
       "      <td>1,748,653.15000<\/td>\n",
       "      <td>2014-07-21<\/td>\n",
       "      <td>2015-01-19<\/td>\n",
       "      <td>0.50556<\/td>\n",
       "      <td>0.04381<\/td>\n",
       "      <td>38,732.00385<\/td>\n",
       "      <td>0.71672<\/td>\n",
       "      <td>27,759.91421<\/td>\n",
       "    <\/tr>\n",
       "    <tr>\n",
       "      <th>16<\/th>\n",
       "      <td>1,748,653.15000<\/td>\n",
       "      <td>2015-01-19<\/td>\n",
       "      <td>2015-07-20<\/td>\n",
       "      <td>0.50556<\/td>\n",
       "      <td>0.04320<\/td>\n",
       "      <td>38,193.05719<\/td>\n",
       "      <td>0.70140<\/td>\n",
       "      <td>26,788.54194<\/td>\n",
       "    <\/tr>\n",
       "    <tr>\n",
       "      <th>17<\/th>\n",
       "      <td>1,748,653.15000<\/td>\n",
       "      <td>2015-07-20<\/td>\n",
       "      <td>2016-01-19<\/td>\n",
       "      <td>0.50833<\/td>\n",
       "      <td>0.04417<\/td>\n",
       "      <td>39,265.22941<\/td>\n",
       "      <td>0.68599<\/td>\n",
       "      <td>26,935.73173<\/td>\n",
       "    <\/tr>\n",
       "    <tr>\n",
       "      <th>18<\/th>\n",
       "      <td>1,748,653.15000<\/td>\n",
       "      <td>2016-01-19<\/td>\n",
       "      <td>2016-07-19<\/td>\n",
       "      <td>0.50556<\/td>\n",
       "      <td>0.04371<\/td>\n",
       "      <td>38,643.10204<\/td>\n",
       "      <td>0.67116<\/td>\n",
       "      <td>25,935.80609<\/td>\n",
       "    <\/tr>\n",
       "    <tr>\n",
       "      <th>19<\/th>\n",
       "      <td>1,748,653.15000<\/td>\n",
       "      <td>2016-07-19<\/td>\n",
       "      <td>2017-01-19<\/td>\n",
       "      <td>0.51111<\/td>\n",
       "      <td>0.04471<\/td>\n",
       "      <td>39,960.53476<\/td>\n",
       "      <td>0.65617<\/td>\n",
       "      <td>26,220.81495<\/td>\n",
       "    <\/tr>\n",
       "    <tr>\n",
       "      <th>20<\/th>\n",
       "      <td>1,748,653.15000<\/td>\n",
       "      <td>2017-01-19<\/td>\n",
       "      <td>2017-07-19<\/td>\n",
       "      <td>0.50278<\/td>\n",
       "      <td>0.04412<\/td>\n",
       "      <td>38,793.08917<\/td>\n",
       "      <td>0.64193<\/td>\n",
       "      <td>24,902.32776<\/td>\n",
       "    <\/tr>\n",
       "    <tr>\n",
       "      <th>21<\/th>\n",
       "      <td>1,748,653.15000<\/td>\n",
       "      <td>2017-07-19<\/td>\n",
       "      <td>2018-01-19<\/td>\n",
       "      <td>0.51111<\/td>\n",
       "      <td>0.04514<\/td>\n",
       "      <td>40,345.96087<\/td>\n",
       "      <td>0.62745<\/td>\n",
       "      <td>25,315.07352<\/td>\n",
       "    <\/tr>\n",
       "    <tr>\n",
       "      <th>22<\/th>\n",
       "      <td>1,748,653.15000<\/td>\n",
       "      <td>2018-01-19<\/td>\n",
       "      <td>2018-07-19<\/td>\n",
       "      <td>0.50278<\/td>\n",
       "      <td>0.04435<\/td>\n",
       "      <td>38,995.92599<\/td>\n",
       "      <td>0.61376<\/td>\n",
       "      <td>23,934.24726<\/td>\n",
       "    <\/tr>\n",
       "    <tr>\n",
       "      <th>23<\/th>\n",
       "      <td>1,748,653.15000<\/td>\n",
       "      <td>2018-07-19<\/td>\n",
       "      <td>2019-01-21<\/td>\n",
       "      <td>0.51667<\/td>\n",
       "      <td>0.04556<\/td>\n",
       "      <td>41,162.95178<\/td>\n",
       "      <td>0.59965<\/td>\n",
       "      <td>24,683.24818<\/td>\n",
       "    <\/tr>\n",
       "    <tr>\n",
       "      <th>24<\/th>\n",
       "      <td>1,748,653.15000<\/td>\n",
       "      <td>2019-01-21<\/td>\n",
       "      <td>2019-07-19<\/td>\n",
       "      <td>0.49722<\/td>\n",
       "      <td>0.06235<\/td>\n",
       "      <td>54,212.62689<\/td>\n",
       "      <td>0.58162<\/td>\n",
       "      <td>31,530.91190<\/td>\n",
       "    <\/tr>\n",
       "    <tr>\n",
       "      <th>25<\/th>\n",
       "      <td>1,748,653.15000<\/td>\n",
       "      <td>2019-07-19<\/td>\n",
       "      <td>2020-01-20<\/td>\n",
       "      <td>0.51389<\/td>\n",
       "      <td>0.06442<\/td>\n",
       "      <td>57,884.52828<\/td>\n",
       "      <td>0.56298<\/td>\n",
       "      <td>32,587.81397<\/td>\n",
       "    <\/tr>\n",
       "    <tr>\n",
       "      <th>26<\/th>\n",
       "      <td>1,748,653.15000<\/td>\n",
       "      <td>2020-01-20<\/td>\n",
       "      <td>2020-07-20<\/td>\n",
       "      <td>0.50556<\/td>\n",
       "      <td>0.06658<\/td>\n",
       "      <td>58,862.75866<\/td>\n",
       "      <td>0.54465<\/td>\n",
       "      <td>32,059.36293<\/td>\n",
       "    <\/tr>\n",
       "    <tr>\n",
       "      <th>27<\/th>\n",
       "      <td>1,748,653.15000<\/td>\n",
       "      <td>2020-07-20<\/td>\n",
       "      <td>2021-01-19<\/td>\n",
       "      <td>0.50833<\/td>\n",
       "      <td>0.06892<\/td>\n",
       "      <td>61,259.61778<\/td>\n",
       "      <td>0.52621<\/td>\n",
       "      <td>32,235.51328<\/td>\n",
       "    <\/tr>\n",
       "    <tr>\n",
       "      <th>28<\/th>\n",
       "      <td>1,748,653.15000<\/td>\n",
       "      <td>2021-01-19<\/td>\n",
       "      <td>2021-07-19<\/td>\n",
       "      <td>0.50278<\/td>\n",
       "      <td>0.07139<\/td>\n",
       "      <td>62,764.89148<\/td>\n",
       "      <td>0.50798<\/td>\n",
       "      <td>31,883.21259<\/td>\n",
       "    <\/tr>\n",
       "    <tr>\n",
       "      <th>29<\/th>\n",
       "      <td>1,748,653.15000<\/td>\n",
       "      <td>2021-07-19<\/td>\n",
       "      <td>2022-01-19<\/td>\n",
       "      <td>0.51111<\/td>\n",
       "      <td>0.07409<\/td>\n",
       "      <td>66,221.49629<\/td>\n",
       "      <td>0.48944<\/td>\n",
       "      <td>32,411.66362<\/td>\n",
       "    <\/tr>\n",
       "  <\/tbody>\n",
       "<\/table>\n",
       "<\/div>"
      ]
     },
     "metadata":{
      
     },
     "output_type":"display_data"
    }
   ],
   "metadata":{
    "datalore":{
     "node_id":"uU644Fxk0PoWbDXbvQTu0W",
     "type":"CODE",
     "hide_input_from_viewers":true,
     "hide_output_from_viewers":true
    }
   }
  },
  {
   "cell_type":"code",
   "source":[
    "# Create Fix leg DataFrame\n",
    "fixed_leg = pd.DataFrame({\n",
    "    'notional': swap_notional,\n",
    "    'start': loan_dates[::2][:-1],\n",
    "    'end': loan_dates[::2][1:]\n",
    "})\n",
    "\n",
    "fixed_leg['dcf'] = 1\n",
    "fixed_leg['df'] = fixed_leg.end.apply(getDF)"
   ],
   "execution_count":656,
   "outputs":[
    
   ],
   "metadata":{
    "datalore":{
     "node_id":"Tg1YtqI7jpKezOJIl9owqM",
     "type":"CODE",
     "hide_input_from_viewers":true,
     "hide_output_from_viewers":true
    }
   }
  },
  {
   "cell_type":"code",
   "source":[
    "#getting swap rate with matrix algebra\n",
    "fixed_rate = float_leg_pv \/ (fixed_leg.notional *  fixed_leg.dcf * fixed_leg.df).sum()\n",
    "print(f\"Fair fixed rate is: {fixed_rate*100}%\")"
   ],
   "execution_count":657,
   "outputs":[
    {
     "name":"stdout",
     "text":[
      "Fair fixed rate is: 4.717584814493502%\n"
     ],
     "output_type":"stream"
    }
   ],
   "metadata":{
    "datalore":{
     "node_id":"rH7PCv07W11lTL7RUQYbgt",
     "type":"CODE",
     "hide_input_from_viewers":true,
     "hide_output_from_viewers":true
    }
   }
  },
  {
   "cell_type":"code",
   "source":[
    "def swapPv(rate):\n",
    "    #Present Value of the swap\n",
    "    fxd = fixed_leg.copy()\n",
    "    fixed_leg_pv = (fxd.notional * fxd.dcf * fxd.df * rate).sum()\n",
    "    return fixed_leg_pv - float_leg_pv\n",
    "\n",
    "\n",
    "res = root(swapPv, 0)\n",
    "fixed_rate1 = res['x'][0]\n",
    "\n",
    "print(f\"Fixed rate Matrix Algebra:\\t {fixed_rate * 100:.4f}%\")\n",
    "print(f\"Fixed rate Optimization:\\t {fixed_rate1 * 100:.4f}%\")"
   ],
   "execution_count":658,
   "outputs":[
    {
     "name":"stdout",
     "text":[
      "Fixed rate Matrix Algebra:\t 4.7176%\n",
      "Fixed rate Optimization:\t 4.7176%\n"
     ],
     "output_type":"stream"
    }
   ],
   "metadata":{
    "datalore":{
     "node_id":"XoUpEm0mrYTE9i8CSbDkA0",
     "type":"CODE",
     "hide_input_from_viewers":true,
     "hide_output_from_viewers":true
    }
   }
  },
  {
   "cell_type":"code",
   "source":[
    "#Add new columns to fixe_leg DataFrame\n",
    "fixed_leg['rate'] = fixed_rate\n",
    "fixed_leg['cashflow'] = fixed_leg.notional * fixed_leg.dcf * fixed_leg.rate\n",
    "fixed_leg['pv'] = fixed_leg.cashflow * fixed_leg.df\n",
    "\n",
    "\n",
    "fixed_leg_pv = fixed_leg.pv.sum()\n",
    "print(f\"Present Value of Fixed Leg is: {fixed_leg_pv:,.2f}\")\n",
    "\n",
    "fixed_leg"
   ],
   "execution_count":659,
   "outputs":[
    {
     "name":"stdout",
     "text":[
      "Present Value of Fixed Leg is: 892,971.57\n"
     ],
     "output_type":"stream"
    },
    {
     "data":{
      "text\/html":[
       "<div>\n",
       "<style scoped>\n",
       "    .dataframe tbody tr th:only-of-type {\n",
       "        vertical-align: middle;\n",
       "    }\n",
       "\n",
       "    .dataframe tbody tr th {\n",
       "        vertical-align: top;\n",
       "    }\n",
       "\n",
       "    .dataframe thead th {\n",
       "        text-align: right;\n",
       "    }\n",
       "<\/style>\n",
       "<table border=\"1\" class=\"dataframe\">\n",
       "  <thead>\n",
       "    <tr style=\"text-align: right;\">\n",
       "      <th><\/th>\n",
       "      <th>notional<\/th>\n",
       "      <th>start<\/th>\n",
       "      <th>end<\/th>\n",
       "      <th>dcf<\/th>\n",
       "      <th>df<\/th>\n",
       "      <th>rate<\/th>\n",
       "      <th>cashflow<\/th>\n",
       "      <th>pv<\/th>\n",
       "    <\/tr>\n",
       "  <\/thead>\n",
       "  <tbody>\n",
       "    <tr>\n",
       "      <th>0<\/th>\n",
       "      <td>1,748,653.15000<\/td>\n",
       "      <td>2007-01-19<\/td>\n",
       "      <td>2008-01-21<\/td>\n",
       "      <td>1<\/td>\n",
       "      <td>0.96118<\/td>\n",
       "      <td>0.04718<\/td>\n",
       "      <td>82,494.19546<\/td>\n",
       "      <td>79,291.70880<\/td>\n",
       "    <\/tr>\n",
       "    <tr>\n",
       "      <th>1<\/th>\n",
       "      <td>1,748,653.15000<\/td>\n",
       "      <td>2008-01-21<\/td>\n",
       "      <td>2009-01-19<\/td>\n",
       "      <td>1<\/td>\n",
       "      <td>0.92150<\/td>\n",
       "      <td>0.04718<\/td>\n",
       "      <td>82,494.19546<\/td>\n",
       "      <td>76,018.56057<\/td>\n",
       "    <\/tr>\n",
       "    <tr>\n",
       "      <th>2<\/th>\n",
       "      <td>1,748,653.15000<\/td>\n",
       "      <td>2009-01-19<\/td>\n",
       "      <td>2010-01-19<\/td>\n",
       "      <td>1<\/td>\n",
       "      <td>0.88453<\/td>\n",
       "      <td>0.04718<\/td>\n",
       "      <td>82,494.19546<\/td>\n",
       "      <td>72,968.51288<\/td>\n",
       "    <\/tr>\n",
       "    <tr>\n",
       "      <th>3<\/th>\n",
       "      <td>1,748,653.15000<\/td>\n",
       "      <td>2010-01-19<\/td>\n",
       "      <td>2011-01-19<\/td>\n",
       "      <td>1<\/td>\n",
       "      <td>0.84900<\/td>\n",
       "      <td>0.04718<\/td>\n",
       "      <td>82,494.19546<\/td>\n",
       "      <td>70,037.25826<\/td>\n",
       "    <\/tr>\n",
       "    <tr>\n",
       "      <th>4<\/th>\n",
       "      <td>1,748,653.15000<\/td>\n",
       "      <td>2011-01-19<\/td>\n",
       "      <td>2012-01-19<\/td>\n",
       "      <td>1<\/td>\n",
       "      <td>0.81458<\/td>\n",
       "      <td>0.04718<\/td>\n",
       "      <td>82,494.19546<\/td>\n",
       "      <td>67,198.48748<\/td>\n",
       "    <\/tr>\n",
       "    <tr>\n",
       "      <th>5<\/th>\n",
       "      <td>1,748,653.15000<\/td>\n",
       "      <td>2012-01-19<\/td>\n",
       "      <td>2013-01-21<\/td>\n",
       "      <td>1<\/td>\n",
       "      <td>0.78079<\/td>\n",
       "      <td>0.04718<\/td>\n",
       "      <td>82,494.19546<\/td>\n",
       "      <td>64,410.57085<\/td>\n",
       "    <\/tr>\n",
       "    <tr>\n",
       "      <th>6<\/th>\n",
       "      <td>1,748,653.15000<\/td>\n",
       "      <td>2013-01-21<\/td>\n",
       "      <td>2014-01-20<\/td>\n",
       "      <td>1<\/td>\n",
       "      <td>0.74847<\/td>\n",
       "      <td>0.04718<\/td>\n",
       "      <td>82,494.19546<\/td>\n",
       "      <td>61,744.24821<\/td>\n",
       "    <\/tr>\n",
       "    <tr>\n",
       "      <th>7<\/th>\n",
       "      <td>1,748,653.15000<\/td>\n",
       "      <td>2014-01-20<\/td>\n",
       "      <td>2015-01-19<\/td>\n",
       "      <td>1<\/td>\n",
       "      <td>0.71672<\/td>\n",
       "      <td>0.04718<\/td>\n",
       "      <td>82,494.19546<\/td>\n",
       "      <td>59,125.05321<\/td>\n",
       "    <\/tr>\n",
       "    <tr>\n",
       "      <th>8<\/th>\n",
       "      <td>1,748,653.15000<\/td>\n",
       "      <td>2015-01-19<\/td>\n",
       "      <td>2016-01-19<\/td>\n",
       "      <td>1<\/td>\n",
       "      <td>0.68599<\/td>\n",
       "      <td>0.04718<\/td>\n",
       "      <td>82,494.19546<\/td>\n",
       "      <td>56,590.56504<\/td>\n",
       "    <\/tr>\n",
       "    <tr>\n",
       "      <th>9<\/th>\n",
       "      <td>1,748,653.15000<\/td>\n",
       "      <td>2016-01-19<\/td>\n",
       "      <td>2017-01-19<\/td>\n",
       "      <td>1<\/td>\n",
       "      <td>0.65617<\/td>\n",
       "      <td>0.04718<\/td>\n",
       "      <td>82,494.19546<\/td>\n",
       "      <td>54,130.03220<\/td>\n",
       "    <\/tr>\n",
       "    <tr>\n",
       "      <th>10<\/th>\n",
       "      <td>1,748,653.15000<\/td>\n",
       "      <td>2017-01-19<\/td>\n",
       "      <td>2018-01-19<\/td>\n",
       "      <td>1<\/td>\n",
       "      <td>0.62745<\/td>\n",
       "      <td>0.04718<\/td>\n",
       "      <td>82,494.19546<\/td>\n",
       "      <td>51,760.98370<\/td>\n",
       "    <\/tr>\n",
       "    <tr>\n",
       "      <th>11<\/th>\n",
       "      <td>1,748,653.15000<\/td>\n",
       "      <td>2018-01-19<\/td>\n",
       "      <td>2019-01-21<\/td>\n",
       "      <td>1<\/td>\n",
       "      <td>0.59965<\/td>\n",
       "      <td>0.04718<\/td>\n",
       "      <td>82,494.19546<\/td>\n",
       "      <td>49,467.41212<\/td>\n",
       "    <\/tr>\n",
       "    <tr>\n",
       "      <th>12<\/th>\n",
       "      <td>1,748,653.15000<\/td>\n",
       "      <td>2019-01-21<\/td>\n",
       "      <td>2020-01-20<\/td>\n",
       "      <td>1<\/td>\n",
       "      <td>0.56298<\/td>\n",
       "      <td>0.04718<\/td>\n",
       "      <td>82,494.19546<\/td>\n",
       "      <td>46,442.55685<\/td>\n",
       "    <\/tr>\n",
       "    <tr>\n",
       "      <th>13<\/th>\n",
       "      <td>1,748,653.15000<\/td>\n",
       "      <td>2020-01-20<\/td>\n",
       "      <td>2021-01-19<\/td>\n",
       "      <td>1<\/td>\n",
       "      <td>0.52621<\/td>\n",
       "      <td>0.04718<\/td>\n",
       "      <td>82,494.19546<\/td>\n",
       "      <td>43,409.39153<\/td>\n",
       "    <\/tr>\n",
       "    <tr>\n",
       "      <th>14<\/th>\n",
       "      <td>1,748,653.15000<\/td>\n",
       "      <td>2021-01-19<\/td>\n",
       "      <td>2022-01-19<\/td>\n",
       "      <td>1<\/td>\n",
       "      <td>0.48944<\/td>\n",
       "      <td>0.04718<\/td>\n",
       "      <td>82,494.19546<\/td>\n",
       "      <td>40,376.22621<\/td>\n",
       "    <\/tr>\n",
       "  <\/tbody>\n",
       "<\/table>\n",
       "<\/div>"
      ]
     },
     "metadata":{
      
     },
     "output_type":"display_data"
    }
   ],
   "metadata":{
    "datalore":{
     "node_id":"gfVUkIcv01vMvO50gFh4pj",
     "type":"CODE",
     "hide_input_from_viewers":true,
     "hide_output_from_viewers":true
    }
   }
  },
  {
   "cell_type":"code",
   "source":[
    "#Question 2b)\n",
    "pv01 = (fixed_leg.notional * fixed_leg.dcf * 0.0001 * fixed_leg.df).sum()\n",
    "\n",
    "print(f\"Present value of 1 bps on the fixed leg is: EUR {pv01:,.2f}\")"
   ],
   "execution_count":660,
   "outputs":[
    {
     "name":"stdout",
     "text":[
      "Present value of 1 bps on the fixed leg is: EUR 1,892.86\n"
     ],
     "output_type":"stream"
    }
   ],
   "metadata":{
    "datalore":{
     "node_id":"Liqtk48tEfXRHYB6NO9V5L",
     "type":"CODE",
     "hide_input_from_viewers":true,
     "hide_output_from_viewers":true
    }
   }
  },
  {
   "cell_type":"code",
   "source":[
    "#Question 2c)\n",
    "\n",
    "#Create DataFrame exercise 2)\n",
    "fixed_leg_2c = pd.DataFrame({\n",
    "    'notional': swap_notional,\n",
    "    'start': loan_dates[::1][:-1],\n",
    "    'end': loan_dates[::1][1:]\n",
    "})\n",
    "\n",
    "fixed_leg_2c['dcf'] = 1\n",
    "fixed_leg_2c['df'] = fixed_leg.end.apply(getDF)\n",
    "#Complete the dataFrame with new data\n",
    "fixed_leg_2c['rate'] = fixed_rate+0.0005\n",
    "fixed_leg_2c['cashflow'] = fixed_leg_2c.notional * fixed_leg_2c.dcf * fixed_leg_2c.rate\n",
    "fixed_leg_2c['pv'] = fixed_leg_2c.cashflow * fixed_leg_2c.df\n",
    "\n",
    "\n",
    "fixed_leg_pv_2c = fixed_leg_2c.pv.sum()\n",
    "print(f\"Present Value of Fixed Leg, with the fee, is: {fixed_leg_pv_2c:,.2f}\")"
   ],
   "execution_count":661,
   "outputs":[
    {
     "name":"stdout",
     "text":[
      "Present Value of Fixed Leg, with the fee, is: 902,435.86\n"
     ],
     "output_type":"stream"
    }
   ],
   "metadata":{
    "datalore":{
     "node_id":"5Mm946FVoJJoRh0zHdFvWm",
     "type":"CODE",
     "hide_input_from_viewers":true,
     "hide_output_from_viewers":true
    }
   }
  },
  {
   "cell_type":"code",
   "source":[
    "#Alternative way to calculate question 2c\n",
    "pv05 = (fixed_leg.notional * fixed_leg.dcf * 0.0005 * fixed_leg.df).sum()\n",
    "result_pv05 = fixed_leg_pv + pv05\n",
    "print(f\"The price of this swap considering that the counterparty charges 5bps is: {result_pv05:.3f}\")"
   ],
   "execution_count":662,
   "outputs":[
    {
     "name":"stdout",
     "text":[
      "The price of this swap considering that the counterparty charges 5bps is: 902435.855\n"
     ],
     "output_type":"stream"
    }
   ],
   "metadata":{
    "datalore":{
     "node_id":"0ohruDrQrG1d8nlo464Ppg",
     "type":"CODE",
     "hide_input_from_viewers":true,
     "hide_output_from_viewers":true
    }
   }
  },
  {
   "cell_type":"code",
   "source":[
    "#Question 2d)\n",
    "\n",
    "#The market value of this swap\n",
    "market_value = fixed_leg_pv - float_leg_pv\n",
    "print(f\"The market value the swap at the trade date is: {market_value}\")"
   ],
   "execution_count":663,
   "outputs":[
    {
     "name":"stdout",
     "text":[
      "The market value the swap at the trade date is: 2.3283064365386963e-10\n"
     ],
     "output_type":"stream"
    }
   ],
   "metadata":{
    "datalore":{
     "node_id":"IHb4H5U8H4sP7J8OsH2hZY",
     "type":"CODE",
     "hide_input_from_viewers":true,
     "hide_output_from_viewers":true
    }
   }
  },
  {
   "cell_type":"code",
   "source":[
    "#Market value with 5bps fee\n",
    "market_value_fee = fixed_leg_pv_2c - float_leg_pv\n",
    "print(f\"Market value with 5bps fee is: {market_value_fee}\")"
   ],
   "execution_count":664,
   "outputs":[
    {
     "name":"stdout",
     "text":[
      "Market value with 5bps fee is: 9464.287373986212\n"
     ],
     "output_type":"stream"
    }
   ],
   "metadata":{
    "datalore":{
     "node_id":"eo2iMa5KWlb2BRwbSLzMsk",
     "type":"CODE",
     "hide_input_from_viewers":true,
     "hide_output_from_viewers":true
    }
   }
  },
  {
   "cell_type":"code",
   "source":[
    "#Qustion 2e)\n",
    "\n",
    "#Set our dates\n",
    "beg_date=date(2007,1,31)\n",
    "last_date=date(2020,11,30)\n",
    "delta=(last_date-beg_date).days\n",
    "\n",
    "#Create a DataFrame with dates from start to finish day by day\n",
    "hist_dates=pd.date_range(beg_date,last_date,freq='d')"
   ],
   "execution_count":665,
   "outputs":[
    
   ],
   "metadata":{
    "datalore":{
     "node_id":"8FzEwwFmfCN0x2tMvf3Dan",
     "type":"CODE",
     "hide_input_from_viewers":true,
     "hide_output_from_viewers":true
    }
   }
  },
  {
   "cell_type":"code",
   "source":[
    "def getDF2(dt):\n",
    "    #interpolate Discount Factor to calculate forwards\n",
    "    x = (dt - start_date).days\n",
    "    return np.interp(x, yield_curve_hist.days, yield_curve_hist.df)\n",
    "\n",
    "def getFwd2(start, end):\n",
    "    #Calculate Forward\n",
    "    DF0 = getDF2(start)\n",
    "    DF1 = getDF2(end)\n",
    "    n = (end - start).days \/ 360\n",
    "    return (DF0 \/ DF1 - 1) \/ n"
   ],
   "execution_count":666,
   "outputs":[
    
   ],
   "metadata":{
    "datalore":{
     "node_id":"QxvHnIsVpt8nmsFqsxFUio",
     "type":"CODE",
     "hide_input_from_viewers":true,
     "hide_output_from_viewers":true
    }
   }
  },
  {
   "cell_type":"code",
   "source":[
    "#Loop to calcalute the mrket value\n",
    "market_value_hist=[]\n",
    "picked_dates=[]\n",
    "for b in hist_dates:\n",
    "    try:\n",
    "        swaps_hist=swaps.loc[str(b)].to_frame()\n",
    "        swaps_hist.columns=['par_rate']\n",
    "        swaps_hist.reset_index(inplace=True)\n",
    "        swaps_hist[['instrument', 'maturity']] = swaps_hist['index'].str.split(' ', expand=True) #splitting the index column to have a columns with only the name of the product\n",
    "        swaps_hist[\"maturity\"] = swaps_hist[\"maturity\"].apply(lambda x: x + \"M\" if \"X\" in x else x) #adding a M to the FRAs maturities\n",
    "        swaps_hist['maturity_fra'] = swaps_hist['maturity'].str.split('X').str[1] #getting the maturity of the fra\n",
    "        swaps_hist.loc[swaps_hist[\"instrument\"] == \"FRA\", \"maturity\"] = swaps_hist[\"maturity_fra\"] #getting the new maturity\n",
    "        swaps_hist[\"year_frac\"] = swaps_hist[\"maturity\"].apply(extract_number)\n",
    "        swaps_hist.set_index('index',inplace=True)\n",
    "        forward_hist=swaps_hist.loc['FRA 6X12', 'par_rate']\n",
    "        one_year_rate_hist=(((1+swaps_hist.loc['Deposit 6M', 'par_rate'])**swaps_hist.loc['Deposit 6M', 'year_frac'])*(1+forward_hist)**(1-swaps_hist.loc['Deposit 6M', 'year_frac']))-1\n",
    "        yield_curve_hist = swaps_hist[swaps_hist.index.str.contains(\"FRA\") == False]\n",
    "        one_year_rate_frame_hist = pd.DataFrame([[one_year_rate_hist,'-','1Y','-',1.0]],\n",
    "            index=['Swap 1Y'],\n",
    "            columns=['par_rate', 'instrument','maturity','maturity_fra','year_frac'])\n",
    "        yield_curve_hist=yield_curve_hist.append(one_year_rate_frame_hist)\n",
    "        yield_curve_hist.set_index('year_frac',inplace=True)\n",
    "        yield_curve_hist.loc[0.5, 'df'] = 1 \/ (1 + (yield_curve_hist.loc[0.5, 'par_rate']\/100) * 0.5)\n",
    "        yield_curve_hist.loc[0.5, 'zero_rate'] = yield_curve_hist.loc[0.5, 'par_rate']\/100\n",
    "        yield_curve_hist.loc[1, 'df'] = 1 \/ (1 + yield_curve_hist.loc[1, 'par_rate']\/100 * 1)\n",
    "        yield_curve_hist.loc[1, 'zero_rate'] = yield_curve_hist.loc[1, 'par_rate']\/100\n",
    "        yield_curve_hist=yield_curve_hist.sort_index()\n",
    "        yield_curve_hist[\"Tenor\"]= yield_curve_hist.index\n",
    "        yield_curve_hist['maturity'] = [b+relativedelta(months=+6)] + [date(b.year +int(n), b.month, b.day) for n in yield_curve_hist.index[1:]]\n",
    "        for n in range(0,len(yield_curve_hist['maturity'])):\n",
    "            yield_curve_hist.iloc[n,2]=date(yield_curve_hist.iloc[n,2].year,yield_curve_hist.iloc[n,2].month,yield_curve_hist.iloc[n,2].day)\n",
    "        yield_curve_hist['days'] = yield_curve_hist.maturity.apply(lambda x: (x - date(b.year,b.month,b.day)).days)\n",
    "        idx_hist=0\n",
    "        row_hist=0\n",
    "        for idx_hist, row_hist in yield_curve_hist.loc[2:].iterrows():\n",
    "            prev_dfs = yield_curve_hist.loc[1:idx_hist-1].df.sum()\n",
    "            yield_curve_hist.loc[idx_hist, 'df'] = (1 - row_hist.par_rate\/100 * prev_dfs) \/ (1+row_hist.par_rate\/100)\n",
    "        for a in yield_curve_hist.index[2:]:\n",
    "            yield_curve_hist.loc[a,'zero_rate']=((1\/yield_curve_hist.loc[a,'df'])**(1\/a))-1\n",
    "        b = date(b.year,b.month,b.day)\n",
    "        \n",
    "        pd.options.display.float_format = '{:,.5f}'.format\n",
    "        float_leg_hist = pd.DataFrame({'notional': swap_notional,'start': loan_dates[:-1],'end': loan_dates[1:]})\n",
    "        float_leg_hist['dcf'] = float_leg_hist.apply(lambda x: (x.end - x.start).days \/ 360, axis=1)\n",
    "        float_leg_hist['fwd'] = float_leg_hist.apply(lambda row: getFwd2(row.start, row.end), axis=1)\n",
    "        float_leg_hist.loc[0, 'fwd'] = yield_curve_hist.loc[0.5, 'par_rate']\/100\n",
    "        float_leg_hist['cf'] = float_leg_hist.notional * float_leg_hist.dcf * float_leg_hist.fwd\n",
    "        float_leg_hist['df'] = float_leg_hist.end.apply(getDF)\n",
    "        float_leg_hist['pv'] = float_leg_hist.cf * float_leg_hist.df\n",
    "        for n in range(0,len(float_leg_hist['notional'])):\n",
    "            if  b>=float_leg_hist.iloc[n,2]:\n",
    "                float_leg_hist.iloc[n,7]=0\n",
    "        float_leg_hist_pv = float_leg_hist.pv.sum()\n",
    "        \n",
    "        \n",
    "        fixed_leg_hist = pd.DataFrame({'notional': swap_notional,'start': loan_dates[::2][:-1],'end': loan_dates[::2][1:]})\n",
    "        fixed_leg_hist['dcf'] = 1\n",
    "        fixed_leg_hist['df'] = fixed_leg_hist.end.apply(getDF)\n",
    "        fixed_leg_hist['rate'] = fixed_rate\n",
    "        fixed_leg_hist['cashflow'] = fixed_leg_hist.notional * fixed_leg_hist.dcf * fixed_leg_hist.rate\n",
    "        fixed_leg_hist['pv'] = fixed_leg_hist.cashflow * fixed_leg_hist.df\n",
    "        for n in range(0,len(fixed_leg_hist['notional'])):\n",
    "            if  b>=fixed_leg_hist.iloc[n,2]:\n",
    "                fixed_leg_hist.iloc[n,7]=0\n",
    "        fixed_leg_hist_pv = fixed_leg_hist.pv.sum()\n",
    "        \n",
    "        mk_value_hist=fixed_leg_hist_pv-float_leg_hist_pv\n",
    "        \n",
    "        \n",
    "        market_value_hist.append(mk_value_hist)\n",
    "        picked_dates.append(str(b))\n",
    "    \n",
    "    except:\n",
    "        continue"
   ],
   "execution_count":667,
   "outputs":[
    
   ],
   "metadata":{
    "datalore":{
     "node_id":"lLcIoEghlqbS97Bu3jfSVc",
     "type":"CODE",
     "hide_input_from_viewers":true,
     "hide_output_from_viewers":true
    }
   }
  },
  {
   "cell_type":"code",
   "source":[
    "available_dates=swaps.index\n",
    "available_dates=pd.DataFrame(available_dates)\n",
    "\n",
    "available_dates = available_dates.loc[(available_dates['Date'] >= '2007-01-31')\n",
    "                     & (available_dates['Date'] <= '2020-11-30')]"
   ],
   "execution_count":668,
   "outputs":[
    
   ],
   "metadata":{
    "datalore":{
     "node_id":"SAcZTC5jm83fUMul2f4stJ",
     "type":"CODE",
     "hide_input_from_viewers":true,
     "hide_output_from_viewers":true
    }
   }
  },
  {
   "cell_type":"code",
   "source":[
    "#Question 2f)\n",
    "\n",
    "#create a DataFrame with the same dates for market value and 15Y swap\n",
    "#market value and dates\n",
    "market_value_df = pd.DataFrame({'Dates': picked_dates,\n",
    "                   'Value': market_value_hist})\n",
    "#Fix 15Y Swap data lenght\n",
    "swp15 = swaps_data[swaps_data[\"Unnamed: 0\"].isin(picked_dates)]\n",
    "market_value_df['15Y_Swap'] =swp15[\"Swap 15Y\"].tolist()\n",
    "# convert the date column to a datetime object\n",
    "market_value_df['Dates'] = pd.to_datetime(market_value_df['Dates'])\n",
    "market_value_df"
   ],
   "execution_count":669,
   "outputs":[
    {
     "data":{
      "text\/html":[
       "<div>\n",
       "<style scoped>\n",
       "    .dataframe tbody tr th:only-of-type {\n",
       "        vertical-align: middle;\n",
       "    }\n",
       "\n",
       "    .dataframe tbody tr th {\n",
       "        vertical-align: top;\n",
       "    }\n",
       "\n",
       "    .dataframe thead th {\n",
       "        text-align: right;\n",
       "    }\n",
       "<\/style>\n",
       "<table border=\"1\" class=\"dataframe\">\n",
       "  <thead>\n",
       "    <tr style=\"text-align: right;\">\n",
       "      <th><\/th>\n",
       "      <th>Dates<\/th>\n",
       "      <th>Value<\/th>\n",
       "      <th>15Y_Swap<\/th>\n",
       "    <\/tr>\n",
       "  <\/thead>\n",
       "  <tbody>\n",
       "    <tr>\n",
       "      <th>0<\/th>\n",
       "      <td>2007-01-31<\/td>\n",
       "      <td>137,088.20255<\/td>\n",
       "      <td>4.42780<\/td>\n",
       "    <\/tr>\n",
       "    <tr>\n",
       "      <th>1<\/th>\n",
       "      <td>2007-02-01<\/td>\n",
       "      <td>138,723.68918<\/td>\n",
       "      <td>4.41700<\/td>\n",
       "    <\/tr>\n",
       "    <tr>\n",
       "      <th>2<\/th>\n",
       "      <td>2007-02-02<\/td>\n",
       "      <td>142,705.99179<\/td>\n",
       "      <td>4.39300<\/td>\n",
       "    <\/tr>\n",
       "    <tr>\n",
       "      <th>3<\/th>\n",
       "      <td>2007-02-05<\/td>\n",
       "      <td>147,425.46780<\/td>\n",
       "      <td>4.36600<\/td>\n",
       "    <\/tr>\n",
       "    <tr>\n",
       "      <th>4<\/th>\n",
       "      <td>2007-02-06<\/td>\n",
       "      <td>150,710.44769<\/td>\n",
       "      <td>4.34550<\/td>\n",
       "    <\/tr>\n",
       "    <tr>\n",
       "      <th>...<\/th>\n",
       "      <td>...<\/td>\n",
       "      <td>...<\/td>\n",
       "      <td>...<\/td>\n",
       "    <\/tr>\n",
       "    <tr>\n",
       "      <th>3601<\/th>\n",
       "      <td>2020-11-24<\/td>\n",
       "      <td>78,255.31165<\/td>\n",
       "      <td>-0.03800<\/td>\n",
       "    <\/tr>\n",
       "    <tr>\n",
       "      <th>3602<\/th>\n",
       "      <td>2020-11-25<\/td>\n",
       "      <td>78,321.95962<\/td>\n",
       "      <td>-0.04500<\/td>\n",
       "    <\/tr>\n",
       "    <tr>\n",
       "      <th>3603<\/th>\n",
       "      <td>2020-11-26<\/td>\n",
       "      <td>78,405.43953<\/td>\n",
       "      <td>-0.06200<\/td>\n",
       "    <\/tr>\n",
       "    <tr>\n",
       "      <th>3604<\/th>\n",
       "      <td>2020-11-27<\/td>\n",
       "      <td>78,596.34377<\/td>\n",
       "      <td>-0.06800<\/td>\n",
       "    <\/tr>\n",
       "    <tr>\n",
       "      <th>3605<\/th>\n",
       "      <td>2020-11-30<\/td>\n",
       "      <td>78,549.75992<\/td>\n",
       "      <td>-0.06170<\/td>\n",
       "    <\/tr>\n",
       "  <\/tbody>\n",
       "<\/table>\n",
       "<p>3606 rows × 3 columns<\/p>\n",
       "<\/div>"
      ]
     },
     "metadata":{
      
     },
     "output_type":"display_data"
    }
   ],
   "metadata":{
    "datalore":{
     "node_id":"XG5UwrhL70ILKalTzjGK13",
     "type":"CODE",
     "hide_input_from_viewers":true,
     "hide_output_from_viewers":true
    }
   }
  },
  {
   "cell_type":"code",
   "source":[
    "# plot for question 2f\n",
    "\n",
    "y = market_value_df['Value']\n",
    "x = market_value_df['Dates']\n",
    "fig, ax = plt.subplots(figsize=(20, 10))\n",
    "# plot market value\n",
    "ax.plot(x, y, color='red', label=\"Market Value in Euros\")\n",
    "# set the x-axis limits to the range of dates in the data\n",
    "ax.set_xlim(market_value_df['Dates'].min(), market_value_df['Dates'].max())\n",
    "# format the x-axis as dates\n",
    "xfmt = mdates.DateFormatter('%Y-%m-%d')\n",
    "ax.xaxis.set_major_formatter(xfmt)\n",
    "# plot 15Y SWAP\n",
    "ax2 = ax.twinx()\n",
    "ax2.plot(x, market_value_df['15Y_Swap'], color='green', label='15Y SWAP in %')\n",
    "ax.legend(loc='upper center')\n",
    "ax2.legend(loc='upper right')\n",
    "plt.show()\n"
   ],
   "execution_count":670,
   "outputs":[
    {
     "data":{
      "image\/png":"[encoded data removed]"
     },
     "metadata":{
      "image\/png":{
       
      }
     },
     "output_type":"display_data"
    }
   ],
   "metadata":{
    "datalore":{
     "node_id":"1aLmDAoJBT66LhiD1GBmBN",
     "type":"CODE",
     "hide_input_from_viewers":true,
     "hide_output_from_viewers":true
    }
   }
  },
  {
   "cell_type":"code",
   "source":[
    "#Commenting on the graph\n",
    "'''\n",
    "The relation we observe in this graph is an inverse one.\n",
    "As the swap rate is increasing, the market value of the swap decreases. The inverse is also true.\n",
    "This graph shows the market value of the swap for the party that is long, the bank in this case.\n",
    "So naturally, given that the bank is paying the euribor 6m, and receiving a fixed rate, when the euribor 6m incrases, the market value of the swap is decreasing.\n",
    "'''"
   ],
   "execution_count":671,
   "outputs":[
    {
     "data":{
      "text\/plain":[
       "'\\nThe relation we observe in this graph is an inverse one.\\nAs the swap rate is increasing, the market value of the swap decreases. The inverse is also true.\\nThis graph shows the market value of the swap for the party that is long, the bank in this case.\\nSo naturally, given that the bank is paying the euribor 6m, and receiving a fixed rate, when the euribor 6m incrases, the market value of the swap is decreasing.\\n'"
      ]
     },
     "metadata":{
      
     },
     "output_type":"display_data"
    }
   ],
   "metadata":{
    "datalore":{
     "node_id":"3YMq4CtyPCJz4Nkxmwmy5a",
     "type":"CODE",
     "hide_input_from_viewers":true,
     "hide_output_from_viewers":true
    }
   }
  },
  {
   "cell_type":"code",
   "source":[
    "#Question 2g)\n",
    "\n",
    "#calculate the market value for 18\/December\n",
    "b=date(2020,12,18)\n",
    "swaps_hist_dez18=swaps.loc[str(b)].to_frame()\n",
    "swaps_hist_dez18.columns=['par_rate']\n",
    "swaps_hist_dez18.reset_index(inplace=True)\n",
    "swaps_hist_dez18[['instrument', 'maturity']] = swaps_hist_dez18['index'].str.split(' ', expand=True) #splitting the index column to have a columns with only the name of the product\n",
    "swaps_hist_dez18[\"maturity\"] = swaps_hist_dez18[\"maturity\"].apply(lambda x: x + \"M\" if \"X\" in x else x) #adding a M to the FRAs maturities\n",
    "swaps_hist_dez18['maturity_fra'] = swaps_hist_dez18['maturity'].str.split('X').str[1] #getting the maturity of the fra\n",
    "swaps_hist_dez18.loc[swaps_hist_dez18[\"instrument\"] == \"FRA\", \"maturity\"] = swaps_hist_dez18[\"maturity_fra\"] #getting the new maturity\n",
    "swaps_hist_dez18[\"year_frac\"] = swaps_hist_dez18[\"maturity\"].apply(extract_number)\n",
    "swaps_hist_dez18.set_index('index',inplace=True)\n",
    "forward_hist_dez18=swaps_hist_dez18.loc['FRA 6X12', 'par_rate']\n",
    "one_year_rate_hist_dez18=(((1+swaps_hist_dez18.loc['Deposit 6M', 'par_rate'])**swaps_hist_dez18.loc['Deposit 6M', 'year_frac'])*(1+forward_hist_dez18)**(1-swaps_hist_dez18.loc['Deposit 6M', 'year_frac']))-1\n",
    "yield_curve_hist_dez18 = swaps_hist_dez18[swaps_hist_dez18.index.str.contains(\"FRA\") == False]\n",
    "one_year_rate_hist_dez18 = pd.DataFrame([[one_year_rate_hist_dez18,'-','1Y','-',1.0]],\n",
    "    index=['Swap 1Y'],\n",
    "    columns=['par_rate', 'instrument','maturity','maturity_fra','year_frac'])\n",
    "yield_curve_hist_dez18=yield_curve_hist_dez18.append(one_year_rate_hist_dez18)\n",
    "yield_curve_hist_dez18.set_index('year_frac',inplace=True)\n",
    "yield_curve_hist_dez18.loc[0.5, 'df'] = 1 \/ (1 + (yield_curve_hist_dez18.loc[0.5, 'par_rate']\/100) * 0.5)\n",
    "yield_curve_hist_dez18.loc[0.5, 'zero_rate'] = yield_curve_hist_dez18.loc[0.5, 'par_rate']\/100\n",
    "yield_curve_hist_dez18.loc[1, 'df'] = 1 \/ (1 + yield_curve_hist_dez18.loc[1, 'par_rate']\/100 * 1)\n",
    "yield_curve_hist_dez18.loc[1, 'zero_rate'] = yield_curve_hist_dez18.loc[1, 'par_rate']\/100\n",
    "yield_curve_hist_dez18=yield_curve_hist_dez18.sort_index()\n",
    "yield_curve_hist_dez18[\"Tenor\"]= yield_curve_hist_dez18.index\n",
    "yield_curve_hist_dez18['maturity'] = [b+relativedelta(months=+6)] + [date(b.year +int(n), b.month, b.day) for n in yield_curve_hist_dez18.index[1:]]\n",
    "for n in range(0,len(yield_curve_hist_dez18['maturity'])):\n",
    "    yield_curve_hist_dez18.iloc[n,2]=date(yield_curve_hist_dez18.iloc[n,2].year,yield_curve_hist_dez18.iloc[n,2].month,yield_curve_hist_dez18.iloc[n,2].day)\n",
    "yield_curve_hist_dez18['days'] = yield_curve_hist_dez18.maturity.apply(lambda x: (x - date(b.year,b.month,b.day)).days)\n",
    "idx_hist=0\n",
    "row_hist=0\n",
    "for idx_hist, row_hist in yield_curve_hist_dez18.loc[2:].iterrows():\n",
    "    prev_dfs = yield_curve_hist_dez18.loc[1:idx_hist-1].df.sum()\n",
    "    yield_curve_hist_dez18.loc[idx_hist, 'df'] = (1 - row_hist.par_rate\/100 * prev_dfs) \/ (1+row_hist.par_rate\/100)\n",
    "for a in yield_curve_hist_dez18.index[2:]:\n",
    "    yield_curve_hist_dez18.loc[a,'zero_rate']=((1\/yield_curve_hist_dez18.loc[a,'df'])**(1\/a))-1\n",
    "b = date(b.year,b.month,b.day)\n",
    "\n",
    "pd.options.display.float_format = '{:,.5f}'.format\n",
    "float_leg_hist_dez18 = pd.DataFrame({'notional': swap_notional, 'start': loan_dates[:-1], 'end': loan_dates[1:]})\n",
    "float_leg_hist_dez18['dcf'] = float_leg_hist_dez18.apply(lambda x: (x.end - x.start).days \/ 360, axis=1)\n",
    "float_leg_hist_dez18['fwd'] = float_leg_hist_dez18.apply(lambda row: getFwd(row.start, row.end), axis=1)\n",
    "float_leg_hist_dez18.loc[0, 'fwd'] = yield_curve_hist_dez18.loc[0.5, 'par_rate'] \/ 100\n",
    "float_leg_hist_dez18['cf'] = float_leg_hist_dez18.notional * float_leg_hist_dez18.dcf * float_leg_hist_dez18.fwd\n",
    "float_leg_hist_dez18['df'] = float_leg_hist_dez18.end.apply(getDF)\n",
    "float_leg_hist_dez18['pv'] = float_leg_hist_dez18.cf * float_leg_hist_dez18.df\n",
    "for n in range(0, len(float_leg_hist_dez18['notional'])):\n",
    "    if  b>=float_leg_hist_dez18.iloc[n, 2]:\n",
    "        float_leg_hist_dez18.iloc[n, 7]=0\n",
    "float_leg_hist_pv_dez18 = float_leg_hist_dez18.pv.sum()\n",
    "fixed_leg_hist_dez18 = pd.DataFrame({'notional': swap_notional, 'start': loan_dates[::2][:-1], 'end': loan_dates[::2][1:]})\n",
    "fixed_leg_hist_dez18['dcf'] = 1\n",
    "fixed_leg_hist_dez18['df'] = fixed_leg_hist_dez18.end.apply(getDF)\n",
    "fixed_leg_hist_dez18['rate'] = fixed_rate\n",
    "fixed_leg_hist_dez18['cashflow'] = fixed_leg_hist_dez18.notional * fixed_leg_hist_dez18.dcf * fixed_leg_hist_dez18.rate\n",
    "fixed_leg_hist_dez18['pv'] = fixed_leg_hist_dez18.cashflow * fixed_leg_hist_dez18.df\n",
    "for n in range(0, len(fixed_leg_hist_dez18['notional'])):\n",
    "    if  b>=fixed_leg_hist_dez18.iloc[n, 2]:\n",
    "        fixed_leg_hist_dez18.iloc[n, 7]=0\n",
    "fixed_leg_hist_pv_dez18 = fixed_leg_hist_dez18.pv.sum()\n",
    "\n",
    "mk_value_hist_dez18=fixed_leg_hist_pv_dez18-float_leg_hist_pv_dez18\n",
    "print(\"Market values is \", mk_value_hist_dez18)"
   ],
   "execution_count":672,
   "outputs":[
    {
     "name":"stdout",
     "text":[
      "Market values is  -12744.771745715741\n"
     ],
     "output_type":"stream"
    }
   ],
   "metadata":{
    "datalore":{
     "node_id":"VqZXfM470WtpOOMcGXBQsP",
     "type":"CODE",
     "hide_input_from_viewers":true,
     "hide_output_from_viewers":true
    }
   }
  },
  {
   "cell_type":"code",
   "source":[
    "#2g)\n",
    "float_leg_hist_dez18"
   ],
   "execution_count":673,
   "outputs":[
    {
     "data":{
      "text\/html":[
       "<div>\n",
       "<style scoped>\n",
       "    .dataframe tbody tr th:only-of-type {\n",
       "        vertical-align: middle;\n",
       "    }\n",
       "\n",
       "    .dataframe tbody tr th {\n",
       "        vertical-align: top;\n",
       "    }\n",
       "\n",
       "    .dataframe thead th {\n",
       "        text-align: right;\n",
       "    }\n",
       "<\/style>\n",
       "<table border=\"1\" class=\"dataframe\">\n",
       "  <thead>\n",
       "    <tr style=\"text-align: right;\">\n",
       "      <th><\/th>\n",
       "      <th>notional<\/th>\n",
       "      <th>start<\/th>\n",
       "      <th>end<\/th>\n",
       "      <th>dcf<\/th>\n",
       "      <th>fwd<\/th>\n",
       "      <th>cf<\/th>\n",
       "      <th>df<\/th>\n",
       "      <th>pv<\/th>\n",
       "    <\/tr>\n",
       "  <\/thead>\n",
       "  <tbody>\n",
       "    <tr>\n",
       "      <th>0<\/th>\n",
       "      <td>1,748,653.15000<\/td>\n",
       "      <td>2007-01-19<\/td>\n",
       "      <td>2007-07-19<\/td>\n",
       "      <td>0.50278<\/td>\n",
       "      <td>-0.00520<\/td>\n",
       "      <td>-4,571.75651<\/td>\n",
       "      <td>0.98097<\/td>\n",
       "      <td>0.00000<\/td>\n",
       "    <\/tr>\n",
       "    <tr>\n",
       "      <th>1<\/th>\n",
       "      <td>1,748,653.15000<\/td>\n",
       "      <td>2007-07-19<\/td>\n",
       "      <td>2008-01-21<\/td>\n",
       "      <td>0.51667<\/td>\n",
       "      <td>0.03985<\/td>\n",
       "      <td>36,003.43733<\/td>\n",
       "      <td>0.96118<\/td>\n",
       "      <td>0.00000<\/td>\n",
       "    <\/tr>\n",
       "    <tr>\n",
       "      <th>2<\/th>\n",
       "      <td>1,748,653.15000<\/td>\n",
       "      <td>2008-01-21<\/td>\n",
       "      <td>2008-07-21<\/td>\n",
       "      <td>0.50556<\/td>\n",
       "      <td>0.04169<\/td>\n",
       "      <td>36,852.68842<\/td>\n",
       "      <td>0.94134<\/td>\n",
       "      <td>0.00000<\/td>\n",
       "    <\/tr>\n",
       "    <tr>\n",
       "      <th>3<\/th>\n",
       "      <td>1,748,653.15000<\/td>\n",
       "      <td>2008-07-21<\/td>\n",
       "      <td>2009-01-19<\/td>\n",
       "      <td>0.50556<\/td>\n",
       "      <td>0.04258<\/td>\n",
       "      <td>37,646.07566<\/td>\n",
       "      <td>0.92150<\/td>\n",
       "      <td>0.00000<\/td>\n",
       "    <\/tr>\n",
       "    <tr>\n",
       "      <th>4<\/th>\n",
       "      <td>1,748,653.15000<\/td>\n",
       "      <td>2009-01-19<\/td>\n",
       "      <td>2009-07-20<\/td>\n",
       "      <td>0.50556<\/td>\n",
       "      <td>0.04038<\/td>\n",
       "      <td>35,698.16367<\/td>\n",
       "      <td>0.90307<\/td>\n",
       "      <td>0.00000<\/td>\n",
       "    <\/tr>\n",
       "    <tr>\n",
       "      <th>5<\/th>\n",
       "      <td>1,748,653.15000<\/td>\n",
       "      <td>2009-07-20<\/td>\n",
       "      <td>2010-01-19<\/td>\n",
       "      <td>0.50833<\/td>\n",
       "      <td>0.04123<\/td>\n",
       "      <td>36,646.54485<\/td>\n",
       "      <td>0.88453<\/td>\n",
       "      <td>0.00000<\/td>\n",
       "    <\/tr>\n",
       "    <tr>\n",
       "      <th>6<\/th>\n",
       "      <td>1,748,653.15000<\/td>\n",
       "      <td>2010-01-19<\/td>\n",
       "      <td>2010-07-19<\/td>\n",
       "      <td>0.50278<\/td>\n",
       "      <td>0.04043<\/td>\n",
       "      <td>35,542.35504<\/td>\n",
       "      <td>0.86691<\/td>\n",
       "      <td>0.00000<\/td>\n",
       "    <\/tr>\n",
       "    <tr>\n",
       "      <th>7<\/th>\n",
       "      <td>1,748,653.15000<\/td>\n",
       "      <td>2010-07-19<\/td>\n",
       "      <td>2011-01-19<\/td>\n",
       "      <td>0.51111<\/td>\n",
       "      <td>0.04128<\/td>\n",
       "      <td>36,893.77046<\/td>\n",
       "      <td>0.84900<\/td>\n",
       "      <td>0.00000<\/td>\n",
       "    <\/tr>\n",
       "    <tr>\n",
       "      <th>8<\/th>\n",
       "      <td>1,748,653.15000<\/td>\n",
       "      <td>2011-01-19<\/td>\n",
       "      <td>2011-07-19<\/td>\n",
       "      <td>0.50278<\/td>\n",
       "      <td>0.04080<\/td>\n",
       "      <td>35,868.12115<\/td>\n",
       "      <td>0.83193<\/td>\n",
       "      <td>0.00000<\/td>\n",
       "    <\/tr>\n",
       "    <tr>\n",
       "      <th>9<\/th>\n",
       "      <td>1,748,653.15000<\/td>\n",
       "      <td>2011-07-19<\/td>\n",
       "      <td>2012-01-19<\/td>\n",
       "      <td>0.51111<\/td>\n",
       "      <td>0.04167<\/td>\n",
       "      <td>37,239.12433<\/td>\n",
       "      <td>0.81458<\/td>\n",
       "      <td>0.00000<\/td>\n",
       "    <\/tr>\n",
       "    <tr>\n",
       "      <th>10<\/th>\n",
       "      <td>1,748,653.15000<\/td>\n",
       "      <td>2012-01-19<\/td>\n",
       "      <td>2012-07-19<\/td>\n",
       "      <td>0.50556<\/td>\n",
       "      <td>0.04144<\/td>\n",
       "      <td>36,637.96498<\/td>\n",
       "      <td>0.79787<\/td>\n",
       "      <td>0.00000<\/td>\n",
       "    <\/tr>\n",
       "    <tr>\n",
       "      <th>11<\/th>\n",
       "      <td>1,748,653.15000<\/td>\n",
       "      <td>2012-07-19<\/td>\n",
       "      <td>2013-01-21<\/td>\n",
       "      <td>0.51667<\/td>\n",
       "      <td>0.04234<\/td>\n",
       "      <td>38,248.52240<\/td>\n",
       "      <td>0.78079<\/td>\n",
       "      <td>0.00000<\/td>\n",
       "    <\/tr>\n",
       "    <tr>\n",
       "      <th>12<\/th>\n",
       "      <td>1,748,653.15000<\/td>\n",
       "      <td>2013-01-21<\/td>\n",
       "      <td>2013-07-19<\/td>\n",
       "      <td>0.49722<\/td>\n",
       "      <td>0.04179<\/td>\n",
       "      <td>36,338.28982<\/td>\n",
       "      <td>0.76489<\/td>\n",
       "      <td>0.00000<\/td>\n",
       "    <\/tr>\n",
       "    <tr>\n",
       "      <th>13<\/th>\n",
       "      <td>1,748,653.15000<\/td>\n",
       "      <td>2013-07-19<\/td>\n",
       "      <td>2014-01-20<\/td>\n",
       "      <td>0.51389<\/td>\n",
       "      <td>0.04271<\/td>\n",
       "      <td>38,376.88780<\/td>\n",
       "      <td>0.74847<\/td>\n",
       "      <td>0.00000<\/td>\n",
       "    <\/tr>\n",
       "    <tr>\n",
       "      <th>14<\/th>\n",
       "      <td>1,748,653.15000<\/td>\n",
       "      <td>2014-01-20<\/td>\n",
       "      <td>2014-07-21<\/td>\n",
       "      <td>0.50556<\/td>\n",
       "      <td>0.04286<\/td>\n",
       "      <td>37,892.69503<\/td>\n",
       "      <td>0.73259<\/td>\n",
       "      <td>0.00000<\/td>\n",
       "    <\/tr>\n",
       "    <tr>\n",
       "      <th>15<\/th>\n",
       "      <td>1,748,653.15000<\/td>\n",
       "      <td>2014-07-21<\/td>\n",
       "      <td>2015-01-19<\/td>\n",
       "      <td>0.50556<\/td>\n",
       "      <td>0.04381<\/td>\n",
       "      <td>38,732.00385<\/td>\n",
       "      <td>0.71672<\/td>\n",
       "      <td>0.00000<\/td>\n",
       "    <\/tr>\n",
       "    <tr>\n",
       "      <th>16<\/th>\n",
       "      <td>1,748,653.15000<\/td>\n",
       "      <td>2015-01-19<\/td>\n",
       "      <td>2015-07-20<\/td>\n",
       "      <td>0.50556<\/td>\n",
       "      <td>0.04320<\/td>\n",
       "      <td>38,193.05719<\/td>\n",
       "      <td>0.70140<\/td>\n",
       "      <td>0.00000<\/td>\n",
       "    <\/tr>\n",
       "    <tr>\n",
       "      <th>17<\/th>\n",
       "      <td>1,748,653.15000<\/td>\n",
       "      <td>2015-07-20<\/td>\n",
       "      <td>2016-01-19<\/td>\n",
       "      <td>0.50833<\/td>\n",
       "      <td>0.04417<\/td>\n",
       "      <td>39,265.22941<\/td>\n",
       "      <td>0.68599<\/td>\n",
       "      <td>0.00000<\/td>\n",
       "    <\/tr>\n",
       "    <tr>\n",
       "      <th>18<\/th>\n",
       "      <td>1,748,653.15000<\/td>\n",
       "      <td>2016-01-19<\/td>\n",
       "      <td>2016-07-19<\/td>\n",
       "      <td>0.50556<\/td>\n",
       "      <td>0.04371<\/td>\n",
       "      <td>38,643.10204<\/td>\n",
       "      <td>0.67116<\/td>\n",
       "      <td>0.00000<\/td>\n",
       "    <\/tr>\n",
       "    <tr>\n",
       "      <th>19<\/th>\n",
       "      <td>1,748,653.15000<\/td>\n",
       "      <td>2016-07-19<\/td>\n",
       "      <td>2017-01-19<\/td>\n",
       "      <td>0.51111<\/td>\n",
       "      <td>0.04471<\/td>\n",
       "      <td>39,960.53476<\/td>\n",
       "      <td>0.65617<\/td>\n",
       "      <td>0.00000<\/td>\n",
       "    <\/tr>\n",
       "    <tr>\n",
       "      <th>20<\/th>\n",
       "      <td>1,748,653.15000<\/td>\n",
       "      <td>2017-01-19<\/td>\n",
       "      <td>2017-07-19<\/td>\n",
       "      <td>0.50278<\/td>\n",
       "      <td>0.04412<\/td>\n",
       "      <td>38,793.08917<\/td>\n",
       "      <td>0.64193<\/td>\n",
       "      <td>0.00000<\/td>\n",
       "    <\/tr>\n",
       "    <tr>\n",
       "      <th>21<\/th>\n",
       "      <td>1,748,653.15000<\/td>\n",
       "      <td>2017-07-19<\/td>\n",
       "      <td>2018-01-19<\/td>\n",
       "      <td>0.51111<\/td>\n",
       "      <td>0.04514<\/td>\n",
       "      <td>40,345.96087<\/td>\n",
       "      <td>0.62745<\/td>\n",
       "      <td>0.00000<\/td>\n",
       "    <\/tr>\n",
       "    <tr>\n",
       "      <th>22<\/th>\n",
       "      <td>1,748,653.15000<\/td>\n",
       "      <td>2018-01-19<\/td>\n",
       "      <td>2018-07-19<\/td>\n",
       "      <td>0.50278<\/td>\n",
       "      <td>0.04435<\/td>\n",
       "      <td>38,995.92599<\/td>\n",
       "      <td>0.61376<\/td>\n",
       "      <td>0.00000<\/td>\n",
       "    <\/tr>\n",
       "    <tr>\n",
       "      <th>23<\/th>\n",
       "      <td>1,748,653.15000<\/td>\n",
       "      <td>2018-07-19<\/td>\n",
       "      <td>2019-01-21<\/td>\n",
       "      <td>0.51667<\/td>\n",
       "      <td>0.04556<\/td>\n",
       "      <td>41,162.95178<\/td>\n",
       "      <td>0.59965<\/td>\n",
       "      <td>0.00000<\/td>\n",
       "    <\/tr>\n",
       "    <tr>\n",
       "      <th>24<\/th>\n",
       "      <td>1,748,653.15000<\/td>\n",
       "      <td>2019-01-21<\/td>\n",
       "      <td>2019-07-19<\/td>\n",
       "      <td>0.49722<\/td>\n",
       "      <td>0.06235<\/td>\n",
       "      <td>54,212.62689<\/td>\n",
       "      <td>0.58162<\/td>\n",
       "      <td>0.00000<\/td>\n",
       "    <\/tr>\n",
       "    <tr>\n",
       "      <th>25<\/th>\n",
       "      <td>1,748,653.15000<\/td>\n",
       "      <td>2019-07-19<\/td>\n",
       "      <td>2020-01-20<\/td>\n",
       "      <td>0.51389<\/td>\n",
       "      <td>0.06442<\/td>\n",
       "      <td>57,884.52828<\/td>\n",
       "      <td>0.56298<\/td>\n",
       "      <td>0.00000<\/td>\n",
       "    <\/tr>\n",
       "    <tr>\n",
       "      <th>26<\/th>\n",
       "      <td>1,748,653.15000<\/td>\n",
       "      <td>2020-01-20<\/td>\n",
       "      <td>2020-07-20<\/td>\n",
       "      <td>0.50556<\/td>\n",
       "      <td>0.06658<\/td>\n",
       "      <td>58,862.75866<\/td>\n",
       "      <td>0.54465<\/td>\n",
       "      <td>0.00000<\/td>\n",
       "    <\/tr>\n",
       "    <tr>\n",
       "      <th>27<\/th>\n",
       "      <td>1,748,653.15000<\/td>\n",
       "      <td>2020-07-20<\/td>\n",
       "      <td>2021-01-19<\/td>\n",
       "      <td>0.50833<\/td>\n",
       "      <td>0.06892<\/td>\n",
       "      <td>61,259.61778<\/td>\n",
       "      <td>0.52621<\/td>\n",
       "      <td>32,235.51328<\/td>\n",
       "    <\/tr>\n",
       "    <tr>\n",
       "      <th>28<\/th>\n",
       "      <td>1,748,653.15000<\/td>\n",
       "      <td>2021-01-19<\/td>\n",
       "      <td>2021-07-19<\/td>\n",
       "      <td>0.50278<\/td>\n",
       "      <td>0.07139<\/td>\n",
       "      <td>62,764.89148<\/td>\n",
       "      <td>0.50798<\/td>\n",
       "      <td>31,883.21259<\/td>\n",
       "    <\/tr>\n",
       "    <tr>\n",
       "      <th>29<\/th>\n",
       "      <td>1,748,653.15000<\/td>\n",
       "      <td>2021-07-19<\/td>\n",
       "      <td>2022-01-19<\/td>\n",
       "      <td>0.51111<\/td>\n",
       "      <td>0.07409<\/td>\n",
       "      <td>66,221.49629<\/td>\n",
       "      <td>0.48944<\/td>\n",
       "      <td>32,411.66362<\/td>\n",
       "    <\/tr>\n",
       "  <\/tbody>\n",
       "<\/table>\n",
       "<\/div>"
      ]
     },
     "metadata":{
      
     },
     "output_type":"display_data"
    }
   ],
   "metadata":{
    "datalore":{
     "node_id":"xsLOrdHybKysLfBVXweSQU",
     "type":"CODE",
     "hide_input_from_viewers":true,
     "hide_output_from_viewers":true
    }
   }
  },
  {
   "cell_type":"code",
   "source":[
    "#2g)\n",
    "fixed_leg_hist_dez18"
   ],
   "execution_count":674,
   "outputs":[
    {
     "data":{
      "text\/html":[
       "<div>\n",
       "<style scoped>\n",
       "    .dataframe tbody tr th:only-of-type {\n",
       "        vertical-align: middle;\n",
       "    }\n",
       "\n",
       "    .dataframe tbody tr th {\n",
       "        vertical-align: top;\n",
       "    }\n",
       "\n",
       "    .dataframe thead th {\n",
       "        text-align: right;\n",
       "    }\n",
       "<\/style>\n",
       "<table border=\"1\" class=\"dataframe\">\n",
       "  <thead>\n",
       "    <tr style=\"text-align: right;\">\n",
       "      <th><\/th>\n",
       "      <th>notional<\/th>\n",
       "      <th>start<\/th>\n",
       "      <th>end<\/th>\n",
       "      <th>dcf<\/th>\n",
       "      <th>df<\/th>\n",
       "      <th>rate<\/th>\n",
       "      <th>cashflow<\/th>\n",
       "      <th>pv<\/th>\n",
       "    <\/tr>\n",
       "  <\/thead>\n",
       "  <tbody>\n",
       "    <tr>\n",
       "      <th>0<\/th>\n",
       "      <td>1,748,653.15000<\/td>\n",
       "      <td>2007-01-19<\/td>\n",
       "      <td>2008-01-21<\/td>\n",
       "      <td>1<\/td>\n",
       "      <td>0.96118<\/td>\n",
       "      <td>0.04718<\/td>\n",
       "      <td>82,494.19546<\/td>\n",
       "      <td>0.00000<\/td>\n",
       "    <\/tr>\n",
       "    <tr>\n",
       "      <th>1<\/th>\n",
       "      <td>1,748,653.15000<\/td>\n",
       "      <td>2008-01-21<\/td>\n",
       "      <td>2009-01-19<\/td>\n",
       "      <td>1<\/td>\n",
       "      <td>0.92150<\/td>\n",
       "      <td>0.04718<\/td>\n",
       "      <td>82,494.19546<\/td>\n",
       "      <td>0.00000<\/td>\n",
       "    <\/tr>\n",
       "    <tr>\n",
       "      <th>2<\/th>\n",
       "      <td>1,748,653.15000<\/td>\n",
       "      <td>2009-01-19<\/td>\n",
       "      <td>2010-01-19<\/td>\n",
       "      <td>1<\/td>\n",
       "      <td>0.88453<\/td>\n",
       "      <td>0.04718<\/td>\n",
       "      <td>82,494.19546<\/td>\n",
       "      <td>0.00000<\/td>\n",
       "    <\/tr>\n",
       "    <tr>\n",
       "      <th>3<\/th>\n",
       "      <td>1,748,653.15000<\/td>\n",
       "      <td>2010-01-19<\/td>\n",
       "      <td>2011-01-19<\/td>\n",
       "      <td>1<\/td>\n",
       "      <td>0.84900<\/td>\n",
       "      <td>0.04718<\/td>\n",
       "      <td>82,494.19546<\/td>\n",
       "      <td>0.00000<\/td>\n",
       "    <\/tr>\n",
       "    <tr>\n",
       "      <th>4<\/th>\n",
       "      <td>1,748,653.15000<\/td>\n",
       "      <td>2011-01-19<\/td>\n",
       "      <td>2012-01-19<\/td>\n",
       "      <td>1<\/td>\n",
       "      <td>0.81458<\/td>\n",
       "      <td>0.04718<\/td>\n",
       "      <td>82,494.19546<\/td>\n",
       "      <td>0.00000<\/td>\n",
       "    <\/tr>\n",
       "    <tr>\n",
       "      <th>5<\/th>\n",
       "      <td>1,748,653.15000<\/td>\n",
       "      <td>2012-01-19<\/td>\n",
       "      <td>2013-01-21<\/td>\n",
       "      <td>1<\/td>\n",
       "      <td>0.78079<\/td>\n",
       "      <td>0.04718<\/td>\n",
       "      <td>82,494.19546<\/td>\n",
       "      <td>0.00000<\/td>\n",
       "    <\/tr>\n",
       "    <tr>\n",
       "      <th>6<\/th>\n",
       "      <td>1,748,653.15000<\/td>\n",
       "      <td>2013-01-21<\/td>\n",
       "      <td>2014-01-20<\/td>\n",
       "      <td>1<\/td>\n",
       "      <td>0.74847<\/td>\n",
       "      <td>0.04718<\/td>\n",
       "      <td>82,494.19546<\/td>\n",
       "      <td>0.00000<\/td>\n",
       "    <\/tr>\n",
       "    <tr>\n",
       "      <th>7<\/th>\n",
       "      <td>1,748,653.15000<\/td>\n",
       "      <td>2014-01-20<\/td>\n",
       "      <td>2015-01-19<\/td>\n",
       "      <td>1<\/td>\n",
       "      <td>0.71672<\/td>\n",
       "      <td>0.04718<\/td>\n",
       "      <td>82,494.19546<\/td>\n",
       "      <td>0.00000<\/td>\n",
       "    <\/tr>\n",
       "    <tr>\n",
       "      <th>8<\/th>\n",
       "      <td>1,748,653.15000<\/td>\n",
       "      <td>2015-01-19<\/td>\n",
       "      <td>2016-01-19<\/td>\n",
       "      <td>1<\/td>\n",
       "      <td>0.68599<\/td>\n",
       "      <td>0.04718<\/td>\n",
       "      <td>82,494.19546<\/td>\n",
       "      <td>0.00000<\/td>\n",
       "    <\/tr>\n",
       "    <tr>\n",
       "      <th>9<\/th>\n",
       "      <td>1,748,653.15000<\/td>\n",
       "      <td>2016-01-19<\/td>\n",
       "      <td>2017-01-19<\/td>\n",
       "      <td>1<\/td>\n",
       "      <td>0.65617<\/td>\n",
       "      <td>0.04718<\/td>\n",
       "      <td>82,494.19546<\/td>\n",
       "      <td>0.00000<\/td>\n",
       "    <\/tr>\n",
       "    <tr>\n",
       "      <th>10<\/th>\n",
       "      <td>1,748,653.15000<\/td>\n",
       "      <td>2017-01-19<\/td>\n",
       "      <td>2018-01-19<\/td>\n",
       "      <td>1<\/td>\n",
       "      <td>0.62745<\/td>\n",
       "      <td>0.04718<\/td>\n",
       "      <td>82,494.19546<\/td>\n",
       "      <td>0.00000<\/td>\n",
       "    <\/tr>\n",
       "    <tr>\n",
       "      <th>11<\/th>\n",
       "      <td>1,748,653.15000<\/td>\n",
       "      <td>2018-01-19<\/td>\n",
       "      <td>2019-01-21<\/td>\n",
       "      <td>1<\/td>\n",
       "      <td>0.59965<\/td>\n",
       "      <td>0.04718<\/td>\n",
       "      <td>82,494.19546<\/td>\n",
       "      <td>0.00000<\/td>\n",
       "    <\/tr>\n",
       "    <tr>\n",
       "      <th>12<\/th>\n",
       "      <td>1,748,653.15000<\/td>\n",
       "      <td>2019-01-21<\/td>\n",
       "      <td>2020-01-20<\/td>\n",
       "      <td>1<\/td>\n",
       "      <td>0.56298<\/td>\n",
       "      <td>0.04718<\/td>\n",
       "      <td>82,494.19546<\/td>\n",
       "      <td>0.00000<\/td>\n",
       "    <\/tr>\n",
       "    <tr>\n",
       "      <th>13<\/th>\n",
       "      <td>1,748,653.15000<\/td>\n",
       "      <td>2020-01-20<\/td>\n",
       "      <td>2021-01-19<\/td>\n",
       "      <td>1<\/td>\n",
       "      <td>0.52621<\/td>\n",
       "      <td>0.04718<\/td>\n",
       "      <td>82,494.19546<\/td>\n",
       "      <td>43,409.39153<\/td>\n",
       "    <\/tr>\n",
       "    <tr>\n",
       "      <th>14<\/th>\n",
       "      <td>1,748,653.15000<\/td>\n",
       "      <td>2021-01-19<\/td>\n",
       "      <td>2022-01-19<\/td>\n",
       "      <td>1<\/td>\n",
       "      <td>0.48944<\/td>\n",
       "      <td>0.04718<\/td>\n",
       "      <td>82,494.19546<\/td>\n",
       "      <td>40,376.22621<\/td>\n",
       "    <\/tr>\n",
       "  <\/tbody>\n",
       "<\/table>\n",
       "<\/div>"
      ]
     },
     "metadata":{
      
     },
     "output_type":"display_data"
    }
   ],
   "metadata":{
    "datalore":{
     "node_id":"ENzDk8Yvbvjw03JWpvvtZr",
     "type":"CODE",
     "hide_input_from_viewers":true,
     "hide_output_from_viewers":true
    }
   }
  },
  {
   "cell_type":"code",
   "source":[
    "#Question 3"
   ],
   "execution_count":675,
   "outputs":[
    
   ],
   "metadata":{
    "datalore":{
     "node_id":"vKXN2Gpp9wTPPxpxm7cFKS",
     "type":"CODE",
     "hide_input_from_viewers":true,
     "hide_output_from_viewers":true
    }
   }
  },
  {
   "cell_type":"code",
   "source":[
    "#ex 3a  Alternative 1.\n",
    "#Description of the Details:\n",
    "\"\"\"swaption says that bank has the option, in 10 years to buy a swap with the exact same characteristics as \n",
    "the swap contracted before, to pay X%\"\"\"\n",
    "# >> X% 10Y 5Y\n",
    "\n",
    "#defining the expiry and the tenor of the swaption and getting the Bachelier Volatility\n",
    "expiry_swaption = \"2017-01-19\"\n",
    "tenor_swaption = \"2022-01-19\"\n",
    "\n",
    "swaption_data_exercise = swaption_data.set_index(\"Expiry\")\n",
    "normalvol = swaption_data_exercise.loc[\"10Yr\"].iloc[4][\"NormalVol\"]\/10000\n",
    "print(f'Swaption volatolity: {normalvol}')"
   ],
   "execution_count":676,
   "outputs":[
    {
     "name":"stdout",
     "text":[
      "Swaption volatolity: 0.023648\n"
     ],
     "output_type":"stream"
    }
   ],
   "metadata":{
    "datalore":{
     "node_id":"brTALAbcqmOnsy02bzvTQj",
     "type":"CODE",
     "hide_input_from_viewers":true,
     "hide_output_from_viewers":true
    }
   }
  },
  {
   "cell_type":"code",
   "source":[
    "#defining the dates of the swaption payments\n",
    "\n",
    "swaption_float_and_swap=float_leg\n",
    "dates_swaption = []\n",
    "\n",
    "for n in range(19, len(swaption_float_and_swap[\"end\"])):\n",
    "    dates_swaption.append(swaption_float_and_swap[\"end\"][n])\n",
    "\n",
    "\n",
    "dates_swaption=dates_swaption[::2]"
   ],
   "execution_count":677,
   "outputs":[
    
   ],
   "metadata":{
    "datalore":{
     "node_id":"Cn4woDZf4TYaLWHwughz5m",
     "type":"CODE",
     "hide_input_from_viewers":true,
     "hide_output_from_viewers":true
    }
   }
  },
  {
   "cell_type":"code",
   "source":[
    "#getting the discount factors of the dates previously definined  \n",
    "dfs_swaption = []\n",
    "\n",
    "for n in range(0, len(swaption_float_and_swap[\"df\"])):\n",
    "    for i in range(0, len(dates_swaption)):\n",
    "        if swaption_float_and_swap[\"end\"][n] != dates_swaption[i]:\n",
    "            pass\n",
    "        if swaption_float_and_swap[\"end\"][n] == dates_swaption[i]:\n",
    "            dfs_swaption.append(swaption_float_and_swap[\"df\"][n])\n",
    "\n",
    "dfs_swaption"
   ],
   "execution_count":678,
   "outputs":[
    {
     "data":{
      "text\/plain":[
       "[0.656167769112316,\n",
       " 0.6274500092316508,\n",
       " 0.5996471854199216,\n",
       " 0.5629796931464814,\n",
       " 0.5262114660041584,\n",
       " 0.48944323886183516]"
      ]
     },
     "metadata":{
      
     },
     "output_type":"display_data"
    }
   ],
   "metadata":{
    "datalore":{
     "node_id":"WskgvmAohrwzlJZxxlymfZ",
     "type":"CODE",
     "hide_input_from_viewers":true,
     "hide_output_from_viewers":true
    }
   }
  },
  {
   "cell_type":"code",
   "source":[
    "#getting the fixed rate payed in this alternative, where it will also be the rate that is used as strike to value the swaption.\n",
    "\n",
    "A = sum(dfs_swaption[1:])\n",
    "L = 1748653.15 \n",
    "T = 5\n",
    "#strike = X\n",
    "\n",
    "    \n",
    "swapRate = ([dfs_swaption[0] - dfs_swaption[-1]] \/ np.sum(dfs_swaption[1:]))[0]\n",
    "\n",
    "from scipy.optimize import root\n",
    "\n",
    "def swaptionPv(rate_swaption):\n",
    "\n",
    "    fxd_swap = fixed_leg.copy()\n",
    "    fixed_leg_pv_swap = (fxd_swap.notional * fxd_swap.dcf * fxd_swap.df * rate_swaption).sum()\n",
    "    \n",
    "    d = (swapRate - rate_swaption)\/(normalvol * np.sqrt(5))\n",
    "    swaption_pv = A * ((swapRate - rate_swaption)*norm.cdf(d) + normalvol * np.sqrt(5) * norm.pdf(d))\n",
    "    \n",
    "\n",
    "    return fixed_leg_pv_swap - float_leg_pv + swaption_pv*swap_notional\n",
    "\n",
    "\n",
    "res2 = root(swaptionPv, 0)\n",
    "fixed_rate2 = res2['x'][0]\n",
    "\n",
    "print(f\"Fixed rate And Swaption Strike:\\t {fixed_rate2*100}%\")"
   ],
   "execution_count":679,
   "outputs":[
    {
     "name":"stdout",
     "text":[
      "Fixed rate And Swaption Strike:\t 3.8588882378637104%\n"
     ],
     "output_type":"stream"
    }
   ],
   "metadata":{
    "datalore":{
     "node_id":"wiihqKHJUYMAo4r1EUIzCY",
     "type":"CODE",
     "hide_input_from_viewers":true,
     "hide_output_from_viewers":true
    }
   }
  },
  {
   "cell_type":"code",
   "source":[
    "#Exercise 3a: alternative 2"
   ],
   "execution_count":680,
   "outputs":[
    
   ],
   "metadata":{
    "datalore":{
     "node_id":"nO972YmVYMrcDYu2ju3mln",
     "type":"CODE",
     "hide_input_from_viewers":true,
     "hide_output_from_viewers":true
    }
   }
  },
  {
   "cell_type":"code",
   "source":[
    "#function to price the caplet\n",
    "def caplet_price(K,F,sigma,rf,start_date_cap,end_date_cap):\n",
    "    P = np.exp(-rf*(end_date_cap-today_date).days\/360)\n",
    "    d1 = (np.log(F\/K) + (sigma\/100)**2 * ((start_date_cap-today_date).days\/360) \/ 2) \/ ((sigma\/100) * np.sqrt((start_date_cap-today_date).days\/360))\n",
    "    d2 = d1 - sigma\/100\n",
    "    caplet = (end_date_cap-start_date_cap).days\/360 * P * ( F * norm.cdf(d1) - K * norm.cdf(d2))\n",
    "    return caplet"
   ],
   "execution_count":681,
   "outputs":[
    
   ],
   "metadata":{
    "datalore":{
     "node_id":"4ExlFxgJvbZgIpZ3VqynCd",
     "type":"CODE",
     "hide_input_from_viewers":true,
     "hide_output_from_viewers":true
    }
   }
  },
  {
   "cell_type":"code",
   "source":[
    "#Exercise 3a: alternative 2\n",
    "#pv_cap = max(euribor - K;0)\n",
    "#k =6 %\n",
    "#Description of the Details:\n",
    "\"\"\"we sold a cap to the bank, so we will pay max(int_rate-6%,0)\n",
    "because we sold the cap, we get premium in moment 0, that will reduce our interest payments, so long as the int rate is below 6%\n",
    "we also have a regular swap\n",
    "\"\"\"\n",
    "cap_strike=0.06\n",
    "          \n",
    "float_leg_alt2=float_leg\n",
    "float_leg_alt2[\"cap_pay\"] =1\n",
    "for n in range(0,len(float_leg_alt2[\"fwd\"])):\n",
    "    float_leg_alt2.iloc[n,8]=max(float_leg_alt2[\"fwd\"][n]- cap_strike, 0)\n",
    "\n",
    "\n",
    "#Here we add the volatility for the corresponding strike and interpolate for missing values\n",
    "float_leg_alt2['tenor'] = [x * 0.5 for x in range(1, len(float_leg_alt2) + 1)]\n",
    "capnormal_data['Int_Year'] = capnormal_data['Tenor'].apply(lambda x: float(x[:-2]))\n",
    "capnormal_data_st6=capnormal_data[capnormal_data['Strike']==\"6.00%\"]\n",
    "float_leg_alt2 = float_leg_alt2.merge(capnormal_data_st6, left_on='tenor',right_on=\"Int_Year\",how=\"left\")\n",
    "\n",
    "\n",
    "float_leg_alt2 = float_leg_alt2.set_index('start')\n",
    "float_leg_alt2['NormalVol'] = float_leg_alt2['NormalVol'].interpolate()\n",
    "float_leg_alt2 = float_leg_alt2.reset_index()\n",
    "float_leg_alt2['zero_rate'] = np.nan\n",
    "for a in range(0,len(float_leg_alt2.iloc[:,9])):\n",
    "    float_leg_alt2.loc[a,'zero_rate']=((1\/float_leg_alt2.loc[a,'df'])**(1\/float_leg_alt2.loc[a,'tenor']))-1\n",
    "\n",
    "#we calculate the caplet price line by line, using the function above\n",
    "float_leg_alt2['caplet_price'] = np.nan\n",
    "float_leg_alt2.loc[1:, 'caplet_price'] = float_leg_alt2.loc[1:, :].apply(lambda x: caplet_price(cap_strike, x['fwd'], x['NormalVol']\/100, x['zero_rate'], x['start'], x['end']), axis=1)*swap_notional\n",
    "\n",
    "#the price of the cap is the sum of the caplets\n",
    "price_cap_alt2=float_leg_alt2['caplet_price'].sum()\n",
    "\n",
    "\n",
    "#the pv of the float leg will be discounted of the premium of the cap\n",
    "float_leg_pv_alt2 = float_leg_alt2.pv.sum()-price_cap_alt2\n",
    "fixed_leg_alt2=fixed_leg\n",
    "fixed_rate_alt2 = float_leg_pv_alt2 \/ (fixed_leg_alt2.notional *  fixed_leg_alt2.dcf * fixed_leg_alt2.df).sum()\n",
    "print(f\"Fair fixed rate is: {fixed_rate_alt2 * 100:.4f}%\")"
   ],
   "execution_count":682,
   "outputs":[
    {
     "name":"stdout",
     "text":[
      "Fair fixed rate is: 4.6051%\n"
     ],
     "output_type":"stream"
    }
   ],
   "metadata":{
    "datalore":{
     "node_id":"XZhG8tqgO87peYz25dAb4K",
     "type":"CODE",
     "hide_input_from_viewers":true,
     "hide_output_from_viewers":true
    }
   }
  },
  {
   "cell_type":"code",
   "source":[
    "#function to price the floor\n",
    "def floorlet_price(K,F,sigma,rf,start_date_cap,end_date_cap):\n",
    "    P = np.exp(-rf*(end_date_cap-today_date).days\/360)\n",
    "    d1 = (np.log(F\/K) + (sigma\/100)**2 * ((start_date_cap-today_date).days\/360) \/ 2) \/ ((sigma\/100) * np.sqrt((start_date_cap-today_date).days\/360))\n",
    "    d2 = d1 - sigma\/100\n",
    "    caplet = (end_date_cap-start_date_cap).days\/360 * P * ( -F * norm.cdf(-d1) + K * norm.cdf(-d2))\n",
    "    return caplet"
   ],
   "execution_count":683,
   "outputs":[
    
   ],
   "metadata":{
    "datalore":{
     "node_id":"dvsOFdwNvl0r0NsdTEKvyL",
     "type":"CODE",
     "hide_input_from_viewers":true,
     "hide_output_from_viewers":true
    }
   }
  },
  {
   "cell_type":"code",
   "source":[
    "#pv_cap = max(euribor - K;0)\n",
    "#k =6 %\n",
    "#Description of the Details:\n",
    "\"\"\"we will be paying and receiving the euribor 6m, so it nets out at 0\n",
    "but we bought caps(strike 6%), floor(strike X%), so we will pay a premium in moment 0\n",
    "\"\"\"\n",
    "float_leg_alt3=float_leg_alt2\n",
    "\n",
    "#adding the volatility to the data frame\n",
    "capnormal_data_st2=capnormal_data[capnormal_data['Strike']==\"4.00%\"]\n",
    "float_leg_alt3 = float_leg_alt3.merge(capnormal_data_st2, left_on='tenor',right_on=\"Int_Year\",how=\"left\")\n",
    "\n",
    "float_leg_alt3 = float_leg_alt3.set_index('start')\n",
    "float_leg_alt3['NormalVol_y'] = float_leg_alt3['NormalVol_y'].interpolate()\n",
    "float_leg_alt3 = float_leg_alt3.reset_index()\n",
    "\n",
    "price_cap_3a=float_leg_alt3['caplet_price'].sum()\n",
    "\n",
    "\n",
    "float_leg_alt3"
   ],
   "execution_count":684,
   "outputs":[
    {
     "data":{
      "text\/html":[
       "<div>\n",
       "<style scoped>\n",
       "    .dataframe tbody tr th:only-of-type {\n",
       "        vertical-align: middle;\n",
       "    }\n",
       "\n",
       "    .dataframe tbody tr th {\n",
       "        vertical-align: top;\n",
       "    }\n",
       "\n",
       "    .dataframe thead th {\n",
       "        text-align: right;\n",
       "    }\n",
       "<\/style>\n",
       "<table border=\"1\" class=\"dataframe\">\n",
       "  <thead>\n",
       "    <tr style=\"text-align: right;\">\n",
       "      <th><\/th>\n",
       "      <th>start<\/th>\n",
       "      <th>notional<\/th>\n",
       "      <th>end<\/th>\n",
       "      <th>dcf<\/th>\n",
       "      <th>fwd<\/th>\n",
       "      <th>cf<\/th>\n",
       "      <th>df<\/th>\n",
       "      <th>pv<\/th>\n",
       "      <th>cap_pay<\/th>\n",
       "      <th>tenor<\/th>\n",
       "      <th>Tenor_x<\/th>\n",
       "      <th>Strike_x<\/th>\n",
       "      <th>NormalVol_x<\/th>\n",
       "      <th>Int_Year_x<\/th>\n",
       "      <th>zero_rate<\/th>\n",
       "      <th>caplet_price<\/th>\n",
       "      <th>Tenor_y<\/th>\n",
       "      <th>Strike_y<\/th>\n",
       "      <th>NormalVol_y<\/th>\n",
       "      <th>Int_Year_y<\/th>\n",
       "    <\/tr>\n",
       "  <\/thead>\n",
       "  <tbody>\n",
       "    <tr>\n",
       "      <th>0<\/th>\n",
       "      <td>2007-01-19<\/td>\n",
       "      <td>1,748,653.15000<\/td>\n",
       "      <td>2007-07-19<\/td>\n",
       "      <td>0.50278<\/td>\n",
       "      <td>0.03880<\/td>\n",
       "      <td>34,112.33706<\/td>\n",
       "      <td>0.98097<\/td>\n",
       "      <td>33,463.15191<\/td>\n",
       "      <td>0.00000<\/td>\n",
       "      <td>0.50000<\/td>\n",
       "      <td>NaN<\/td>\n",
       "      <td>NaN<\/td>\n",
       "      <td>NaN<\/td>\n",
       "      <td>NaN<\/td>\n",
       "      <td>0.03918<\/td>\n",
       "      <td>NaN<\/td>\n",
       "      <td>NaN<\/td>\n",
       "      <td>NaN<\/td>\n",
       "      <td>NaN<\/td>\n",
       "      <td>NaN<\/td>\n",
       "    <\/tr>\n",
       "    <tr>\n",
       "      <th>1<\/th>\n",
       "      <td>2007-07-19<\/td>\n",
       "      <td>1,748,653.15000<\/td>\n",
       "      <td>2008-01-21<\/td>\n",
       "      <td>0.51667<\/td>\n",
       "      <td>0.03985<\/td>\n",
       "      <td>36,003.43733<\/td>\n",
       "      <td>0.96118<\/td>\n",
       "      <td>34,605.75683<\/td>\n",
       "      <td>0.00000<\/td>\n",
       "      <td>1.00000<\/td>\n",
       "      <td>1Yr<\/td>\n",
       "      <td>6.00%<\/td>\n",
       "      <td>112.34000<\/td>\n",
       "      <td>1.00000<\/td>\n",
       "      <td>0.04039<\/td>\n",
       "      <td>0.00000<\/td>\n",
       "      <td>1Yr<\/td>\n",
       "      <td>4.00%<\/td>\n",
       "      <td>107.52000<\/td>\n",
       "      <td>1.00000<\/td>\n",
       "    <\/tr>\n",
       "    <tr>\n",
       "      <th>2<\/th>\n",
       "      <td>2008-01-21<\/td>\n",
       "      <td>1,748,653.15000<\/td>\n",
       "      <td>2008-07-21<\/td>\n",
       "      <td>0.50556<\/td>\n",
       "      <td>0.04169<\/td>\n",
       "      <td>36,852.68842<\/td>\n",
       "      <td>0.94134<\/td>\n",
       "      <td>34,690.93149<\/td>\n",
       "      <td>0.00000<\/td>\n",
       "      <td>1.50000<\/td>\n",
       "      <td>NaN<\/td>\n",
       "      <td>NaN<\/td>\n",
       "      <td>111.95500<\/td>\n",
       "      <td>NaN<\/td>\n",
       "      <td>0.04112<\/td>\n",
       "      <td>-0.00000<\/td>\n",
       "      <td>NaN<\/td>\n",
       "      <td>NaN<\/td>\n",
       "      <td>107.72500<\/td>\n",
       "      <td>NaN<\/td>\n",
       "    <\/tr>\n",
       "    <tr>\n",
       "      <th>3<\/th>\n",
       "      <td>2008-07-21<\/td>\n",
       "      <td>1,748,653.15000<\/td>\n",
       "      <td>2009-01-19<\/td>\n",
       "      <td>0.50556<\/td>\n",
       "      <td>0.04258<\/td>\n",
       "      <td>37,646.07566<\/td>\n",
       "      <td>0.92150<\/td>\n",
       "      <td>34,690.93149<\/td>\n",
       "      <td>0.00000<\/td>\n",
       "      <td>2.00000<\/td>\n",
       "      <td>2Yr<\/td>\n",
       "      <td>6.00%<\/td>\n",
       "      <td>111.57000<\/td>\n",
       "      <td>2.00000<\/td>\n",
       "      <td>0.04172<\/td>\n",
       "      <td>-0.00000<\/td>\n",
       "      <td>2Yr<\/td>\n",
       "      <td>4.00%<\/td>\n",
       "      <td>107.93000<\/td>\n",
       "      <td>2.00000<\/td>\n",
       "    <\/tr>\n",
       "    <tr>\n",
       "      <th>4<\/th>\n",
       "      <td>2009-01-19<\/td>\n",
       "      <td>1,748,653.15000<\/td>\n",
       "      <td>2009-07-20<\/td>\n",
       "      <td>0.50556<\/td>\n",
       "      <td>0.04038<\/td>\n",
       "      <td>35,698.16367<\/td>\n",
       "      <td>0.90307<\/td>\n",
       "      <td>32,237.80296<\/td>\n",
       "      <td>0.00000<\/td>\n",
       "      <td>2.50000<\/td>\n",
       "      <td>NaN<\/td>\n",
       "      <td>NaN<\/td>\n",
       "      <td>116.54000<\/td>\n",
       "      <td>NaN<\/td>\n",
       "      <td>0.04163<\/td>\n",
       "      <td>-0.00000<\/td>\n",
       "      <td>NaN<\/td>\n",
       "      <td>NaN<\/td>\n",
       "      <td>105.47000<\/td>\n",
       "      <td>NaN<\/td>\n",
       "    <\/tr>\n",
       "    <tr>\n",
       "      <th>5<\/th>\n",
       "      <td>2009-07-20<\/td>\n",
       "      <td>1,748,653.15000<\/td>\n",
       "      <td>2010-01-19<\/td>\n",
       "      <td>0.50833<\/td>\n",
       "      <td>0.04123<\/td>\n",
       "      <td>36,646.54485<\/td>\n",
       "      <td>0.88453<\/td>\n",
       "      <td>32,414.93374<\/td>\n",
       "      <td>0.00000<\/td>\n",
       "      <td>3.00000<\/td>\n",
       "      <td>3Yr<\/td>\n",
       "      <td>6.00%<\/td>\n",
       "      <td>121.51000<\/td>\n",
       "      <td>3.00000<\/td>\n",
       "      <td>0.04175<\/td>\n",
       "      <td>-0.00000<\/td>\n",
       "      <td>3Yr<\/td>\n",
       "      <td>4.00%<\/td>\n",
       "      <td>103.01000<\/td>\n",
       "      <td>3.00000<\/td>\n",
       "    <\/tr>\n",
       "    <tr>\n",
       "      <th>6<\/th>\n",
       "      <td>2010-01-19<\/td>\n",
       "      <td>1,748,653.15000<\/td>\n",
       "      <td>2010-07-19<\/td>\n",
       "      <td>0.50278<\/td>\n",
       "      <td>0.04043<\/td>\n",
       "      <td>35,542.35504<\/td>\n",
       "      <td>0.86691<\/td>\n",
       "      <td>30,811.97511<\/td>\n",
       "      <td>0.00000<\/td>\n",
       "      <td>3.50000<\/td>\n",
       "      <td>NaN<\/td>\n",
       "      <td>NaN<\/td>\n",
       "      <td>115.29500<\/td>\n",
       "      <td>NaN<\/td>\n",
       "      <td>0.04165<\/td>\n",
       "      <td>-0.00000<\/td>\n",
       "      <td>NaN<\/td>\n",
       "      <td>NaN<\/td>\n",
       "      <td>102.92500<\/td>\n",
       "      <td>NaN<\/td>\n",
       "    <\/tr>\n",
       "    <tr>\n",
       "      <th>7<\/th>\n",
       "      <td>2010-07-19<\/td>\n",
       "      <td>1,748,653.15000<\/td>\n",
       "      <td>2011-01-19<\/td>\n",
       "      <td>0.51111<\/td>\n",
       "      <td>0.04128<\/td>\n",
       "      <td>36,893.77046<\/td>\n",
       "      <td>0.84900<\/td>\n",
       "      <td>31,322.67083<\/td>\n",
       "      <td>0.00000<\/td>\n",
       "      <td>4.00000<\/td>\n",
       "      <td>4Yr<\/td>\n",
       "      <td>6.00%<\/td>\n",
       "      <td>109.08000<\/td>\n",
       "      <td>4.00000<\/td>\n",
       "      <td>0.04177<\/td>\n",
       "      <td>-0.00000<\/td>\n",
       "      <td>4Yr<\/td>\n",
       "      <td>4.00%<\/td>\n",
       "      <td>102.84000<\/td>\n",
       "      <td>4.00000<\/td>\n",
       "    <\/tr>\n",
       "    <tr>\n",
       "      <th>8<\/th>\n",
       "      <td>2011-01-19<\/td>\n",
       "      <td>1,748,653.15000<\/td>\n",
       "      <td>2011-07-19<\/td>\n",
       "      <td>0.50278<\/td>\n",
       "      <td>0.04080<\/td>\n",
       "      <td>35,868.12115<\/td>\n",
       "      <td>0.83193<\/td>\n",
       "      <td>29,839.82821<\/td>\n",
       "      <td>0.00000<\/td>\n",
       "      <td>4.50000<\/td>\n",
       "      <td>NaN<\/td>\n",
       "      <td>NaN<\/td>\n",
       "      <td>109.08000<\/td>\n",
       "      <td>NaN<\/td>\n",
       "      <td>0.04174<\/td>\n",
       "      <td>-0.00000<\/td>\n",
       "      <td>NaN<\/td>\n",
       "      <td>NaN<\/td>\n",
       "      <td>102.80500<\/td>\n",
       "      <td>NaN<\/td>\n",
       "    <\/tr>\n",
       "    <tr>\n",
       "      <th>9<\/th>\n",
       "      <td>2011-07-19<\/td>\n",
       "      <td>1,748,653.15000<\/td>\n",
       "      <td>2012-01-19<\/td>\n",
       "      <td>0.51111<\/td>\n",
       "      <td>0.04167<\/td>\n",
       "      <td>37,239.12433<\/td>\n",
       "      <td>0.81458<\/td>\n",
       "      <td>30,334.41100<\/td>\n",
       "      <td>0.00000<\/td>\n",
       "      <td>5.00000<\/td>\n",
       "      <td>5Yr<\/td>\n",
       "      <td>6.00%<\/td>\n",
       "      <td>109.08000<\/td>\n",
       "      <td>5.00000<\/td>\n",
       "      <td>0.04187<\/td>\n",
       "      <td>-0.00000<\/td>\n",
       "      <td>5Yr<\/td>\n",
       "      <td>4.00%<\/td>\n",
       "      <td>102.77000<\/td>\n",
       "      <td>5.00000<\/td>\n",
       "    <\/tr>\n",
       "    <tr>\n",
       "      <th>10<\/th>\n",
       "      <td>2012-01-19<\/td>\n",
       "      <td>1,748,653.15000<\/td>\n",
       "      <td>2012-07-19<\/td>\n",
       "      <td>0.50556<\/td>\n",
       "      <td>0.04144<\/td>\n",
       "      <td>36,637.96498<\/td>\n",
       "      <td>0.79787<\/td>\n",
       "      <td>29,232.23900<\/td>\n",
       "      <td>0.00000<\/td>\n",
       "      <td>5.50000<\/td>\n",
       "      <td>NaN<\/td>\n",
       "      <td>NaN<\/td>\n",
       "      <td>109.13000<\/td>\n",
       "      <td>NaN<\/td>\n",
       "      <td>0.04191<\/td>\n",
       "      <td>-0.00000<\/td>\n",
       "      <td>NaN<\/td>\n",
       "      <td>NaN<\/td>\n",
       "      <td>102.78000<\/td>\n",
       "      <td>NaN<\/td>\n",
       "    <\/tr>\n",
       "    <tr>\n",
       "      <th>11<\/th>\n",
       "      <td>2012-07-19<\/td>\n",
       "      <td>1,748,653.15000<\/td>\n",
       "      <td>2013-01-21<\/td>\n",
       "      <td>0.51667<\/td>\n",
       "      <td>0.04234<\/td>\n",
       "      <td>38,248.52240<\/td>\n",
       "      <td>0.78079<\/td>\n",
       "      <td>29,864.03041<\/td>\n",
       "      <td>0.00000<\/td>\n",
       "      <td>6.00000<\/td>\n",
       "      <td>6Yr<\/td>\n",
       "      <td>6.00%<\/td>\n",
       "      <td>109.18000<\/td>\n",
       "      <td>6.00000<\/td>\n",
       "      <td>0.04210<\/td>\n",
       "      <td>-0.00000<\/td>\n",
       "      <td>6Yr<\/td>\n",
       "      <td>4.00%<\/td>\n",
       "      <td>102.79000<\/td>\n",
       "      <td>6.00000<\/td>\n",
       "    <\/tr>\n",
       "    <tr>\n",
       "      <th>12<\/th>\n",
       "      <td>2013-01-21<\/td>\n",
       "      <td>1,748,653.15000<\/td>\n",
       "      <td>2013-07-19<\/td>\n",
       "      <td>0.49722<\/td>\n",
       "      <td>0.04179<\/td>\n",
       "      <td>36,338.28982<\/td>\n",
       "      <td>0.76489<\/td>\n",
       "      <td>27,794.94238<\/td>\n",
       "      <td>0.00000<\/td>\n",
       "      <td>6.50000<\/td>\n",
       "      <td>NaN<\/td>\n",
       "      <td>NaN<\/td>\n",
       "      <td>109.29500<\/td>\n",
       "      <td>NaN<\/td>\n",
       "      <td>0.04210<\/td>\n",
       "      <td>-0.00000<\/td>\n",
       "      <td>NaN<\/td>\n",
       "      <td>NaN<\/td>\n",
       "      <td>102.86000<\/td>\n",
       "      <td>NaN<\/td>\n",
       "    <\/tr>\n",
       "    <tr>\n",
       "      <th>13<\/th>\n",
       "      <td>2013-07-19<\/td>\n",
       "      <td>1,748,653.15000<\/td>\n",
       "      <td>2014-01-20<\/td>\n",
       "      <td>0.51389<\/td>\n",
       "      <td>0.04271<\/td>\n",
       "      <td>38,376.88780<\/td>\n",
       "      <td>0.74847<\/td>\n",
       "      <td>28,723.86442<\/td>\n",
       "      <td>0.00000<\/td>\n",
       "      <td>7.00000<\/td>\n",
       "      <td>7Yr<\/td>\n",
       "      <td>6.00%<\/td>\n",
       "      <td>109.41000<\/td>\n",
       "      <td>7.00000<\/td>\n",
       "      <td>0.04226<\/td>\n",
       "      <td>-0.00000<\/td>\n",
       "      <td>7Yr<\/td>\n",
       "      <td>4.00%<\/td>\n",
       "      <td>102.93000<\/td>\n",
       "      <td>7.00000<\/td>\n",
       "    <\/tr>\n",
       "    <tr>\n",
       "      <th>14<\/th>\n",
       "      <td>2014-01-20<\/td>\n",
       "      <td>1,748,653.15000<\/td>\n",
       "      <td>2014-07-21<\/td>\n",
       "      <td>0.50556<\/td>\n",
       "      <td>0.04286<\/td>\n",
       "      <td>37,892.69503<\/td>\n",
       "      <td>0.73259<\/td>\n",
       "      <td>27,759.91421<\/td>\n",
       "      <td>0.00000<\/td>\n",
       "      <td>7.50000<\/td>\n",
       "      <td>NaN<\/td>\n",
       "      <td>NaN<\/td>\n",
       "      <td>109.55000<\/td>\n",
       "      <td>NaN<\/td>\n",
       "      <td>0.04236<\/td>\n",
       "      <td>-0.00000<\/td>\n",
       "      <td>NaN<\/td>\n",
       "      <td>NaN<\/td>\n",
       "      <td>103.02500<\/td>\n",
       "      <td>NaN<\/td>\n",
       "    <\/tr>\n",
       "    <tr>\n",
       "      <th>15<\/th>\n",
       "      <td>2014-07-21<\/td>\n",
       "      <td>1,748,653.15000<\/td>\n",
       "      <td>2015-01-19<\/td>\n",
       "      <td>0.50556<\/td>\n",
       "      <td>0.04381<\/td>\n",
       "      <td>38,732.00385<\/td>\n",
       "      <td>0.71672<\/td>\n",
       "      <td>27,759.91421<\/td>\n",
       "      <td>0.00000<\/td>\n",
       "      <td>8.00000<\/td>\n",
       "      <td>8Yr<\/td>\n",
       "      <td>6.00%<\/td>\n",
       "      <td>109.69000<\/td>\n",
       "      <td>8.00000<\/td>\n",
       "      <td>0.04251<\/td>\n",
       "      <td>-0.00000<\/td>\n",
       "      <td>8Yr<\/td>\n",
       "      <td>4.00%<\/td>\n",
       "      <td>103.12000<\/td>\n",
       "      <td>8.00000<\/td>\n",
       "    <\/tr>\n",
       "    <tr>\n",
       "      <th>16<\/th>\n",
       "      <td>2015-01-19<\/td>\n",
       "      <td>1,748,653.15000<\/td>\n",
       "      <td>2015-07-20<\/td>\n",
       "      <td>0.50556<\/td>\n",
       "      <td>0.04320<\/td>\n",
       "      <td>38,193.05719<\/td>\n",
       "      <td>0.70140<\/td>\n",
       "      <td>26,788.54194<\/td>\n",
       "      <td>0.00000<\/td>\n",
       "      <td>8.50000<\/td>\n",
       "      <td>NaN<\/td>\n",
       "      <td>NaN<\/td>\n",
       "      <td>110.36000<\/td>\n",
       "      <td>NaN<\/td>\n",
       "      <td>0.04261<\/td>\n",
       "      <td>-0.00000<\/td>\n",
       "      <td>NaN<\/td>\n",
       "      <td>NaN<\/td>\n",
       "      <td>103.78500<\/td>\n",
       "      <td>NaN<\/td>\n",
       "    <\/tr>\n",
       "    <tr>\n",
       "      <th>17<\/th>\n",
       "      <td>2015-07-20<\/td>\n",
       "      <td>1,748,653.15000<\/td>\n",
       "      <td>2016-01-19<\/td>\n",
       "      <td>0.50833<\/td>\n",
       "      <td>0.04417<\/td>\n",
       "      <td>39,265.22941<\/td>\n",
       "      <td>0.68599<\/td>\n",
       "      <td>26,935.73173<\/td>\n",
       "      <td>0.00000<\/td>\n",
       "      <td>9.00000<\/td>\n",
       "      <td>9Yr<\/td>\n",
       "      <td>6.00%<\/td>\n",
       "      <td>111.03000<\/td>\n",
       "      <td>9.00000<\/td>\n",
       "      <td>0.04277<\/td>\n",
       "      <td>-0.00000<\/td>\n",
       "      <td>9Yr<\/td>\n",
       "      <td>4.00%<\/td>\n",
       "      <td>104.45000<\/td>\n",
       "      <td>9.00000<\/td>\n",
       "    <\/tr>\n",
       "    <tr>\n",
       "      <th>18<\/th>\n",
       "      <td>2016-01-19<\/td>\n",
       "      <td>1,748,653.15000<\/td>\n",
       "      <td>2016-07-19<\/td>\n",
       "      <td>0.50556<\/td>\n",
       "      <td>0.04371<\/td>\n",
       "      <td>38,643.10204<\/td>\n",
       "      <td>0.67116<\/td>\n",
       "      <td>25,935.80609<\/td>\n",
       "      <td>0.00000<\/td>\n",
       "      <td>9.50000<\/td>\n",
       "      <td>NaN<\/td>\n",
       "      <td>NaN<\/td>\n",
       "      <td>111.13500<\/td>\n",
       "      <td>NaN<\/td>\n",
       "      <td>0.04287<\/td>\n",
       "      <td>-0.00000<\/td>\n",
       "      <td>NaN<\/td>\n",
       "      <td>NaN<\/td>\n",
       "      <td>104.53000<\/td>\n",
       "      <td>NaN<\/td>\n",
       "    <\/tr>\n",
       "    <tr>\n",
       "      <th>19<\/th>\n",
       "      <td>2016-07-19<\/td>\n",
       "      <td>1,748,653.15000<\/td>\n",
       "      <td>2017-01-19<\/td>\n",
       "      <td>0.51111<\/td>\n",
       "      <td>0.04471<\/td>\n",
       "      <td>39,960.53476<\/td>\n",
       "      <td>0.65617<\/td>\n",
       "      <td>26,220.81495<\/td>\n",
       "      <td>0.00000<\/td>\n",
       "      <td>10.00000<\/td>\n",
       "      <td>10Yr<\/td>\n",
       "      <td>6.00%<\/td>\n",
       "      <td>111.24000<\/td>\n",
       "      <td>10.00000<\/td>\n",
       "      <td>0.04303<\/td>\n",
       "      <td>-0.00000<\/td>\n",
       "      <td>10Yr<\/td>\n",
       "      <td>4.00%<\/td>\n",
       "      <td>104.61000<\/td>\n",
       "      <td>10.00000<\/td>\n",
       "    <\/tr>\n",
       "    <tr>\n",
       "      <th>20<\/th>\n",
       "      <td>2017-01-19<\/td>\n",
       "      <td>1,748,653.15000<\/td>\n",
       "      <td>2017-07-19<\/td>\n",
       "      <td>0.50278<\/td>\n",
       "      <td>0.04412<\/td>\n",
       "      <td>38,793.08917<\/td>\n",
       "      <td>0.64193<\/td>\n",
       "      <td>24,902.32776<\/td>\n",
       "      <td>0.00000<\/td>\n",
       "      <td>10.50000<\/td>\n",
       "      <td>NaN<\/td>\n",
       "      <td>NaN<\/td>\n",
       "      <td>111.30750<\/td>\n",
       "      <td>NaN<\/td>\n",
       "      <td>0.04312<\/td>\n",
       "      <td>-0.00000<\/td>\n",
       "      <td>NaN<\/td>\n",
       "      <td>NaN<\/td>\n",
       "      <td>104.66750<\/td>\n",
       "      <td>NaN<\/td>\n",
       "    <\/tr>\n",
       "    <tr>\n",
       "      <th>21<\/th>\n",
       "      <td>2017-07-19<\/td>\n",
       "      <td>1,748,653.15000<\/td>\n",
       "      <td>2018-01-19<\/td>\n",
       "      <td>0.51111<\/td>\n",
       "      <td>0.04514<\/td>\n",
       "      <td>40,345.96087<\/td>\n",
       "      <td>0.62745<\/td>\n",
       "      <td>25,315.07352<\/td>\n",
       "      <td>0.00000<\/td>\n",
       "      <td>11.00000<\/td>\n",
       "      <td>NaN<\/td>\n",
       "      <td>NaN<\/td>\n",
       "      <td>111.37500<\/td>\n",
       "      <td>NaN<\/td>\n",
       "      <td>0.04328<\/td>\n",
       "      <td>-0.00000<\/td>\n",
       "      <td>NaN<\/td>\n",
       "      <td>NaN<\/td>\n",
       "      <td>104.72500<\/td>\n",
       "      <td>NaN<\/td>\n",
       "    <\/tr>\n",
       "    <tr>\n",
       "      <th>22<\/th>\n",
       "      <td>2018-01-19<\/td>\n",
       "      <td>1,748,653.15000<\/td>\n",
       "      <td>2018-07-19<\/td>\n",
       "      <td>0.50278<\/td>\n",
       "      <td>0.04435<\/td>\n",
       "      <td>38,995.92599<\/td>\n",
       "      <td>0.61376<\/td>\n",
       "      <td>23,934.24726<\/td>\n",
       "      <td>0.00000<\/td>\n",
       "      <td>11.50000<\/td>\n",
       "      <td>NaN<\/td>\n",
       "      <td>NaN<\/td>\n",
       "      <td>111.44250<\/td>\n",
       "      <td>NaN<\/td>\n",
       "      <td>0.04336<\/td>\n",
       "      <td>-0.00000<\/td>\n",
       "      <td>NaN<\/td>\n",
       "      <td>NaN<\/td>\n",
       "      <td>104.78250<\/td>\n",
       "      <td>NaN<\/td>\n",
       "    <\/tr>\n",
       "    <tr>\n",
       "      <th>23<\/th>\n",
       "      <td>2018-07-19<\/td>\n",
       "      <td>1,748,653.15000<\/td>\n",
       "      <td>2019-01-21<\/td>\n",
       "      <td>0.51667<\/td>\n",
       "      <td>0.04556<\/td>\n",
       "      <td>41,162.95178<\/td>\n",
       "      <td>0.59965<\/td>\n",
       "      <td>24,683.24818<\/td>\n",
       "      <td>0.00000<\/td>\n",
       "      <td>12.00000<\/td>\n",
       "      <td>12Yr<\/td>\n",
       "      <td>6.00%<\/td>\n",
       "      <td>111.51000<\/td>\n",
       "      <td>12.00000<\/td>\n",
       "      <td>0.04354<\/td>\n",
       "      <td>-0.00000<\/td>\n",
       "      <td>12Yr<\/td>\n",
       "      <td>4.00%<\/td>\n",
       "      <td>104.84000<\/td>\n",
       "      <td>12.00000<\/td>\n",
       "    <\/tr>\n",
       "    <tr>\n",
       "      <th>24<\/th>\n",
       "      <td>2019-01-21<\/td>\n",
       "      <td>1,748,653.15000<\/td>\n",
       "      <td>2019-07-19<\/td>\n",
       "      <td>0.49722<\/td>\n",
       "      <td>0.06235<\/td>\n",
       "      <td>54,212.62689<\/td>\n",
       "      <td>0.58162<\/td>\n",
       "      <td>31,530.91190<\/td>\n",
       "      <td>0.00235<\/td>\n",
       "      <td>12.50000<\/td>\n",
       "      <td>NaN<\/td>\n",
       "      <td>NaN<\/td>\n",
       "      <td>111.56667<\/td>\n",
       "      <td>NaN<\/td>\n",
       "      <td>0.04431<\/td>\n",
       "      <td>1,062.32451<\/td>\n",
       "      <td>NaN<\/td>\n",
       "      <td>NaN<\/td>\n",
       "      <td>104.87500<\/td>\n",
       "      <td>NaN<\/td>\n",
       "    <\/tr>\n",
       "    <tr>\n",
       "      <th>25<\/th>\n",
       "      <td>2019-07-19<\/td>\n",
       "      <td>1,748,653.15000<\/td>\n",
       "      <td>2020-01-20<\/td>\n",
       "      <td>0.51389<\/td>\n",
       "      <td>0.06442<\/td>\n",
       "      <td>57,884.52828<\/td>\n",
       "      <td>0.56298<\/td>\n",
       "      <td>32,587.81397<\/td>\n",
       "      <td>0.00442<\/td>\n",
       "      <td>13.00000<\/td>\n",
       "      <td>NaN<\/td>\n",
       "      <td>NaN<\/td>\n",
       "      <td>111.62333<\/td>\n",
       "      <td>NaN<\/td>\n",
       "      <td>0.04518<\/td>\n",
       "      <td>2,133.67241<\/td>\n",
       "      <td>NaN<\/td>\n",
       "      <td>NaN<\/td>\n",
       "      <td>104.91000<\/td>\n",
       "      <td>NaN<\/td>\n",
       "    <\/tr>\n",
       "    <tr>\n",
       "      <th>26<\/th>\n",
       "      <td>2020-01-20<\/td>\n",
       "      <td>1,748,653.15000<\/td>\n",
       "      <td>2020-07-20<\/td>\n",
       "      <td>0.50556<\/td>\n",
       "      <td>0.06658<\/td>\n",
       "      <td>58,862.75866<\/td>\n",
       "      <td>0.54465<\/td>\n",
       "      <td>32,059.36293<\/td>\n",
       "      <td>0.00658<\/td>\n",
       "      <td>13.50000<\/td>\n",
       "      <td>NaN<\/td>\n",
       "      <td>NaN<\/td>\n",
       "      <td>111.68000<\/td>\n",
       "      <td>NaN<\/td>\n",
       "      <td>0.04604<\/td>\n",
       "      <td>3,085.92087<\/td>\n",
       "      <td>NaN<\/td>\n",
       "      <td>NaN<\/td>\n",
       "      <td>104.94500<\/td>\n",
       "      <td>NaN<\/td>\n",
       "    <\/tr>\n",
       "    <tr>\n",
       "      <th>27<\/th>\n",
       "      <td>2020-07-20<\/td>\n",
       "      <td>1,748,653.15000<\/td>\n",
       "      <td>2021-01-19<\/td>\n",
       "      <td>0.50833<\/td>\n",
       "      <td>0.06892<\/td>\n",
       "      <td>61,259.61778<\/td>\n",
       "      <td>0.52621<\/td>\n",
       "      <td>32,235.51328<\/td>\n",
       "      <td>0.00892<\/td>\n",
       "      <td>14.00000<\/td>\n",
       "      <td>NaN<\/td>\n",
       "      <td>NaN<\/td>\n",
       "      <td>111.73667<\/td>\n",
       "      <td>NaN<\/td>\n",
       "      <td>0.04693<\/td>\n",
       "      <td>4,066.03495<\/td>\n",
       "      <td>NaN<\/td>\n",
       "      <td>NaN<\/td>\n",
       "      <td>104.98000<\/td>\n",
       "      <td>NaN<\/td>\n",
       "    <\/tr>\n",
       "    <tr>\n",
       "      <th>28<\/th>\n",
       "      <td>2021-01-19<\/td>\n",
       "      <td>1,748,653.15000<\/td>\n",
       "      <td>2021-07-19<\/td>\n",
       "      <td>0.50278<\/td>\n",
       "      <td>0.07139<\/td>\n",
       "      <td>62,764.89148<\/td>\n",
       "      <td>0.50798<\/td>\n",
       "      <td>31,883.21259<\/td>\n",
       "      <td>0.01139<\/td>\n",
       "      <td>14.50000<\/td>\n",
       "      <td>NaN<\/td>\n",
       "      <td>NaN<\/td>\n",
       "      <td>111.79333<\/td>\n",
       "      <td>NaN<\/td>\n",
       "      <td>0.04782<\/td>\n",
       "      <td>4,953.42193<\/td>\n",
       "      <td>NaN<\/td>\n",
       "      <td>NaN<\/td>\n",
       "      <td>105.01500<\/td>\n",
       "      <td>NaN<\/td>\n",
       "    <\/tr>\n",
       "    <tr>\n",
       "      <th>29<\/th>\n",
       "      <td>2021-07-19<\/td>\n",
       "      <td>1,748,653.15000<\/td>\n",
       "      <td>2022-01-19<\/td>\n",
       "      <td>0.51111<\/td>\n",
       "      <td>0.07409<\/td>\n",
       "      <td>66,221.49629<\/td>\n",
       "      <td>0.48944<\/td>\n",
       "      <td>32,411.66362<\/td>\n",
       "      <td>0.01409<\/td>\n",
       "      <td>15.00000<\/td>\n",
       "      <td>15Yr<\/td>\n",
       "      <td>6.00%<\/td>\n",
       "      <td>111.85000<\/td>\n",
       "      <td>15.00000<\/td>\n",
       "      <td>0.04879<\/td>\n",
       "      <td>5,991.64085<\/td>\n",
       "      <td>15Yr<\/td>\n",
       "      <td>4.00%<\/td>\n",
       "      <td>105.05000<\/td>\n",
       "      <td>15.00000<\/td>\n",
       "    <\/tr>\n",
       "  <\/tbody>\n",
       "<\/table>\n",
       "<\/div>"
      ]
     },
     "metadata":{
      
     },
     "output_type":"display_data"
    }
   ],
   "metadata":{
    "datalore":{
     "node_id":"CCZAvhDiEYdrkH595G0t2Z",
     "type":"CODE",
     "hide_input_from_viewers":true,
     "hide_output_from_viewers":true
    }
   }
  },
  {
   "cell_type":"code",
   "source":[
    "#function to get the strike\n",
    "#we solve for a strike that cancels out the prices of the cap and the floor, so that the market value at time 0 is equal to 0\n",
    "def alt3Pv(strike):\n",
    "    #Present Value of the swap\n",
    "    list_of_floor_prices= float_leg_alt3.loc[1:, :].apply(lambda x: floorlet_price(strike, x['fwd'], x['NormalVol_y']\/100, x['zero_rate'], x['start'], x['end']), axis=1)*swap_notional\n",
    "    price_floor_3a=sum(list_of_floor_prices)\n",
    "    float_leg_pv_alt3 = float_leg_alt3.pv.sum()\n",
    "\n",
    "    return  price_cap_3a-price_floor_3a\n",
    "\n",
    "res_alt3 = root(alt3Pv,1)\n",
    "strike_alt3 = res_alt3['x'][0]\n",
    "print(f'Strike of the floor for alternative 3: {strike_alt3*100:.4}%')"
   ],
   "execution_count":685,
   "outputs":[
    {
     "name":"stdout",
     "text":[
      "Strike of the floor for alternative 3: 4.352%\n"
     ],
     "output_type":"stream"
    }
   ],
   "metadata":{
    "datalore":{
     "node_id":"HTAGixJoyDTmP3GU6QkVaF",
     "type":"CODE",
     "hide_input_from_viewers":true,
     "hide_output_from_viewers":true
    }
   }
  },
  {
   "cell_type":"code",
   "source":[
    "#Exercise 3b\n",
    "\"\"\"\n",
    "In mathematical terms the choice is irrelevant.\n",
    "At time 0, all decisions produce a market value of 0, and any fluctuation is \"impossible\" to predict\n",
    "However, financial expertise can lead you to try and pick a better alternative, based on experience in the market\n",
    "and your risk aversion\/appetite.\n",
    "\n",
    "Alternative 1:\n",
    "We would personally not choose alternative 1, as we fear that after the 10 year, the bank cancells our swap\n",
    "In this case, we would incurr in increased costs with our loan, which would then be mitigated by a new swap\n",
    "Obviously that swap would have a much higher rate\n",
    "\n",
    "Alternative 2:\n",
    "In this alternative we are short an option (cap).\n",
    "We have the benefit og receiving a payoff at time 0, the premium of the option\n",
    "But in this case our downside is infinite\n",
    "We don't know where rates are going, and we would rather pay a higher monthy fee, but know that our installments can't skyorkcet\n",
    "\n",
    "Alternative 3:\n",
    "We would choose this alternative, even though we won't be perfectly hedging the installments of our loan\n",
    "In this case we accept that we pay some premium up front, but we have some ease of mind regarding potential increases in the euribor\n",
    "In this alternative we don't have a swap, but if no big shifts happen, we know that we will be paying euribor between two set values (the strikes of the cap and the floor)\n",
    "In any case, we are hedged against big shifts in the euribor, we will never pay more than 6%\n",
    "If the euribor goes below the strike of the floor, we even receive some extra payments\n",
    "\"\"\""
   ],
   "execution_count":689,
   "outputs":[
    {
     "data":{
      "text\/plain":[
       "'\\nIn mathematical terms the choice is irrelevant.\\nAt time 0, all decisions produce a market value of 0, and any fluctuation is \"impossible\" to predict\\nHowever, financial expertise can lead you to try and pick a better alternative, based on experience in the market\\nand your risk aversion\/appetite.\\n\\nAlternative 1:\\nWe would personally not choose alternative 1, as we fear that after the 10 year, the bank cancells our swap\\nIn this case, we would incurr in increased costs with our loan, which would then be mitigated by a new swap\\nObviously that swap would have a much higher rate\\n\\nAlternative 2:\\nIn this alternative we are short an option (cap).\\nWe have the benefit og receiving a payoff at time 0, the premium of the option\\nBut in this case our downside is infinite\\nWe don\\'t know where rates are going, and we would rather pay a higher monthy fee, but know that our installments can\\'t skyorkcet\\n\\nAlternative 3:\\nWe would choose this alternative, even though we won\\'t be perfectly hedging the installments of our loan\\nIn this case we accept that we pay some premium up front, but we have some ease of mind regarding potential increases in the euribor\\nIn this alternative we don\\'t have a swap, but if no big shifts happen, we know that we will be paying euribor between two set values (the strikes of the cap and the floor)\\nIn any case, we are hedged against big shifts in the euribor, we will never pay more than 6%\\nIf the euribor goes below the strike of the floor, we even receive some extra payments\\n'"
      ]
     },
     "metadata":{
      
     },
     "output_type":"display_data"
    }
   ],
   "metadata":{
    "datalore":{
     "node_id":"vSByCS7Phh6pfal8BQ7wyE",
     "type":"CODE",
     "hide_input_from_viewers":true,
     "hide_output_from_viewers":true
    }
   }
  },
  {
   "cell_type":"code",
   "source":[
    "#3 c)\n",
    "euribor_range = [x for x in range(0,11)] #create a list from 0 to 10\n",
    "\n",
    "#swap\n",
    "fixed_rate_pay=np.repeat(fixed_rate1*100, 11)\n",
    "\n",
    "#alt1\n",
    "pay_rate_fixed1 = fixed_rate2 * 100\n",
    "pay_rate_float = []\n",
    "net_rate1 = []\n",
    "#Loop to append our data into lists\n",
    "for idx, rate in enumerate(euribor_range):\n",
    "    pay_rate_float.append(rate)\n",
    "    net_rate1.append(pay_rate_fixed1)#- pay_rate_float[idx])\n",
    "\n",
    "#alt2\n",
    "cost_alt2=price_cap_alt2\/swap_notional*100\n",
    "pay_rate_fixed2 = fixed_rate_alt2 * 100\n",
    "strike_cap = 6\n",
    "cap_pay = []\n",
    "net_rate2 = []\n",
    "#Loop to append our data into lists\n",
    "for idx, rate in enumerate(euribor_range):\n",
    "    if rate > strike_cap:\n",
    "        cap_pay.append(rate-strike_cap)\n",
    "    else:\n",
    "        cap_pay.append(0)\n",
    "    net_rate2.append(pay_rate_fixed2 + cap_pay[idx]-cost_alt2) #-pay_rate_float[idx]+ cap_pay[idx])\n",
    "\n",
    "#alt3\n",
    "cost_alt3=((price_cap_alt2+price_floor_3a)\/swap_notional)*100\n",
    "floor_strike=strike_alt3*100 #floor strike\n",
    "cap_pay_2 = []\n",
    "floor_pay=[]\n",
    "net_rate3=[]\n",
    "#Loop to append our data into lists\n",
    "for idx, rate in enumerate(euribor_range):\n",
    "    if rate > strike_cap:\n",
    "        cap_pay_2.append(rate-strike_cap)\n",
    "        floor_pay.append(0)\n",
    "    elif rate < floor_strike:\n",
    "        floor_pay.append(floor_strike-rate)\n",
    "        cap_pay_2.append(0)\n",
    "    else:\n",
    "        cap_pay_2.append(0)\n",
    "        floor_pay.append(0)\n",
    "    net_rate3.append( -cap_pay_2[idx]-floor_pay[idx]+cost_alt3)\n",
    "\n",
    "#ploting our alternatives against our swap\n",
    "plt.plot(net_rate1, label=\"Alt. 1\")\n",
    "plt.plot(net_rate2, label=\"Alt. 2\")\n",
    "plt.plot(net_rate3, label=\"Alt. 3\")\n",
    "plt.plot(fixed_rate_pay, label=\"Swap\")\n",
    "plt.xlim(0, 10)\n",
    "plt.xlabel (\"Euribor (%)\")\n",
    "plt.ylabel (\"Derivative Rate\")\n",
    "plt.legend (loc=\"upper right\")"
   ],
   "execution_count":691,
   "outputs":[
    {
     "data":{
      "text\/plain":[
       "<matplotlib.legend.Legend at 0x7f198bd45d00>"
      ]
     },
     "metadata":{
      
     },
     "output_type":"display_data"
    },
    {
     "data":{
      "image\/png":"[encoded data removed]"
     },
     "metadata":{
      "image\/png":{
       
      }
     },
     "output_type":"display_data"
    }
   ],
   "metadata":{
    "datalore":{
     "node_id":"qnIyATjuXqjuAOXCb3WxlV",
     "type":"CODE",
     "hide_input_from_viewers":true,
     "hide_output_from_viewers":true
    }
   }
  },
  {
   "cell_type":"code",
   "source":[
    "#By looking at this grpah, we feel like all alternatives make sense, except for alternative 3\n",
    "#By looking at this graph we see that that alternative completely outperforms the others, which would be too good to be true\n",
    "#If this was the case, nobody would enter into swap agrements, as this strategy would totally dominate a swap. Market forces would then correct these prices\n",
    "#In this alternative, the premium we pay for the options is the factor that should have balanced the payoffs\n",
    "#So, we can assume that (at least) the value that we calculated for both the cap price and floor price, are wrong\n",
    "#Looking at alternative 2, that also has a cap, we see that the values make sense in financial terms, so we feel like the mistake is in the price of the floor"
   ],
   "execution_count":null,
   "outputs":[
    
   ],
   "metadata":{
    "datalore":{
     "node_id":"Jo87kcGxyxBh27UrQztZ4A",
     "type":"CODE",
     "hide_input_from_viewers":true,
     "hide_output_from_viewers":true
    }
   }
  }
 ],
 "metadata":{
  "kernelspec":{
   "display_name":"Python",
   "language":"python",
   "name":"python"
  },
  "datalore":{
   "version":1,
   "computation_mode":"JUPYTER",
   "package_manager":"pip",
   "base_environment":"default",
   "packages":[
    
   ]
  }
 },
 "nbformat":4,
 "nbformat_minor":4
}