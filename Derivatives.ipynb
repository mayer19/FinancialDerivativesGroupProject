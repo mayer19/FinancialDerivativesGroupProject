{
 "cells":[
  {
   "cell_type":"code",
   "source":[
    "import pandas as pd\n",
    "import numpy as np \n",
    "from datetime import datetime, date, timedelta\n",
    "from dateutil.relativedelta import relativedelta\n",
    "import io\n",
    "import re\n",
    "from scipy.interpolate import interp1d\n",
    "from datetime import datetime\n",
    "from datetime import timezone\n",
    "from math import sqrt "
   ],
   "execution_count":214,
   "outputs":[
    
   ],
   "metadata":{
    "datalore":{
     "node_id":"cKxT3FRcP7cADGefXI7UJP",
     "type":"CODE",
     "hide_input_from_viewers":false,
     "hide_output_from_viewers":false,
     "report_properties":{
      "y":0
     }
    }
   }
  },
  {
   "cell_type":"code",
   "source":[
    "capnormal=pd.read_csv(\"HA_capNormalVol.csv\")\n",
    "swaps_data=pd.read_csv(\"HA_swaps.csv\")\n",
    "swaption=pd.read_csv(\"HA_swaptionNormalVol.csv\")"
   ],
   "execution_count":299,
   "outputs":[
    
   ],
   "metadata":{
    "datalore":{
     "node_id":"9Z8cYm7M4EcllOPqEu0CgK",
     "type":"CODE",
     "hide_input_from_viewers":false,
     "hide_output_from_viewers":false,
     "report_properties":{
      "y":5
     }
    }
   }
  },
  {
   "cell_type":"code",
   "source":[
    "def schedule(start, end, freq=6):            \n",
    "    def advance(dt, months):\n",
    "        try:\n",
    "            return date(dt.year, dt.month + months, dt.day)\n",
    "        except:\n",
    "            return date(dt.year + 1, dt.month - months, dt.day)\n",
    "    dates = [start]\n",
    "    while dates[-1] <= end:\n",
    "        dates.append(advance(dates[-1], 6))\n",
    "    return dates[:-1]"
   ],
   "execution_count":300,
   "outputs":[
    
   ],
   "metadata":{
    "datalore":{
     "node_id":"FsQ8pYBLA98QZckgsYalNy",
     "type":"CODE",
     "hide_input_from_viewers":false,
     "hide_output_from_viewers":false,
     "report_properties":{
      "y":23
     }
    }
   }
  },
  {
   "cell_type":"code",
   "source":[
    "#Exercise 1\n",
    "#creating schedule of dates\n",
    "today_date = date(2007,1,15)\n",
    "maturity = date(2022,1,19)\n",
    "start_date = date(2007,1,19)"
   ],
   "execution_count":301,
   "outputs":[
    
   ],
   "metadata":{
    "datalore":{
     "node_id":"jucEqU6iRkuDvnZcWvZAfq",
     "type":"CODE",
     "hide_input_from_viewers":false,
     "hide_output_from_viewers":false,
     "report_properties":{
      "y":30
     }
    }
   }
  },
  {
   "cell_type":"code",
   "source":[
    "#Exercise 1\n",
    "swaps = swaps_data.rename(columns={'Unnamed: 0': 'Date'}) #changing name of columns\n",
    "swaps['Date'] = pd.to_datetime(swaps['Date']) #setting the Date columns to a datetime columns\n",
    "swaps.set_index('Date', inplace=True) #setting the column as the index\n",
    "swaps"
   ],
   "execution_count":302,
   "outputs":[
    {
     "data":{
      "text\/html":[
       "<div>\n",
       "<style scoped>\n",
       "    .dataframe tbody tr th:only-of-type {\n",
       "        vertical-align: middle;\n",
       "    }\n",
       "\n",
       "    .dataframe tbody tr th {\n",
       "        vertical-align: top;\n",
       "    }\n",
       "\n",
       "    .dataframe thead th {\n",
       "        text-align: right;\n",
       "    }\n",
       "<\/style>\n",
       "<table border=\"1\" class=\"dataframe\">\n",
       "  <thead>\n",
       "    <tr style=\"text-align: right;\">\n",
       "      <th><\/th>\n",
       "      <th>Deposit 6M<\/th>\n",
       "      <th>FRA 1X7<\/th>\n",
       "      <th>FRA 2X8<\/th>\n",
       "      <th>FRA 3X9<\/th>\n",
       "      <th>FRA 4X10<\/th>\n",
       "      <th>FRA 5X11<\/th>\n",
       "      <th>FRA 6X12<\/th>\n",
       "      <th>FRA 7X13<\/th>\n",
       "      <th>FRA 8X14<\/th>\n",
       "      <th>FRA 9X15<\/th>\n",
       "      <th>...<\/th>\n",
       "      <th>Swap 9Y<\/th>\n",
       "      <th>Swap 10Y<\/th>\n",
       "      <th>Swap 11Y<\/th>\n",
       "      <th>Swap 12Y<\/th>\n",
       "      <th>Swap 15Y<\/th>\n",
       "      <th>Swap 20Y<\/th>\n",
       "      <th>Swap 25Y<\/th>\n",
       "      <th>Swap 30Y<\/th>\n",
       "      <th>Swap 40Y<\/th>\n",
       "      <th>Swap 50Y<\/th>\n",
       "    <\/tr>\n",
       "    <tr>\n",
       "      <th>Date<\/th>\n",
       "      <th><\/th>\n",
       "      <th><\/th>\n",
       "      <th><\/th>\n",
       "      <th><\/th>\n",
       "      <th><\/th>\n",
       "      <th><\/th>\n",
       "      <th><\/th>\n",
       "      <th><\/th>\n",
       "      <th><\/th>\n",
       "      <th><\/th>\n",
       "      <th><\/th>\n",
       "      <th><\/th>\n",
       "      <th><\/th>\n",
       "      <th><\/th>\n",
       "      <th><\/th>\n",
       "      <th><\/th>\n",
       "      <th><\/th>\n",
       "      <th><\/th>\n",
       "      <th><\/th>\n",
       "      <th><\/th>\n",
       "      <th><\/th>\n",
       "    <\/tr>\n",
       "  <\/thead>\n",
       "  <tbody>\n",
       "    <tr>\n",
       "      <th>2007-01-02<\/th>\n",
       "      <td>3.85700<\/td>\n",
       "      <td>3.92850<\/td>\n",
       "      <td>3.97700<\/td>\n",
       "      <td>4.01550<\/td>\n",
       "      <td>4.04550<\/td>\n",
       "      <td>4.07550<\/td>\n",
       "      <td>4.09750<\/td>\n",
       "      <td>4.09650<\/td>\n",
       "      <td>4.10100<\/td>\n",
       "      <td>4.10050<\/td>\n",
       "      <td>...<\/td>\n",
       "      <td>4.15200<\/td>\n",
       "      <td>4.17200<\/td>\n",
       "      <td>4.18700<\/td>\n",
       "      <td>4.20600<\/td>\n",
       "      <td>4.24450<\/td>\n",
       "      <td>4.28400<\/td>\n",
       "      <td>4.27500<\/td>\n",
       "      <td>4.25900<\/td>\n",
       "      <td>4.21600<\/td>\n",
       "      <td>4.17400<\/td>\n",
       "    <\/tr>\n",
       "    <tr>\n",
       "      <th>2007-01-03<\/th>\n",
       "      <td>3.86000<\/td>\n",
       "      <td>3.91700<\/td>\n",
       "      <td>3.97200<\/td>\n",
       "      <td>4.01450<\/td>\n",
       "      <td>4.04100<\/td>\n",
       "      <td>4.06700<\/td>\n",
       "      <td>4.08200<\/td>\n",
       "      <td>4.08700<\/td>\n",
       "      <td>4.09200<\/td>\n",
       "      <td>4.08900<\/td>\n",
       "      <td>...<\/td>\n",
       "      <td>4.15050<\/td>\n",
       "      <td>4.17150<\/td>\n",
       "      <td>4.18850<\/td>\n",
       "      <td>4.20450<\/td>\n",
       "      <td>4.25800<\/td>\n",
       "      <td>4.28450<\/td>\n",
       "      <td>4.29500<\/td>\n",
       "      <td>4.26350<\/td>\n",
       "      <td>4.22050<\/td>\n",
       "      <td>4.17850<\/td>\n",
       "    <\/tr>\n",
       "    <tr>\n",
       "      <th>2007-01-04<\/th>\n",
       "      <td>3.86500<\/td>\n",
       "      <td>3.93150<\/td>\n",
       "      <td>3.98650<\/td>\n",
       "      <td>4.02250<\/td>\n",
       "      <td>4.04350<\/td>\n",
       "      <td>4.07200<\/td>\n",
       "      <td>4.09150<\/td>\n",
       "      <td>4.09750<\/td>\n",
       "      <td>4.10250<\/td>\n",
       "      <td>4.09850<\/td>\n",
       "      <td>...<\/td>\n",
       "      <td>4.14450<\/td>\n",
       "      <td>4.16250<\/td>\n",
       "      <td>4.18150<\/td>\n",
       "      <td>4.19850<\/td>\n",
       "      <td>4.24550<\/td>\n",
       "      <td>4.27550<\/td>\n",
       "      <td>4.27800<\/td>\n",
       "      <td>4.25650<\/td>\n",
       "      <td>4.21450<\/td>\n",
       "      <td>4.17250<\/td>\n",
       "    <\/tr>\n",
       "    <tr>\n",
       "      <th>2007-01-05<\/th>\n",
       "      <td>3.86400<\/td>\n",
       "      <td>3.94150<\/td>\n",
       "      <td>3.99500<\/td>\n",
       "      <td>4.04100<\/td>\n",
       "      <td>4.07100<\/td>\n",
       "      <td>4.09500<\/td>\n",
       "      <td>4.12200<\/td>\n",
       "      <td>4.13050<\/td>\n",
       "      <td>4.13650<\/td>\n",
       "      <td>4.13250<\/td>\n",
       "      <td>...<\/td>\n",
       "      <td>4.18750<\/td>\n",
       "      <td>4.20550<\/td>\n",
       "      <td>4.22350<\/td>\n",
       "      <td>4.24050<\/td>\n",
       "      <td>4.28850<\/td>\n",
       "      <td>4.31750<\/td>\n",
       "      <td>4.32900<\/td>\n",
       "      <td>4.29700<\/td>\n",
       "      <td>4.25500<\/td>\n",
       "      <td>4.21500<\/td>\n",
       "    <\/tr>\n",
       "    <tr>\n",
       "      <th>2007-01-08<\/th>\n",
       "      <td>3.87400<\/td>\n",
       "      <td>3.94350<\/td>\n",
       "      <td>4.00150<\/td>\n",
       "      <td>4.04350<\/td>\n",
       "      <td>4.06950<\/td>\n",
       "      <td>4.09850<\/td>\n",
       "      <td>4.12250<\/td>\n",
       "      <td>4.12150<\/td>\n",
       "      <td>4.12750<\/td>\n",
       "      <td>4.12350<\/td>\n",
       "      <td>...<\/td>\n",
       "      <td>4.18600<\/td>\n",
       "      <td>4.20600<\/td>\n",
       "      <td>4.22600<\/td>\n",
       "      <td>4.24200<\/td>\n",
       "      <td>4.28850<\/td>\n",
       "      <td>4.32000<\/td>\n",
       "      <td>4.32100<\/td>\n",
       "      <td>4.30000<\/td>\n",
       "      <td>4.25900<\/td>\n",
       "      <td>4.22000<\/td>\n",
       "    <\/tr>\n",
       "    <tr>\n",
       "      <th>...<\/th>\n",
       "      <td>...<\/td>\n",
       "      <td>...<\/td>\n",
       "      <td>...<\/td>\n",
       "      <td>...<\/td>\n",
       "      <td>...<\/td>\n",
       "      <td>...<\/td>\n",
       "      <td>...<\/td>\n",
       "      <td>...<\/td>\n",
       "      <td>...<\/td>\n",
       "      <td>...<\/td>\n",
       "      <td>...<\/td>\n",
       "      <td>...<\/td>\n",
       "      <td>...<\/td>\n",
       "      <td>...<\/td>\n",
       "      <td>...<\/td>\n",
       "      <td>...<\/td>\n",
       "      <td>...<\/td>\n",
       "      <td>...<\/td>\n",
       "      <td>...<\/td>\n",
       "      <td>...<\/td>\n",
       "      <td>...<\/td>\n",
       "    <\/tr>\n",
       "    <tr>\n",
       "      <th>2020-04-10<\/th>\n",
       "      <td>NaN<\/td>\n",
       "      <td>NaN<\/td>\n",
       "      <td>NaN<\/td>\n",
       "      <td>NaN<\/td>\n",
       "      <td>NaN<\/td>\n",
       "      <td>NaN<\/td>\n",
       "      <td>NaN<\/td>\n",
       "      <td>NaN<\/td>\n",
       "      <td>NaN<\/td>\n",
       "      <td>NaN<\/td>\n",
       "      <td>...<\/td>\n",
       "      <td>NaN<\/td>\n",
       "      <td>NaN<\/td>\n",
       "      <td>NaN<\/td>\n",
       "      <td>NaN<\/td>\n",
       "      <td>0.16200<\/td>\n",
       "      <td>0.21070<\/td>\n",
       "      <td>NaN<\/td>\n",
       "      <td>0.13460<\/td>\n",
       "      <td>0.06100<\/td>\n",
       "      <td>NaN<\/td>\n",
       "    <\/tr>\n",
       "    <tr>\n",
       "      <th>2020-05-01<\/th>\n",
       "      <td>NaN<\/td>\n",
       "      <td>NaN<\/td>\n",
       "      <td>NaN<\/td>\n",
       "      <td>NaN<\/td>\n",
       "      <td>NaN<\/td>\n",
       "      <td>NaN<\/td>\n",
       "      <td>NaN<\/td>\n",
       "      <td>NaN<\/td>\n",
       "      <td>NaN<\/td>\n",
       "      <td>NaN<\/td>\n",
       "      <td>...<\/td>\n",
       "      <td>-0.19350<\/td>\n",
       "      <td>NaN<\/td>\n",
       "      <td>NaN<\/td>\n",
       "      <td>NaN<\/td>\n",
       "      <td>-0.00850<\/td>\n",
       "      <td>0.03410<\/td>\n",
       "      <td>-0.00120<\/td>\n",
       "      <td>-0.06100<\/td>\n",
       "      <td>-0.15900<\/td>\n",
       "      <td>NaN<\/td>\n",
       "    <\/tr>\n",
       "    <tr>\n",
       "      <th>2019-12-26<\/th>\n",
       "      <td>NaN<\/td>\n",
       "      <td>NaN<\/td>\n",
       "      <td>NaN<\/td>\n",
       "      <td>NaN<\/td>\n",
       "      <td>NaN<\/td>\n",
       "      <td>NaN<\/td>\n",
       "      <td>NaN<\/td>\n",
       "      <td>NaN<\/td>\n",
       "      <td>NaN<\/td>\n",
       "      <td>-0.30500<\/td>\n",
       "      <td>...<\/td>\n",
       "      <td>NaN<\/td>\n",
       "      <td>NaN<\/td>\n",
       "      <td>NaN<\/td>\n",
       "      <td>NaN<\/td>\n",
       "      <td>NaN<\/td>\n",
       "      <td>NaN<\/td>\n",
       "      <td>NaN<\/td>\n",
       "      <td>0.57600<\/td>\n",
       "      <td>0.53000<\/td>\n",
       "      <td>NaN<\/td>\n",
       "    <\/tr>\n",
       "    <tr>\n",
       "      <th>2020-01-01<\/th>\n",
       "      <td>NaN<\/td>\n",
       "      <td>NaN<\/td>\n",
       "      <td>NaN<\/td>\n",
       "      <td>NaN<\/td>\n",
       "      <td>NaN<\/td>\n",
       "      <td>NaN<\/td>\n",
       "      <td>NaN<\/td>\n",
       "      <td>NaN<\/td>\n",
       "      <td>NaN<\/td>\n",
       "      <td>NaN<\/td>\n",
       "      <td>...<\/td>\n",
       "      <td>NaN<\/td>\n",
       "      <td>NaN<\/td>\n",
       "      <td>NaN<\/td>\n",
       "      <td>NaN<\/td>\n",
       "      <td>NaN<\/td>\n",
       "      <td>NaN<\/td>\n",
       "      <td>NaN<\/td>\n",
       "      <td>0.62110<\/td>\n",
       "      <td>0.57510<\/td>\n",
       "      <td>NaN<\/td>\n",
       "    <\/tr>\n",
       "    <tr>\n",
       "      <th>2019-12-25<\/th>\n",
       "      <td>NaN<\/td>\n",
       "      <td>NaN<\/td>\n",
       "      <td>NaN<\/td>\n",
       "      <td>NaN<\/td>\n",
       "      <td>NaN<\/td>\n",
       "      <td>NaN<\/td>\n",
       "      <td>NaN<\/td>\n",
       "      <td>NaN<\/td>\n",
       "      <td>NaN<\/td>\n",
       "      <td>NaN<\/td>\n",
       "      <td>...<\/td>\n",
       "      <td>NaN<\/td>\n",
       "      <td>NaN<\/td>\n",
       "      <td>NaN<\/td>\n",
       "      <td>NaN<\/td>\n",
       "      <td>NaN<\/td>\n",
       "      <td>NaN<\/td>\n",
       "      <td>NaN<\/td>\n",
       "      <td>0.57600<\/td>\n",
       "      <td>0.53000<\/td>\n",
       "      <td>NaN<\/td>\n",
       "    <\/tr>\n",
       "  <\/tbody>\n",
       "<\/table>\n",
       "<p>3645 rows × 30 columns<\/p>\n",
       "<\/div>"
      ]
     },
     "metadata":{
      
     },
     "output_type":"display_data"
    }
   ],
   "metadata":{
    "datalore":{
     "node_id":"eLbefmFYYR7wkAVAqiXttB",
     "type":"CODE",
     "hide_input_from_viewers":false,
     "hide_output_from_viewers":false,
     "report_properties":{
      "y":35
     }
    }
   }
  },
  {
   "cell_type":"code",
   "source":[
    "swaps_v1=swaps.loc['2007-01-15 00:00:00'].transpose()\n",
    "swaps_v1.columns=['par_rate']\n",
    "swaps_v1.reset_index(inplace=True)\n",
    "swaps_v1"
   ],
   "execution_count":303,
   "outputs":[
    {
     "data":{
      "text\/html":[
       "<div>\n",
       "<style scoped>\n",
       "    .dataframe tbody tr th:only-of-type {\n",
       "        vertical-align: middle;\n",
       "    }\n",
       "\n",
       "    .dataframe tbody tr th {\n",
       "        vertical-align: top;\n",
       "    }\n",
       "\n",
       "    .dataframe thead th {\n",
       "        text-align: right;\n",
       "    }\n",
       "<\/style>\n",
       "<table border=\"1\" class=\"dataframe\">\n",
       "  <thead>\n",
       "    <tr style=\"text-align: right;\">\n",
       "      <th><\/th>\n",
       "      <th>index<\/th>\n",
       "      <th>par_rate<\/th>\n",
       "    <\/tr>\n",
       "  <\/thead>\n",
       "  <tbody>\n",
       "    <tr>\n",
       "      <th>0<\/th>\n",
       "      <td>Deposit 6M<\/td>\n",
       "      <td>3.88000<\/td>\n",
       "    <\/tr>\n",
       "    <tr>\n",
       "      <th>1<\/th>\n",
       "      <td>FRA 1X7<\/td>\n",
       "      <td>3.95200<\/td>\n",
       "    <\/tr>\n",
       "    <tr>\n",
       "      <th>2<\/th>\n",
       "      <td>FRA 2X8<\/td>\n",
       "      <td>4.02600<\/td>\n",
       "    <\/tr>\n",
       "    <tr>\n",
       "      <th>3<\/th>\n",
       "      <td>FRA 3X9<\/td>\n",
       "      <td>4.06590<\/td>\n",
       "    <\/tr>\n",
       "    <tr>\n",
       "      <th>4<\/th>\n",
       "      <td>FRA 4X10<\/td>\n",
       "      <td>4.10480<\/td>\n",
       "    <\/tr>\n",
       "    <tr>\n",
       "      <th>5<\/th>\n",
       "      <td>FRA 5X11<\/td>\n",
       "      <td>4.13860<\/td>\n",
       "    <\/tr>\n",
       "    <tr>\n",
       "      <th>6<\/th>\n",
       "      <td>FRA 6X12<\/td>\n",
       "      <td>4.15430<\/td>\n",
       "    <\/tr>\n",
       "    <tr>\n",
       "      <th>7<\/th>\n",
       "      <td>FRA 7X13<\/td>\n",
       "      <td>4.16060<\/td>\n",
       "    <\/tr>\n",
       "    <tr>\n",
       "      <th>8<\/th>\n",
       "      <td>FRA 8X14<\/td>\n",
       "      <td>4.16890<\/td>\n",
       "    <\/tr>\n",
       "    <tr>\n",
       "      <th>9<\/th>\n",
       "      <td>FRA 9X15<\/td>\n",
       "      <td>4.16750<\/td>\n",
       "    <\/tr>\n",
       "    <tr>\n",
       "      <th>10<\/th>\n",
       "      <td>FRA 10X16<\/td>\n",
       "      <td>4.15560<\/td>\n",
       "    <\/tr>\n",
       "    <tr>\n",
       "      <th>11<\/th>\n",
       "      <td>FRA 11X17<\/td>\n",
       "      <td>4.15150<\/td>\n",
       "    <\/tr>\n",
       "    <tr>\n",
       "      <th>12<\/th>\n",
       "      <td>FRA 12X18<\/td>\n",
       "      <td>4.13370<\/td>\n",
       "    <\/tr>\n",
       "    <tr>\n",
       "      <th>13<\/th>\n",
       "      <td>Swap 2Y<\/td>\n",
       "      <td>4.16900<\/td>\n",
       "    <\/tr>\n",
       "    <tr>\n",
       "      <th>14<\/th>\n",
       "      <td>Swap 3Y<\/td>\n",
       "      <td>4.17250<\/td>\n",
       "    <\/tr>\n",
       "    <tr>\n",
       "      <th>15<\/th>\n",
       "      <td>Swap 4Y<\/td>\n",
       "      <td>4.17550<\/td>\n",
       "    <\/tr>\n",
       "    <tr>\n",
       "      <th>16<\/th>\n",
       "      <td>Swap 5Y<\/td>\n",
       "      <td>4.18450<\/td>\n",
       "    <\/tr>\n",
       "    <tr>\n",
       "      <th>17<\/th>\n",
       "      <td>Swap 6Y<\/td>\n",
       "      <td>4.20250<\/td>\n",
       "    <\/tr>\n",
       "    <tr>\n",
       "      <th>18<\/th>\n",
       "      <td>Swap 7Y<\/td>\n",
       "      <td>4.21850<\/td>\n",
       "    <\/tr>\n",
       "    <tr>\n",
       "      <th>19<\/th>\n",
       "      <td>Swap 8Y<\/td>\n",
       "      <td>4.24250<\/td>\n",
       "    <\/tr>\n",
       "    <tr>\n",
       "      <th>20<\/th>\n",
       "      <td>Swap 9Y<\/td>\n",
       "      <td>4.26450<\/td>\n",
       "    <\/tr>\n",
       "    <tr>\n",
       "      <th>21<\/th>\n",
       "      <td>Swap 10Y<\/td>\n",
       "      <td>4.28750<\/td>\n",
       "    <\/tr>\n",
       "    <tr>\n",
       "      <th>22<\/th>\n",
       "      <td>Swap 11Y<\/td>\n",
       "      <td>4.30850<\/td>\n",
       "    <\/tr>\n",
       "    <tr>\n",
       "      <th>23<\/th>\n",
       "      <td>Swap 12Y<\/td>\n",
       "      <td>4.32750<\/td>\n",
       "    <\/tr>\n",
       "    <tr>\n",
       "      <th>24<\/th>\n",
       "      <td>Swap 15Y<\/td>\n",
       "      <td>4.37450<\/td>\n",
       "    <\/tr>\n",
       "    <tr>\n",
       "      <th>25<\/th>\n",
       "      <td>Swap 20Y<\/td>\n",
       "      <td>4.41250<\/td>\n",
       "    <\/tr>\n",
       "    <tr>\n",
       "      <th>26<\/th>\n",
       "      <td>Swap 25Y<\/td>\n",
       "      <td>4.41450<\/td>\n",
       "    <\/tr>\n",
       "    <tr>\n",
       "      <th>27<\/th>\n",
       "      <td>Swap 30Y<\/td>\n",
       "      <td>4.39550<\/td>\n",
       "    <\/tr>\n",
       "    <tr>\n",
       "      <th>28<\/th>\n",
       "      <td>Swap 40Y<\/td>\n",
       "      <td>4.35550<\/td>\n",
       "    <\/tr>\n",
       "    <tr>\n",
       "      <th>29<\/th>\n",
       "      <td>Swap 50Y<\/td>\n",
       "      <td>4.31550<\/td>\n",
       "    <\/tr>\n",
       "  <\/tbody>\n",
       "<\/table>\n",
       "<\/div>"
      ]
     },
     "metadata":{
      
     },
     "output_type":"display_data"
    }
   ],
   "metadata":{
    "datalore":{
     "node_id":"T7OBtqt4yP2WyMLTt3LDew",
     "type":"CODE",
     "hide_input_from_viewers":true,
     "hide_output_from_viewers":true
    }
   }
  },
  {
   "cell_type":"code",
   "source":[
    "swaps_v1[['instrument', 'maturity']] = swaps_v1['index'].str.split(' ', expand=True) #splitting the index column to have a columns with only the name of the product"
   ],
   "execution_count":304,
   "outputs":[
    
   ],
   "metadata":{
    "datalore":{
     "node_id":"lurZMmx2B94uSIUKEcVDqn",
     "type":"CODE",
     "hide_input_from_viewers":false,
     "hide_output_from_viewers":false,
     "report_properties":{
      "y":95
     }
    }
   }
  },
  {
   "cell_type":"code",
   "source":[
    "swaps_v1[\"maturity\"] = swaps_v1[\"maturity\"].apply(lambda x: x + \"M\" if \"X\" in x else x) #adding a M to the FRAs maturities"
   ],
   "execution_count":305,
   "outputs":[
    
   ],
   "metadata":{
    "datalore":{
     "node_id":"VJlAinGRK5w3kNU18XnYT5",
     "type":"CODE",
     "hide_input_from_viewers":false,
     "hide_output_from_viewers":false,
     "report_properties":{
      "y":121
     }
    }
   }
  },
  {
   "cell_type":"code",
   "source":[
    "swaps_v1['maturity_fra'] = swaps_v1['maturity'].str.split('X').str[1] #getting the maturity of the fra"
   ],
   "execution_count":306,
   "outputs":[
    
   ],
   "metadata":{
    "datalore":{
     "node_id":"lZUPtPnqZ0DZrlZVu9egCo",
     "type":"CODE",
     "hide_input_from_viewers":false,
     "hide_output_from_viewers":false,
     "report_properties":{
      "y":147
     }
    }
   }
  },
  {
   "cell_type":"code",
   "source":[
    "swaps_v1.loc[swaps_v1[\"instrument\"] == \"FRA\", \"maturity\"] = swaps_v1[\"maturity_fra\"] #getting the new maturity"
   ],
   "execution_count":307,
   "outputs":[
    
   ],
   "metadata":{
    "datalore":{
     "node_id":"QUwHphzra5SSzm6NwkzruT",
     "type":"CODE",
     "hide_input_from_viewers":false,
     "hide_output_from_viewers":false,
     "report_properties":{
      "y":173
     }
    }
   }
  },
  {
   "cell_type":"code",
   "source":[
    "def extract_number(string):\n",
    "    # Use a regular expression to extract the numeric value from the string\n",
    "    number = re.findall(r'\\d+', string)\n",
    "    # If the string contains the character 'M', return the number as a float\n",
    "    # (dividing the number by 12 to convert from months to years)\n",
    "    if 'M' in string:\n",
    "        return float(number[0]) \/ 12\n",
    "    # Otherwise, return the number as an integer\n",
    "    else:\n",
    "        return int(number[0])"
   ],
   "execution_count":308,
   "outputs":[
    
   ],
   "metadata":{
    "datalore":{
     "node_id":"q8ALPafONg2Y5KCJ7xxI6S",
     "type":"CODE",
     "hide_input_from_viewers":false,
     "hide_output_from_viewers":false,
     "report_properties":{
      "y":202
     }
    }
   }
  },
  {
   "cell_type":"code",
   "source":[
    "swaps_v1[\"year_frac\"] = swaps_v1[\"maturity\"].apply(extract_number)"
   ],
   "execution_count":309,
   "outputs":[
    
   ],
   "metadata":{
    "datalore":{
     "node_id":"CyIBYLe6He378gYR8yweTo",
     "type":"CODE",
     "hide_input_from_viewers":false,
     "hide_output_from_viewers":false,
     "report_properties":{
      "y":209
     }
    }
   }
  },
  {
   "cell_type":"code",
   "source":[
    "swaps_v1.set_index('index',inplace=True)"
   ],
   "execution_count":310,
   "outputs":[
    
   ],
   "metadata":{
    "datalore":{
     "node_id":"2w25gwdqY7CCf94CJ0QMRI",
     "type":"CODE",
     "hide_input_from_viewers":false,
     "hide_output_from_viewers":false,
     "report_properties":{
      "y":235
     }
    }
   }
  },
  {
   "cell_type":"code",
   "source":[
    "forward=swaps_v1.loc['FRA 6X12', 'par_rate']"
   ],
   "execution_count":311,
   "outputs":[
    
   ],
   "metadata":{
    "datalore":{
     "node_id":"LaWLq29WQkNjS7DM4KwtR7",
     "type":"CODE",
     "hide_input_from_viewers":false,
     "hide_output_from_viewers":false,
     "report_properties":{
      "y":241
     }
    }
   }
  },
  {
   "cell_type":"code",
   "source":[
    "one_year_rate=(((1+swaps_v1.loc['Deposit 6M', 'par_rate'])**swaps_v1.loc['Deposit 6M', 'year_frac'])*(1+forward)**(1-swaps_v1.loc['Deposit 6M', 'year_frac']))-1\n",
    "one_year_rate"
   ],
   "execution_count":312,
   "outputs":[
    {
     "data":{
      "text\/plain":[
       "4.015275067232105"
      ]
     },
     "metadata":{
      
     },
     "output_type":"display_data"
    }
   ],
   "metadata":{
    "datalore":{
     "node_id":"oRaMMgnvjwrZRpZ2SfYfsn",
     "type":"CODE",
     "hide_input_from_viewers":false,
     "hide_output_from_viewers":false,
     "report_properties":{
      "y":244
     }
    }
   }
  },
  {
   "cell_type":"code",
   "source":[
    "yield_curve = swaps_v1[swaps_v1.index.str.contains(\"FRA\") == False]"
   ],
   "execution_count":313,
   "outputs":[
    
   ],
   "metadata":{
    "datalore":{
     "node_id":"HRG2g88K3A2qIthnDaILAX",
     "type":"CODE",
     "hide_input_from_viewers":false,
     "hide_output_from_viewers":false,
     "report_properties":{
      "y":247
     }
    }
   }
  },
  {
   "cell_type":"code",
   "source":[
    "one_year_rate_frame = pd.DataFrame([[one_year_rate,'-','1Y','-',1.0]],\n",
    "     index=['Swap 1Y'],\n",
    "     columns=['par_rate', 'instrument','maturity','maturity_fra','year_frac'])\n",
    "one_year_rate_frame"
   ],
   "execution_count":314,
   "outputs":[
    {
     "data":{
      "text\/html":[
       "<div>\n",
       "<style scoped>\n",
       "    .dataframe tbody tr th:only-of-type {\n",
       "        vertical-align: middle;\n",
       "    }\n",
       "\n",
       "    .dataframe tbody tr th {\n",
       "        vertical-align: top;\n",
       "    }\n",
       "\n",
       "    .dataframe thead th {\n",
       "        text-align: right;\n",
       "    }\n",
       "<\/style>\n",
       "<table border=\"1\" class=\"dataframe\">\n",
       "  <thead>\n",
       "    <tr style=\"text-align: right;\">\n",
       "      <th><\/th>\n",
       "      <th>par_rate<\/th>\n",
       "      <th>instrument<\/th>\n",
       "      <th>maturity<\/th>\n",
       "      <th>maturity_fra<\/th>\n",
       "      <th>year_frac<\/th>\n",
       "    <\/tr>\n",
       "  <\/thead>\n",
       "  <tbody>\n",
       "    <tr>\n",
       "      <th>Swap 1Y<\/th>\n",
       "      <td>4.01528<\/td>\n",
       "      <td>-<\/td>\n",
       "      <td>1Y<\/td>\n",
       "      <td>-<\/td>\n",
       "      <td>1.00000<\/td>\n",
       "    <\/tr>\n",
       "  <\/tbody>\n",
       "<\/table>\n",
       "<\/div>"
      ]
     },
     "metadata":{
      
     },
     "output_type":"display_data"
    }
   ],
   "metadata":{
    "datalore":{
     "node_id":"Jc0KbecxJRmOTYt09mvpmM",
     "type":"CODE",
     "hide_input_from_viewers":false,
     "hide_output_from_viewers":false,
     "report_properties":{
      "y":250
     }
    }
   }
  },
  {
   "cell_type":"code",
   "source":[
    "yield_curve=yield_curve.append(one_year_rate_frame)"
   ],
   "execution_count":315,
   "outputs":[
    
   ],
   "metadata":{
    "datalore":{
     "node_id":"rkTAjBZML91B4o57eNkWiU",
     "type":"CODE",
     "hide_input_from_viewers":false,
     "hide_output_from_viewers":false,
     "report_properties":{
      "y":253
     }
    }
   }
  },
  {
   "cell_type":"code",
   "source":[
    "yield_curve.set_index('year_frac',inplace=True)"
   ],
   "execution_count":316,
   "outputs":[
    
   ],
   "metadata":{
    "datalore":{
     "node_id":"VjTTp6coX5MsvKRNB1gxLI",
     "type":"CODE",
     "hide_input_from_viewers":false,
     "hide_output_from_viewers":false,
     "report_properties":{
      "y":256
     }
    }
   }
  },
  {
   "cell_type":"code",
   "source":[
    "yield_curve.loc[0.5, 'df'] = 1 \/ (1 + (yield_curve.loc[0.5, 'par_rate']\/100) * 0.5)\n",
    "yield_curve.loc[0.5, 'zero_rate'] = yield_curve.loc[0.5, 'par_rate']\/100"
   ],
   "execution_count":317,
   "outputs":[
    
   ],
   "metadata":{
    "datalore":{
     "node_id":"MSFhFsyHb9R5ctrZADod6D",
     "type":"CODE",
     "hide_input_from_viewers":false,
     "hide_output_from_viewers":false,
     "report_properties":{
      "y":262
     }
    }
   }
  },
  {
   "cell_type":"code",
   "source":[
    "yield_curve.loc[1, 'df'] = 1 \/ (1 + yield_curve.loc[1, 'par_rate']\/100 * 1)\n",
    "yield_curve.loc[1, 'zero_rate'] = yield_curve.loc[1, 'par_rate']\/100"
   ],
   "execution_count":318,
   "outputs":[
    
   ],
   "metadata":{
    "datalore":{
     "node_id":"JPlkfmcyMZGhAv6pa1WSEd",
     "type":"CODE",
     "hide_input_from_viewers":false,
     "hide_output_from_viewers":false,
     "report_properties":{
      "y":265
     }
    }
   }
  },
  {
   "cell_type":"code",
   "source":[
    "yield_curve=yield_curve.sort_index()"
   ],
   "execution_count":319,
   "outputs":[
    
   ],
   "metadata":{
    "datalore":{
     "node_id":"ZtQWYE5b4YffFID04ZiArv",
     "type":"CODE",
     "hide_input_from_viewers":false,
     "hide_output_from_viewers":false,
     "report_properties":{
      "y":268
     }
    }
   }
  },
  {
   "cell_type":"code",
   "source":[
    "start_date"
   ],
   "execution_count":353,
   "outputs":[
    {
     "data":{
      "text\/plain":[
       "datetime.date(2007, 1, 19)"
      ]
     },
     "metadata":{
      
     },
     "output_type":"display_data"
    }
   ],
   "metadata":{
    "datalore":{
     "node_id":"nIsfxlgzp8J9PGvWlQuHCa",
     "type":"CODE",
     "hide_input_from_viewers":false,
     "hide_output_from_viewers":false,
     "report_properties":{
      "y":271
     }
    }
   }
  },
  {
   "cell_type":"code",
   "source":[
    "yield_curve[\"Tenor\"]= yield_curve.index\n",
    "yield_curve['maturity'] = [date(start_date.year,start_date.month+6,start_date.day)] + [date(2007 +int(n), 1, 19) for n in yield_curve.index[1:]]\n",
    "yield_curve['days'] = yield_curve.maturity.apply(lambda x: (x - start_date).days)\n",
    "yield_curve"
   ],
   "execution_count":328,
   "outputs":[
    {
     "data":{
      "text\/html":[
       "<div>\n",
       "<style scoped>\n",
       "    .dataframe tbody tr th:only-of-type {\n",
       "        vertical-align: middle;\n",
       "    }\n",
       "\n",
       "    .dataframe tbody tr th {\n",
       "        vertical-align: top;\n",
       "    }\n",
       "\n",
       "    .dataframe thead th {\n",
       "        text-align: right;\n",
       "    }\n",
       "<\/style>\n",
       "<table border=\"1\" class=\"dataframe\">\n",
       "  <thead>\n",
       "    <tr style=\"text-align: right;\">\n",
       "      <th><\/th>\n",
       "      <th>par_rate<\/th>\n",
       "      <th>instrument<\/th>\n",
       "      <th>maturity<\/th>\n",
       "      <th>maturity_fra<\/th>\n",
       "      <th>df<\/th>\n",
       "      <th>zero_rate<\/th>\n",
       "      <th>Tenor<\/th>\n",
       "      <th>days<\/th>\n",
       "    <\/tr>\n",
       "    <tr>\n",
       "      <th>year_frac<\/th>\n",
       "      <th><\/th>\n",
       "      <th><\/th>\n",
       "      <th><\/th>\n",
       "      <th><\/th>\n",
       "      <th><\/th>\n",
       "      <th><\/th>\n",
       "      <th><\/th>\n",
       "      <th><\/th>\n",
       "    <\/tr>\n",
       "  <\/thead>\n",
       "  <tbody>\n",
       "    <tr>\n",
       "      <th>0.50000<\/th>\n",
       "      <td>3.88000<\/td>\n",
       "      <td>Deposit<\/td>\n",
       "      <td>2007-07-19<\/td>\n",
       "      <td>NaN<\/td>\n",
       "      <td>0.98097<\/td>\n",
       "      <td>0.03880<\/td>\n",
       "      <td>0.50000<\/td>\n",
       "      <td>181<\/td>\n",
       "    <\/tr>\n",
       "    <tr>\n",
       "      <th>1.00000<\/th>\n",
       "      <td>4.01528<\/td>\n",
       "      <td>-<\/td>\n",
       "      <td>2008-01-19<\/td>\n",
       "      <td>-<\/td>\n",
       "      <td>0.96140<\/td>\n",
       "      <td>0.04015<\/td>\n",
       "      <td>1.00000<\/td>\n",
       "      <td>365<\/td>\n",
       "    <\/tr>\n",
       "    <tr>\n",
       "      <th>2.00000<\/th>\n",
       "      <td>4.16900<\/td>\n",
       "      <td>Swap<\/td>\n",
       "      <td>2009-01-19<\/td>\n",
       "      <td>NaN<\/td>\n",
       "      <td>NaN<\/td>\n",
       "      <td>NaN<\/td>\n",
       "      <td>2.00000<\/td>\n",
       "      <td>731<\/td>\n",
       "    <\/tr>\n",
       "    <tr>\n",
       "      <th>3.00000<\/th>\n",
       "      <td>4.17250<\/td>\n",
       "      <td>Swap<\/td>\n",
       "      <td>2010-01-19<\/td>\n",
       "      <td>NaN<\/td>\n",
       "      <td>NaN<\/td>\n",
       "      <td>NaN<\/td>\n",
       "      <td>3.00000<\/td>\n",
       "      <td>1096<\/td>\n",
       "    <\/tr>\n",
       "    <tr>\n",
       "      <th>4.00000<\/th>\n",
       "      <td>4.17550<\/td>\n",
       "      <td>Swap<\/td>\n",
       "      <td>2011-01-19<\/td>\n",
       "      <td>NaN<\/td>\n",
       "      <td>NaN<\/td>\n",
       "      <td>NaN<\/td>\n",
       "      <td>4.00000<\/td>\n",
       "      <td>1461<\/td>\n",
       "    <\/tr>\n",
       "    <tr>\n",
       "      <th>5.00000<\/th>\n",
       "      <td>4.18450<\/td>\n",
       "      <td>Swap<\/td>\n",
       "      <td>2012-01-19<\/td>\n",
       "      <td>NaN<\/td>\n",
       "      <td>NaN<\/td>\n",
       "      <td>NaN<\/td>\n",
       "      <td>5.00000<\/td>\n",
       "      <td>1826<\/td>\n",
       "    <\/tr>\n",
       "    <tr>\n",
       "      <th>6.00000<\/th>\n",
       "      <td>4.20250<\/td>\n",
       "      <td>Swap<\/td>\n",
       "      <td>2013-01-19<\/td>\n",
       "      <td>NaN<\/td>\n",
       "      <td>NaN<\/td>\n",
       "      <td>NaN<\/td>\n",
       "      <td>6.00000<\/td>\n",
       "      <td>2192<\/td>\n",
       "    <\/tr>\n",
       "    <tr>\n",
       "      <th>7.00000<\/th>\n",
       "      <td>4.21850<\/td>\n",
       "      <td>Swap<\/td>\n",
       "      <td>2014-01-19<\/td>\n",
       "      <td>NaN<\/td>\n",
       "      <td>NaN<\/td>\n",
       "      <td>NaN<\/td>\n",
       "      <td>7.00000<\/td>\n",
       "      <td>2557<\/td>\n",
       "    <\/tr>\n",
       "    <tr>\n",
       "      <th>8.00000<\/th>\n",
       "      <td>4.24250<\/td>\n",
       "      <td>Swap<\/td>\n",
       "      <td>2015-01-19<\/td>\n",
       "      <td>NaN<\/td>\n",
       "      <td>NaN<\/td>\n",
       "      <td>NaN<\/td>\n",
       "      <td>8.00000<\/td>\n",
       "      <td>2922<\/td>\n",
       "    <\/tr>\n",
       "    <tr>\n",
       "      <th>9.00000<\/th>\n",
       "      <td>4.26450<\/td>\n",
       "      <td>Swap<\/td>\n",
       "      <td>2016-01-19<\/td>\n",
       "      <td>NaN<\/td>\n",
       "      <td>NaN<\/td>\n",
       "      <td>NaN<\/td>\n",
       "      <td>9.00000<\/td>\n",
       "      <td>3287<\/td>\n",
       "    <\/tr>\n",
       "    <tr>\n",
       "      <th>10.00000<\/th>\n",
       "      <td>4.28750<\/td>\n",
       "      <td>Swap<\/td>\n",
       "      <td>2017-01-19<\/td>\n",
       "      <td>NaN<\/td>\n",
       "      <td>NaN<\/td>\n",
       "      <td>NaN<\/td>\n",
       "      <td>10.00000<\/td>\n",
       "      <td>3653<\/td>\n",
       "    <\/tr>\n",
       "    <tr>\n",
       "      <th>11.00000<\/th>\n",
       "      <td>4.30850<\/td>\n",
       "      <td>Swap<\/td>\n",
       "      <td>2018-01-19<\/td>\n",
       "      <td>NaN<\/td>\n",
       "      <td>NaN<\/td>\n",
       "      <td>NaN<\/td>\n",
       "      <td>11.00000<\/td>\n",
       "      <td>4018<\/td>\n",
       "    <\/tr>\n",
       "    <tr>\n",
       "      <th>12.00000<\/th>\n",
       "      <td>4.32750<\/td>\n",
       "      <td>Swap<\/td>\n",
       "      <td>2019-01-19<\/td>\n",
       "      <td>NaN<\/td>\n",
       "      <td>NaN<\/td>\n",
       "      <td>NaN<\/td>\n",
       "      <td>12.00000<\/td>\n",
       "      <td>4383<\/td>\n",
       "    <\/tr>\n",
       "    <tr>\n",
       "      <th>15.00000<\/th>\n",
       "      <td>4.37450<\/td>\n",
       "      <td>Swap<\/td>\n",
       "      <td>2022-01-19<\/td>\n",
       "      <td>NaN<\/td>\n",
       "      <td>NaN<\/td>\n",
       "      <td>NaN<\/td>\n",
       "      <td>15.00000<\/td>\n",
       "      <td>5479<\/td>\n",
       "    <\/tr>\n",
       "    <tr>\n",
       "      <th>20.00000<\/th>\n",
       "      <td>4.41250<\/td>\n",
       "      <td>Swap<\/td>\n",
       "      <td>2027-01-19<\/td>\n",
       "      <td>NaN<\/td>\n",
       "      <td>NaN<\/td>\n",
       "      <td>NaN<\/td>\n",
       "      <td>20.00000<\/td>\n",
       "      <td>7305<\/td>\n",
       "    <\/tr>\n",
       "    <tr>\n",
       "      <th>25.00000<\/th>\n",
       "      <td>4.41450<\/td>\n",
       "      <td>Swap<\/td>\n",
       "      <td>2032-01-19<\/td>\n",
       "      <td>NaN<\/td>\n",
       "      <td>NaN<\/td>\n",
       "      <td>NaN<\/td>\n",
       "      <td>25.00000<\/td>\n",
       "      <td>9131<\/td>\n",
       "    <\/tr>\n",
       "    <tr>\n",
       "      <th>30.00000<\/th>\n",
       "      <td>4.39550<\/td>\n",
       "      <td>Swap<\/td>\n",
       "      <td>2037-01-19<\/td>\n",
       "      <td>NaN<\/td>\n",
       "      <td>NaN<\/td>\n",
       "      <td>NaN<\/td>\n",
       "      <td>30.00000<\/td>\n",
       "      <td>10958<\/td>\n",
       "    <\/tr>\n",
       "    <tr>\n",
       "      <th>40.00000<\/th>\n",
       "      <td>4.35550<\/td>\n",
       "      <td>Swap<\/td>\n",
       "      <td>2047-01-19<\/td>\n",
       "      <td>NaN<\/td>\n",
       "      <td>NaN<\/td>\n",
       "      <td>NaN<\/td>\n",
       "      <td>40.00000<\/td>\n",
       "      <td>14610<\/td>\n",
       "    <\/tr>\n",
       "    <tr>\n",
       "      <th>50.00000<\/th>\n",
       "      <td>4.31550<\/td>\n",
       "      <td>Swap<\/td>\n",
       "      <td>2057-01-19<\/td>\n",
       "      <td>NaN<\/td>\n",
       "      <td>NaN<\/td>\n",
       "      <td>NaN<\/td>\n",
       "      <td>50.00000<\/td>\n",
       "      <td>18263<\/td>\n",
       "    <\/tr>\n",
       "  <\/tbody>\n",
       "<\/table>\n",
       "<\/div>"
      ]
     },
     "metadata":{
      
     },
     "output_type":"display_data"
    }
   ],
   "metadata":{
    "datalore":{
     "node_id":"HCKSSJguj1eMIuNLkI2Dkl",
     "type":"CODE",
     "hide_input_from_viewers":true,
     "hide_output_from_viewers":true
    }
   }
  },
  {
   "cell_type":"code",
   "source":[
    "for idx, row in yield_curve.loc[2:].iterrows():\n",
    "    prev_dfs = yield_curve.loc[1:idx-1].df.sum()\n",
    "    yield_curve.loc[idx, 'df'] = (1 - row.par_rate\/100 * prev_dfs) \/ (1+row.par_rate\/100)"
   ],
   "execution_count":329,
   "outputs":[
    
   ],
   "metadata":{
    "datalore":{
     "node_id":"F2r0HIyGpl8ufjs2xEZSdZ",
     "type":"CODE",
     "hide_input_from_viewers":true,
     "hide_output_from_viewers":true
    }
   }
  },
  {
   "cell_type":"code",
   "source":[
    "\n",
    "for a in yield_curve.index[2:]:\n",
    "    yield_curve.loc[a,'zero_rate']=((1\/yield_curve.loc[a,'df'])**(1\/a))-1\n"
   ],
   "execution_count":330,
   "outputs":[
    
   ],
   "metadata":{
    "datalore":{
     "node_id":"PB8d1QmFn7NFx8woFYEs53",
     "type":"CODE",
     "hide_input_from_viewers":true,
     "hide_output_from_viewers":true
    }
   }
  },
  {
   "cell_type":"code",
   "source":[
    "start_date = date(2007,1,19)\n",
    "# Add six months and keep the same day\n",
    "loan_dates=[start_date]\n",
    "for i in range(30):\n",
    "  resulting_date = start_date + relativedelta(months=+6)\n",
    "  if resulting_date.weekday()==5:\n",
    "    resulting_date=resulting_date+timedelta(days=2)\n",
    "  if resulting_date.weekday()==6:\n",
    "    resulting_date=resulting_date+timedelta(days=1)\n",
    "  loan_dates.append(resulting_date)\n",
    "  start_date=date(resulting_date.year,resulting_date.month,19)\n",
    "start_date = date(2007,1,19)\n",
    "loan_dates"
   ],
   "execution_count":331,
   "outputs":[
    {
     "data":{
      "text\/plain":[
       "[datetime.date(2007, 1, 19),\n",
       " datetime.date(2007, 7, 19),\n",
       " datetime.date(2008, 1, 21),\n",
       " datetime.date(2008, 7, 21),\n",
       " datetime.date(2009, 1, 19),\n",
       " datetime.date(2009, 7, 20),\n",
       " datetime.date(2010, 1, 19),\n",
       " datetime.date(2010, 7, 19),\n",
       " datetime.date(2011, 1, 19),\n",
       " datetime.date(2011, 7, 19),\n",
       " datetime.date(2012, 1, 19),\n",
       " datetime.date(2012, 7, 19),\n",
       " datetime.date(2013, 1, 21),\n",
       " datetime.date(2013, 7, 19),\n",
       " datetime.date(2014, 1, 20),\n",
       " datetime.date(2014, 7, 21),\n",
       " datetime.date(2015, 1, 19),\n",
       " datetime.date(2015, 7, 20),\n",
       " datetime.date(2016, 1, 19),\n",
       " datetime.date(2016, 7, 19),\n",
       " datetime.date(2017, 1, 19),\n",
       " datetime.date(2017, 7, 19),\n",
       " datetime.date(2018, 1, 19),\n",
       " datetime.date(2018, 7, 19),\n",
       " datetime.date(2019, 1, 21),\n",
       " datetime.date(2019, 7, 19),\n",
       " datetime.date(2020, 1, 20),\n",
       " datetime.date(2020, 7, 20),\n",
       " datetime.date(2021, 1, 19),\n",
       " datetime.date(2021, 7, 19),\n",
       " datetime.date(2022, 1, 19)]"
      ]
     },
     "metadata":{
      
     },
     "output_type":"display_data"
    }
   ],
   "metadata":{
    "datalore":{
     "node_id":"BOzd9A3uSUbipDQQDUTScU",
     "type":"CODE",
     "hide_input_from_viewers":false,
     "hide_output_from_viewers":false,
     "report_properties":{
      "y":277
     }
    }
   }
  },
  {
   "cell_type":"code",
   "source":[
    "nr_days=[]\n",
    "for a in range(0,len(loan_dates)):\n",
    "    if a ==0:\n",
    "      pass\n",
    "    else:\n",
    "      nr_days.append((loan_dates[a]-today_date).days\/365)\n",
    "nr_days"
   ],
   "execution_count":332,
   "outputs":[
    {
     "data":{
      "text\/plain":[
       "[0.5068493150684932,\n",
       " 1.0164383561643835,\n",
       " 1.515068493150685,\n",
       " 2.0136986301369864,\n",
       " 2.5123287671232877,\n",
       " 3.0136986301369864,\n",
       " 3.5095890410958903,\n",
       " 4.013698630136986,\n",
       " 4.50958904109589,\n",
       " 5.013698630136986,\n",
       " 5.512328767123288,\n",
       " 6.021917808219178,\n",
       " 6.512328767123288,\n",
       " 7.019178082191781,\n",
       " 7.517808219178082,\n",
       " 8.016438356164384,\n",
       " 8.515068493150684,\n",
       " 9.016438356164384,\n",
       " 9.515068493150684,\n",
       " 10.01917808219178,\n",
       " 10.515068493150684,\n",
       " 11.01917808219178,\n",
       " 11.515068493150684,\n",
       " 12.024657534246575,\n",
       " 12.515068493150684,\n",
       " 13.021917808219179,\n",
       " 13.520547945205479,\n",
       " 14.021917808219179,\n",
       " 14.517808219178082,\n",
       " 15.021917808219179]"
      ]
     },
     "metadata":{
      
     },
     "output_type":"display_data"
    }
   ],
   "metadata":{
    "datalore":{
     "node_id":"gmqKQhDbNlEuHjRZ0oMT0F",
     "type":"CODE",
     "hide_input_from_viewers":false,
     "hide_output_from_viewers":false,
     "report_properties":{
      "y":283
     }
    }
   }
  },
  {
   "cell_type":"code",
   "source":[
    "y=np.array(yield_curve.zero_rate.values)\n",
    "x=np.array(yield_curve.index.values)\n",
    "y_interp = interp1d(x,y)\n",
    " \n",
    "# Finding the interpolation\n",
    "interpolated_rates=[]\n",
    "for a in nr_days:\n",
    "  interpolate_x=a\n",
    "  interpolated_rates.append(float(y_interp(interpolate_x)))\n",
    "interpolated_rates"
   ],
   "execution_count":333,
   "outputs":[
    {
     "data":{
      "text\/plain":[
       "[0.038818530831127684,\n",
       " 0.0401785480772134,\n",
       " 0.04096106935894772,\n",
       " 0.04172244627297853,\n",
       " 0.04173531257030465,\n",
       " 0.04174825530203538,\n",
       " 0.04176125871019032,\n",
       " 0.04177540709209084,\n",
       " 0.041822056504942834,\n",
       " 0.04187087887849022,\n",
       " 0.041968737505568496,\n",
       " 0.0420683090732121,\n",
       " 0.04215475890475419,\n",
       " 0.04224594754610628,\n",
       " 0.04238171355993787,\n",
       " 0.04251715209004331,\n",
       " 0.04264298443084846,\n",
       " 0.04276977762419703,\n",
       " 0.04290378376868447,\n",
       " 0.04303887093294358,\n",
       " 0.04316201576346114,\n",
       " 0.043286799221674215,\n",
       " 0.04339953792666865,\n",
       " 0.043465482029131246,\n",
       " 0.04258434181141895,\n",
       " 0.04167366616741463,\n",
       " 0.04077775823655632,\n",
       " 0.03987692773464934,\n",
       " 0.038985942374839704,\n",
       " 0.03808843304905318]"
      ]
     },
     "metadata":{
      
     },
     "output_type":"display_data"
    }
   ],
   "metadata":{
    "datalore":{
     "node_id":"uTgwKaKNG1IHlEpXuD76Rp",
     "type":"CODE",
     "hide_input_from_viewers":false,
     "hide_output_from_viewers":false,
     "report_properties":{
      "y":286
     }
    }
   }
  },
  {
   "cell_type":"code",
   "source":[
    "notional=1748653.15\n",
    "installemnts=np.full(30,1748653.15)\n",
    "int_pay=installemnts*interpolated_rates\n",
    "int_pay[len(int_pay)-1]=notional*(1+interpolated_rates[len(interpolated_rates)-1])\n",
    "int_pay"
   ],
   "execution_count":334,
   "outputs":[
    {
     "data":{
      "text\/html":[
       "<pre>array([  67880.14621622,   70258.34465765,   71626.70296189,\n",
       "         72958.08710095,   72980.5857923 ,   73003.21814091,\n",
       "         73025.95659154,   73050.69720412,   73132.27084685,\n",
       "         73217.64424414,   73388.76504064,   73562.88117605,\n",
       "         73714.05194629,   73873.50925123,   74110.91691898,\n",
       "         74347.75193128,   74567.7890504 ,   74789.50636735,\n",
       "         75023.83663403,   75260.05722934,   75475.39482513,\n",
       "         75693.5978124 ,   75890.73870401,   76006.05206651,\n",
       "         74465.24344921,   72872.7876157 ,   71306.15539029,\n",
       "         69730.91529552,   68172.89093948, 1815256.60842979])<\/pre>"
      ]
     },
     "metadata":{
      
     },
     "output_type":"display_data"
    }
   ],
   "metadata":{
    "datalore":{
     "node_id":"VALtNNh6rtfuX7AiuTuMLG",
     "type":"CODE",
     "hide_input_from_viewers":false,
     "hide_output_from_viewers":false,
     "report_properties":{
      "y":292
     }
    }
   }
  },
  {
   "cell_type":"code",
   "source":[
    "#Exercise 2\n",
    "#The company is Party A\n",
    "swap_notional=1748653.15\n",
    "start_swap=loan_dates[0]\n",
    "maturity_swap=loan_dates[-1]\n",
    "#Party A Receives Euribor 6m, half yearly, act\/360\n",
    "#Party A Pays xxxxxxxx, half yearly, act\/360"
   ],
   "execution_count":335,
   "outputs":[
    
   ],
   "metadata":{
    "datalore":{
     "node_id":"L0XV25qDHuXMBjm6WwDhEk",
     "type":"CODE",
     "hide_input_from_viewers":true,
     "hide_output_from_viewers":true
    }
   }
  },
  {
   "cell_type":"code",
   "source":[
    "#TESTE\n",
    "yield_curve_swap = yield_curve.copy()\n",
    "yield_curve_swap"
   ],
   "execution_count":336,
   "outputs":[
    {
     "data":{
      "text\/html":[
       "<div>\n",
       "<style scoped>\n",
       "    .dataframe tbody tr th:only-of-type {\n",
       "        vertical-align: middle;\n",
       "    }\n",
       "\n",
       "    .dataframe tbody tr th {\n",
       "        vertical-align: top;\n",
       "    }\n",
       "\n",
       "    .dataframe thead th {\n",
       "        text-align: right;\n",
       "    }\n",
       "<\/style>\n",
       "<table border=\"1\" class=\"dataframe\">\n",
       "  <thead>\n",
       "    <tr style=\"text-align: right;\">\n",
       "      <th><\/th>\n",
       "      <th>par_rate<\/th>\n",
       "      <th>instrument<\/th>\n",
       "      <th>maturity<\/th>\n",
       "      <th>maturity_fra<\/th>\n",
       "      <th>df<\/th>\n",
       "      <th>zero_rate<\/th>\n",
       "      <th>Tenor<\/th>\n",
       "      <th>days<\/th>\n",
       "    <\/tr>\n",
       "    <tr>\n",
       "      <th>year_frac<\/th>\n",
       "      <th><\/th>\n",
       "      <th><\/th>\n",
       "      <th><\/th>\n",
       "      <th><\/th>\n",
       "      <th><\/th>\n",
       "      <th><\/th>\n",
       "      <th><\/th>\n",
       "      <th><\/th>\n",
       "    <\/tr>\n",
       "  <\/thead>\n",
       "  <tbody>\n",
       "    <tr>\n",
       "      <th>0.50000<\/th>\n",
       "      <td>3.88000<\/td>\n",
       "      <td>Deposit<\/td>\n",
       "      <td>2007-07-19<\/td>\n",
       "      <td>NaN<\/td>\n",
       "      <td>0.98097<\/td>\n",
       "      <td>0.03880<\/td>\n",
       "      <td>0.50000<\/td>\n",
       "      <td>181<\/td>\n",
       "    <\/tr>\n",
       "    <tr>\n",
       "      <th>1.00000<\/th>\n",
       "      <td>4.01528<\/td>\n",
       "      <td>-<\/td>\n",
       "      <td>2008-01-19<\/td>\n",
       "      <td>-<\/td>\n",
       "      <td>0.96140<\/td>\n",
       "      <td>0.04015<\/td>\n",
       "      <td>1.00000<\/td>\n",
       "      <td>365<\/td>\n",
       "    <\/tr>\n",
       "    <tr>\n",
       "      <th>2.00000<\/th>\n",
       "      <td>4.16900<\/td>\n",
       "      <td>Swap<\/td>\n",
       "      <td>2009-01-19<\/td>\n",
       "      <td>NaN<\/td>\n",
       "      <td>0.92150<\/td>\n",
       "      <td>0.04172<\/td>\n",
       "      <td>2.00000<\/td>\n",
       "      <td>731<\/td>\n",
       "    <\/tr>\n",
       "    <tr>\n",
       "      <th>3.00000<\/th>\n",
       "      <td>4.17250<\/td>\n",
       "      <td>Swap<\/td>\n",
       "      <td>2010-01-19<\/td>\n",
       "      <td>NaN<\/td>\n",
       "      <td>0.88453<\/td>\n",
       "      <td>0.04175<\/td>\n",
       "      <td>3.00000<\/td>\n",
       "      <td>1096<\/td>\n",
       "    <\/tr>\n",
       "    <tr>\n",
       "      <th>4.00000<\/th>\n",
       "      <td>4.17550<\/td>\n",
       "      <td>Swap<\/td>\n",
       "      <td>2011-01-19<\/td>\n",
       "      <td>NaN<\/td>\n",
       "      <td>0.84900<\/td>\n",
       "      <td>0.04177<\/td>\n",
       "      <td>4.00000<\/td>\n",
       "      <td>1461<\/td>\n",
       "    <\/tr>\n",
       "    <tr>\n",
       "      <th>5.00000<\/th>\n",
       "      <td>4.18450<\/td>\n",
       "      <td>Swap<\/td>\n",
       "      <td>2012-01-19<\/td>\n",
       "      <td>NaN<\/td>\n",
       "      <td>0.81458<\/td>\n",
       "      <td>0.04187<\/td>\n",
       "      <td>5.00000<\/td>\n",
       "      <td>1826<\/td>\n",
       "    <\/tr>\n",
       "    <tr>\n",
       "      <th>6.00000<\/th>\n",
       "      <td>4.20250<\/td>\n",
       "      <td>Swap<\/td>\n",
       "      <td>2013-01-19<\/td>\n",
       "      <td>NaN<\/td>\n",
       "      <td>0.78097<\/td>\n",
       "      <td>0.04206<\/td>\n",
       "      <td>6.00000<\/td>\n",
       "      <td>2192<\/td>\n",
       "    <\/tr>\n",
       "    <tr>\n",
       "      <th>7.00000<\/th>\n",
       "      <td>4.21850<\/td>\n",
       "      <td>Swap<\/td>\n",
       "      <td>2014-01-19<\/td>\n",
       "      <td>NaN<\/td>\n",
       "      <td>0.74856<\/td>\n",
       "      <td>0.04224<\/td>\n",
       "      <td>7.00000<\/td>\n",
       "      <td>2557<\/td>\n",
       "    <\/tr>\n",
       "    <tr>\n",
       "      <th>8.00000<\/th>\n",
       "      <td>4.24250<\/td>\n",
       "      <td>Swap<\/td>\n",
       "      <td>2015-01-19<\/td>\n",
       "      <td>NaN<\/td>\n",
       "      <td>0.71672<\/td>\n",
       "      <td>0.04251<\/td>\n",
       "      <td>8.00000<\/td>\n",
       "      <td>2922<\/td>\n",
       "    <\/tr>\n",
       "    <tr>\n",
       "      <th>9.00000<\/th>\n",
       "      <td>4.26450<\/td>\n",
       "      <td>Swap<\/td>\n",
       "      <td>2016-01-19<\/td>\n",
       "      <td>NaN<\/td>\n",
       "      <td>0.68599<\/td>\n",
       "      <td>0.04277<\/td>\n",
       "      <td>9.00000<\/td>\n",
       "      <td>3287<\/td>\n",
       "    <\/tr>\n",
       "    <tr>\n",
       "      <th>10.00000<\/th>\n",
       "      <td>4.28750<\/td>\n",
       "      <td>Swap<\/td>\n",
       "      <td>2017-01-19<\/td>\n",
       "      <td>NaN<\/td>\n",
       "      <td>0.65617<\/td>\n",
       "      <td>0.04303<\/td>\n",
       "      <td>10.00000<\/td>\n",
       "      <td>3653<\/td>\n",
       "    <\/tr>\n",
       "    <tr>\n",
       "      <th>11.00000<\/th>\n",
       "      <td>4.30850<\/td>\n",
       "      <td>Swap<\/td>\n",
       "      <td>2018-01-19<\/td>\n",
       "      <td>NaN<\/td>\n",
       "      <td>0.62745<\/td>\n",
       "      <td>0.04328<\/td>\n",
       "      <td>11.00000<\/td>\n",
       "      <td>4018<\/td>\n",
       "    <\/tr>\n",
       "    <tr>\n",
       "      <th>12.00000<\/th>\n",
       "      <td>4.32750<\/td>\n",
       "      <td>Swap<\/td>\n",
       "      <td>2019-01-19<\/td>\n",
       "      <td>NaN<\/td>\n",
       "      <td>0.59985<\/td>\n",
       "      <td>0.04351<\/td>\n",
       "      <td>12.00000<\/td>\n",
       "      <td>4383<\/td>\n",
       "    <\/tr>\n",
       "    <tr>\n",
       "      <th>15.00000<\/th>\n",
       "      <td>4.37450<\/td>\n",
       "      <td>Swap<\/td>\n",
       "      <td>2022-01-19<\/td>\n",
       "      <td>NaN<\/td>\n",
       "      <td>0.57054<\/td>\n",
       "      <td>0.03812<\/td>\n",
       "      <td>15.00000<\/td>\n",
       "      <td>5479<\/td>\n",
       "    <\/tr>\n",
       "    <tr>\n",
       "      <th>20.00000<\/th>\n",
       "      <td>4.41250<\/td>\n",
       "      <td>Swap<\/td>\n",
       "      <td>2027-01-19<\/td>\n",
       "      <td>NaN<\/td>\n",
       "      <td>0.54286<\/td>\n",
       "      <td>0.03102<\/td>\n",
       "      <td>20.00000<\/td>\n",
       "      <td>7305<\/td>\n",
       "    <\/tr>\n",
       "    <tr>\n",
       "      <th>25.00000<\/th>\n",
       "      <td>4.41450<\/td>\n",
       "      <td>Swap<\/td>\n",
       "      <td>2032-01-19<\/td>\n",
       "      <td>NaN<\/td>\n",
       "      <td>0.51971<\/td>\n",
       "      <td>0.02653<\/td>\n",
       "      <td>25.00000<\/td>\n",
       "      <td>9131<\/td>\n",
       "    <\/tr>\n",
       "    <tr>\n",
       "      <th>30.00000<\/th>\n",
       "      <td>4.39550<\/td>\n",
       "      <td>Swap<\/td>\n",
       "      <td>2037-01-19<\/td>\n",
       "      <td>NaN<\/td>\n",
       "      <td>0.49981<\/td>\n",
       "      <td>0.02339<\/td>\n",
       "      <td>30.00000<\/td>\n",
       "      <td>10958<\/td>\n",
       "    <\/tr>\n",
       "    <tr>\n",
       "      <th>40.00000<\/th>\n",
       "      <td>4.35550<\/td>\n",
       "      <td>Swap<\/td>\n",
       "      <td>2047-01-19<\/td>\n",
       "      <td>NaN<\/td>\n",
       "      <td>0.48331<\/td>\n",
       "      <td>0.01834<\/td>\n",
       "      <td>40.00000<\/td>\n",
       "      <td>14610<\/td>\n",
       "    <\/tr>\n",
       "    <tr>\n",
       "      <th>50.00000<\/th>\n",
       "      <td>4.31550<\/td>\n",
       "      <td>Swap<\/td>\n",
       "      <td>2057-01-19<\/td>\n",
       "      <td>NaN<\/td>\n",
       "      <td>0.46786<\/td>\n",
       "      <td>0.01531<\/td>\n",
       "      <td>50.00000<\/td>\n",
       "      <td>18263<\/td>\n",
       "    <\/tr>\n",
       "  <\/tbody>\n",
       "<\/table>\n",
       "<\/div>"
      ]
     },
     "metadata":{
      
     },
     "output_type":"display_data"
    }
   ],
   "metadata":{
    "datalore":{
     "node_id":"EuiyUbzagUJTQTTk3QoCFu",
     "type":"CODE",
     "hide_input_from_viewers":true,
     "hide_output_from_viewers":true
    }
   }
  },
  {
   "cell_type":"code",
   "source":[
    "def getDF(dt):\n",
    "    x = (dt - start_date).days\n",
    "    return np.interp(x, yield_curve_swap.days, yield_curve_swap.df)\n",
    "\n",
    "def getFwd(start, end):\n",
    "    DF0 = getDF(start)\n",
    "    DF1 = getDF(end)\n",
    "    n = (end - start).days \/ 360\n",
    "    return (DF0 \/ DF1 - 1) \/ n"
   ],
   "execution_count":337,
   "outputs":[
    
   ],
   "metadata":{
    "datalore":{
     "node_id":"zKkrlJXgKZeALOLF58UC9m",
     "type":"CODE",
     "hide_input_from_viewers":true,
     "hide_output_from_viewers":true
    }
   }
  },
  {
   "cell_type":"code",
   "source":[
    "#get floating leg\n",
    "pd.options.display.float_format = '{:,.5f}'.format\n",
    "float_leg = pd.DataFrame({\n",
    "    'notional': swap_notional,\n",
    "    'start': loan_dates[:-1],\n",
    "    'end': loan_dates[1:]\n",
    "})\n",
    "\n",
    "float_leg['dcf'] = float_leg.apply(lambda x: (x.end - x.start).days \/ 360, axis=1)\n",
    "float_leg['fwd'] = float_leg.apply(lambda row: getFwd(row.start, row.end), axis=1)\n",
    "float_leg.loc[0, 'fwd'] = yield_curve_swap.loc[0.5, 'par_rate']\/100\n",
    "float_leg['cf'] = float_leg.notional * float_leg.dcf * float_leg.fwd\n",
    "float_leg['df'] = float_leg.end.apply(getDF)\n",
    "float_leg['pv'] = float_leg.cf * float_leg.df\n",
    "\n",
    "\n",
    "float_leg_pv = float_leg.pv.sum()\n",
    "print(f\"PV of float leg is: {float_leg_pv:,.2f}\")\n",
    "float_leg"
   ],
   "execution_count":338,
   "outputs":[
    {
     "name":"stdout",
     "text":[
      "PV of float leg is: 751,154.04\n"
     ],
     "output_type":"stream"
    },
    {
     "data":{
      "text\/html":[
       "<div>\n",
       "<style scoped>\n",
       "    .dataframe tbody tr th:only-of-type {\n",
       "        vertical-align: middle;\n",
       "    }\n",
       "\n",
       "    .dataframe tbody tr th {\n",
       "        vertical-align: top;\n",
       "    }\n",
       "\n",
       "    .dataframe thead th {\n",
       "        text-align: right;\n",
       "    }\n",
       "<\/style>\n",
       "<table border=\"1\" class=\"dataframe\">\n",
       "  <thead>\n",
       "    <tr style=\"text-align: right;\">\n",
       "      <th><\/th>\n",
       "      <th>notional<\/th>\n",
       "      <th>start<\/th>\n",
       "      <th>end<\/th>\n",
       "      <th>dcf<\/th>\n",
       "      <th>fwd<\/th>\n",
       "      <th>cf<\/th>\n",
       "      <th>df<\/th>\n",
       "      <th>pv<\/th>\n",
       "    <\/tr>\n",
       "  <\/thead>\n",
       "  <tbody>\n",
       "    <tr>\n",
       "      <th>0<\/th>\n",
       "      <td>1,748,653.15000<\/td>\n",
       "      <td>2007-01-19<\/td>\n",
       "      <td>2007-07-19<\/td>\n",
       "      <td>0.50278<\/td>\n",
       "      <td>0.03880<\/td>\n",
       "      <td>34,112.33706<\/td>\n",
       "      <td>0.98097<\/td>\n",
       "      <td>33,463.15191<\/td>\n",
       "    <\/tr>\n",
       "    <tr>\n",
       "      <th>1<\/th>\n",
       "      <td>1,748,653.15000<\/td>\n",
       "      <td>2007-07-19<\/td>\n",
       "      <td>2008-01-21<\/td>\n",
       "      <td>0.51667<\/td>\n",
       "      <td>0.03985<\/td>\n",
       "      <td>36,003.43733<\/td>\n",
       "      <td>0.96118<\/td>\n",
       "      <td>34,605.75683<\/td>\n",
       "    <\/tr>\n",
       "    <tr>\n",
       "      <th>2<\/th>\n",
       "      <td>1,748,653.15000<\/td>\n",
       "      <td>2008-01-21<\/td>\n",
       "      <td>2008-07-21<\/td>\n",
       "      <td>0.50556<\/td>\n",
       "      <td>0.04169<\/td>\n",
       "      <td>36,852.68842<\/td>\n",
       "      <td>0.94134<\/td>\n",
       "      <td>34,690.93149<\/td>\n",
       "    <\/tr>\n",
       "    <tr>\n",
       "      <th>3<\/th>\n",
       "      <td>1,748,653.15000<\/td>\n",
       "      <td>2008-07-21<\/td>\n",
       "      <td>2009-01-19<\/td>\n",
       "      <td>0.50556<\/td>\n",
       "      <td>0.04258<\/td>\n",
       "      <td>37,646.07566<\/td>\n",
       "      <td>0.92150<\/td>\n",
       "      <td>34,690.93149<\/td>\n",
       "    <\/tr>\n",
       "    <tr>\n",
       "      <th>4<\/th>\n",
       "      <td>1,748,653.15000<\/td>\n",
       "      <td>2009-01-19<\/td>\n",
       "      <td>2009-07-20<\/td>\n",
       "      <td>0.50556<\/td>\n",
       "      <td>0.04038<\/td>\n",
       "      <td>35,698.16367<\/td>\n",
       "      <td>0.90307<\/td>\n",
       "      <td>32,237.80296<\/td>\n",
       "    <\/tr>\n",
       "    <tr>\n",
       "      <th>5<\/th>\n",
       "      <td>1,748,653.15000<\/td>\n",
       "      <td>2009-07-20<\/td>\n",
       "      <td>2010-01-19<\/td>\n",
       "      <td>0.50833<\/td>\n",
       "      <td>0.04123<\/td>\n",
       "      <td>36,646.54485<\/td>\n",
       "      <td>0.88453<\/td>\n",
       "      <td>32,414.93374<\/td>\n",
       "    <\/tr>\n",
       "    <tr>\n",
       "      <th>6<\/th>\n",
       "      <td>1,748,653.15000<\/td>\n",
       "      <td>2010-01-19<\/td>\n",
       "      <td>2010-07-19<\/td>\n",
       "      <td>0.50278<\/td>\n",
       "      <td>0.04043<\/td>\n",
       "      <td>35,542.35504<\/td>\n",
       "      <td>0.86691<\/td>\n",
       "      <td>30,811.97511<\/td>\n",
       "    <\/tr>\n",
       "    <tr>\n",
       "      <th>7<\/th>\n",
       "      <td>1,748,653.15000<\/td>\n",
       "      <td>2010-07-19<\/td>\n",
       "      <td>2011-01-19<\/td>\n",
       "      <td>0.51111<\/td>\n",
       "      <td>0.04128<\/td>\n",
       "      <td>36,893.77046<\/td>\n",
       "      <td>0.84900<\/td>\n",
       "      <td>31,322.67083<\/td>\n",
       "    <\/tr>\n",
       "    <tr>\n",
       "      <th>8<\/th>\n",
       "      <td>1,748,653.15000<\/td>\n",
       "      <td>2011-01-19<\/td>\n",
       "      <td>2011-07-19<\/td>\n",
       "      <td>0.50278<\/td>\n",
       "      <td>0.04080<\/td>\n",
       "      <td>35,868.12115<\/td>\n",
       "      <td>0.83193<\/td>\n",
       "      <td>29,839.82821<\/td>\n",
       "    <\/tr>\n",
       "    <tr>\n",
       "      <th>9<\/th>\n",
       "      <td>1,748,653.15000<\/td>\n",
       "      <td>2011-07-19<\/td>\n",
       "      <td>2012-01-19<\/td>\n",
       "      <td>0.51111<\/td>\n",
       "      <td>0.04167<\/td>\n",
       "      <td>37,239.12433<\/td>\n",
       "      <td>0.81458<\/td>\n",
       "      <td>30,334.41100<\/td>\n",
       "    <\/tr>\n",
       "    <tr>\n",
       "      <th>10<\/th>\n",
       "      <td>1,748,653.15000<\/td>\n",
       "      <td>2012-01-19<\/td>\n",
       "      <td>2012-07-19<\/td>\n",
       "      <td>0.50556<\/td>\n",
       "      <td>0.04144<\/td>\n",
       "      <td>36,637.96498<\/td>\n",
       "      <td>0.79787<\/td>\n",
       "      <td>29,232.23900<\/td>\n",
       "    <\/tr>\n",
       "    <tr>\n",
       "      <th>11<\/th>\n",
       "      <td>1,748,653.15000<\/td>\n",
       "      <td>2012-07-19<\/td>\n",
       "      <td>2013-01-21<\/td>\n",
       "      <td>0.51667<\/td>\n",
       "      <td>0.04234<\/td>\n",
       "      <td>38,248.52240<\/td>\n",
       "      <td>0.78079<\/td>\n",
       "      <td>29,864.03041<\/td>\n",
       "    <\/tr>\n",
       "    <tr>\n",
       "      <th>12<\/th>\n",
       "      <td>1,748,653.15000<\/td>\n",
       "      <td>2013-01-21<\/td>\n",
       "      <td>2013-07-19<\/td>\n",
       "      <td>0.49722<\/td>\n",
       "      <td>0.04179<\/td>\n",
       "      <td>36,338.28982<\/td>\n",
       "      <td>0.76489<\/td>\n",
       "      <td>27,794.94238<\/td>\n",
       "    <\/tr>\n",
       "    <tr>\n",
       "      <th>13<\/th>\n",
       "      <td>1,748,653.15000<\/td>\n",
       "      <td>2013-07-19<\/td>\n",
       "      <td>2014-01-20<\/td>\n",
       "      <td>0.51389<\/td>\n",
       "      <td>0.04271<\/td>\n",
       "      <td>38,376.88780<\/td>\n",
       "      <td>0.74847<\/td>\n",
       "      <td>28,723.86442<\/td>\n",
       "    <\/tr>\n",
       "    <tr>\n",
       "      <th>14<\/th>\n",
       "      <td>1,748,653.15000<\/td>\n",
       "      <td>2014-01-20<\/td>\n",
       "      <td>2014-07-21<\/td>\n",
       "      <td>0.50556<\/td>\n",
       "      <td>0.04286<\/td>\n",
       "      <td>37,892.69503<\/td>\n",
       "      <td>0.73259<\/td>\n",
       "      <td>27,759.91421<\/td>\n",
       "    <\/tr>\n",
       "    <tr>\n",
       "      <th>15<\/th>\n",
       "      <td>1,748,653.15000<\/td>\n",
       "      <td>2014-07-21<\/td>\n",
       "      <td>2015-01-19<\/td>\n",
       "      <td>0.50556<\/td>\n",
       "      <td>0.04381<\/td>\n",
       "      <td>38,732.00385<\/td>\n",
       "      <td>0.71672<\/td>\n",
       "      <td>27,759.91421<\/td>\n",
       "    <\/tr>\n",
       "    <tr>\n",
       "      <th>16<\/th>\n",
       "      <td>1,748,653.15000<\/td>\n",
       "      <td>2015-01-19<\/td>\n",
       "      <td>2015-07-20<\/td>\n",
       "      <td>0.50556<\/td>\n",
       "      <td>0.04320<\/td>\n",
       "      <td>38,193.05719<\/td>\n",
       "      <td>0.70140<\/td>\n",
       "      <td>26,788.54194<\/td>\n",
       "    <\/tr>\n",
       "    <tr>\n",
       "      <th>17<\/th>\n",
       "      <td>1,748,653.15000<\/td>\n",
       "      <td>2015-07-20<\/td>\n",
       "      <td>2016-01-19<\/td>\n",
       "      <td>0.50833<\/td>\n",
       "      <td>0.04417<\/td>\n",
       "      <td>39,265.22941<\/td>\n",
       "      <td>0.68599<\/td>\n",
       "      <td>26,935.73173<\/td>\n",
       "    <\/tr>\n",
       "    <tr>\n",
       "      <th>18<\/th>\n",
       "      <td>1,748,653.15000<\/td>\n",
       "      <td>2016-01-19<\/td>\n",
       "      <td>2016-07-19<\/td>\n",
       "      <td>0.50556<\/td>\n",
       "      <td>0.04371<\/td>\n",
       "      <td>38,643.10204<\/td>\n",
       "      <td>0.67116<\/td>\n",
       "      <td>25,935.80609<\/td>\n",
       "    <\/tr>\n",
       "    <tr>\n",
       "      <th>19<\/th>\n",
       "      <td>1,748,653.15000<\/td>\n",
       "      <td>2016-07-19<\/td>\n",
       "      <td>2017-01-19<\/td>\n",
       "      <td>0.51111<\/td>\n",
       "      <td>0.04471<\/td>\n",
       "      <td>39,960.53476<\/td>\n",
       "      <td>0.65617<\/td>\n",
       "      <td>26,220.81495<\/td>\n",
       "    <\/tr>\n",
       "    <tr>\n",
       "      <th>20<\/th>\n",
       "      <td>1,748,653.15000<\/td>\n",
       "      <td>2017-01-19<\/td>\n",
       "      <td>2017-07-19<\/td>\n",
       "      <td>0.50278<\/td>\n",
       "      <td>0.04412<\/td>\n",
       "      <td>38,793.08917<\/td>\n",
       "      <td>0.64193<\/td>\n",
       "      <td>24,902.32776<\/td>\n",
       "    <\/tr>\n",
       "    <tr>\n",
       "      <th>21<\/th>\n",
       "      <td>1,748,653.15000<\/td>\n",
       "      <td>2017-07-19<\/td>\n",
       "      <td>2018-01-19<\/td>\n",
       "      <td>0.51111<\/td>\n",
       "      <td>0.04514<\/td>\n",
       "      <td>40,345.96087<\/td>\n",
       "      <td>0.62745<\/td>\n",
       "      <td>25,315.07352<\/td>\n",
       "    <\/tr>\n",
       "    <tr>\n",
       "      <th>22<\/th>\n",
       "      <td>1,748,653.15000<\/td>\n",
       "      <td>2018-01-19<\/td>\n",
       "      <td>2018-07-19<\/td>\n",
       "      <td>0.50278<\/td>\n",
       "      <td>0.04435<\/td>\n",
       "      <td>38,995.92599<\/td>\n",
       "      <td>0.61376<\/td>\n",
       "      <td>23,934.24726<\/td>\n",
       "    <\/tr>\n",
       "    <tr>\n",
       "      <th>23<\/th>\n",
       "      <td>1,748,653.15000<\/td>\n",
       "      <td>2018-07-19<\/td>\n",
       "      <td>2019-01-21<\/td>\n",
       "      <td>0.51667<\/td>\n",
       "      <td>0.04507<\/td>\n",
       "      <td>40,721.32936<\/td>\n",
       "      <td>0.59980<\/td>\n",
       "      <td>24,424.45707<\/td>\n",
       "    <\/tr>\n",
       "    <tr>\n",
       "      <th>24<\/th>\n",
       "      <td>1,748,653.15000<\/td>\n",
       "      <td>2019-01-21<\/td>\n",
       "      <td>2019-07-19<\/td>\n",
       "      <td>0.49722<\/td>\n",
       "      <td>0.01618<\/td>\n",
       "      <td>14,065.51082<\/td>\n",
       "      <td>0.59501<\/td>\n",
       "      <td>8,369.10763<\/td>\n",
       "    <\/tr>\n",
       "    <tr>\n",
       "      <th>25<\/th>\n",
       "      <td>1,748,653.15000<\/td>\n",
       "      <td>2019-07-19<\/td>\n",
       "      <td>2020-01-20<\/td>\n",
       "      <td>0.51389<\/td>\n",
       "      <td>0.01631<\/td>\n",
       "      <td>14,658.84299<\/td>\n",
       "      <td>0.59006<\/td>\n",
       "      <td>8,649.63637<\/td>\n",
       "    <\/tr>\n",
       "    <tr>\n",
       "      <th>26<\/th>\n",
       "      <td>1,748,653.15000<\/td>\n",
       "      <td>2020-01-20<\/td>\n",
       "      <td>2020-07-20<\/td>\n",
       "      <td>0.50556<\/td>\n",
       "      <td>0.01645<\/td>\n",
       "      <td>14,541.05199<\/td>\n",
       "      <td>0.58520<\/td>\n",
       "      <td>8,509.37200<\/td>\n",
       "    <\/tr>\n",
       "    <tr>\n",
       "      <th>27<\/th>\n",
       "      <td>1,748,653.15000<\/td>\n",
       "      <td>2020-07-20<\/td>\n",
       "      <td>2021-01-19<\/td>\n",
       "      <td>0.50833<\/td>\n",
       "      <td>0.01659<\/td>\n",
       "      <td>14,744.22825<\/td>\n",
       "      <td>0.58030<\/td>\n",
       "      <td>8,556.12679<\/td>\n",
       "    <\/tr>\n",
       "    <tr>\n",
       "      <th>28<\/th>\n",
       "      <td>1,748,653.15000<\/td>\n",
       "      <td>2021-01-19<\/td>\n",
       "      <td>2021-07-19<\/td>\n",
       "      <td>0.50278<\/td>\n",
       "      <td>0.01673<\/td>\n",
       "      <td>14,705.72922<\/td>\n",
       "      <td>0.57546<\/td>\n",
       "      <td>8,462.61721<\/td>\n",
       "    <\/tr>\n",
       "    <tr>\n",
       "      <th>29<\/th>\n",
       "      <td>1,748,653.15000<\/td>\n",
       "      <td>2021-07-19<\/td>\n",
       "      <td>2022-01-19<\/td>\n",
       "      <td>0.51111<\/td>\n",
       "      <td>0.01687<\/td>\n",
       "      <td>15,078.37766<\/td>\n",
       "      <td>0.57054<\/td>\n",
       "      <td>8,602.88158<\/td>\n",
       "    <\/tr>\n",
       "  <\/tbody>\n",
       "<\/table>\n",
       "<\/div>"
      ]
     },
     "metadata":{
      
     },
     "output_type":"display_data"
    }
   ],
   "metadata":{
    "datalore":{
     "node_id":"uU644Fxk0PoWbDXbvQTu0W",
     "type":"CODE",
     "hide_input_from_viewers":true,
     "hide_output_from_viewers":true
    }
   }
  },
  {
   "cell_type":"code",
   "source":[
    "fixed_leg = pd.DataFrame({\n",
    "    'notional': swap_notional,\n",
    "    'start': loan_dates[::2][:-1],\n",
    "    'end': loan_dates[::2][1:]\n",
    "})\n",
    "\n",
    "fixed_leg['dcf'] = 1\n",
    "fixed_leg['df'] = fixed_leg.end.apply(getDF)\n",
    "fixed_leg"
   ],
   "execution_count":339,
   "outputs":[
    {
     "data":{
      "text\/html":[
       "<div>\n",
       "<style scoped>\n",
       "    .dataframe tbody tr th:only-of-type {\n",
       "        vertical-align: middle;\n",
       "    }\n",
       "\n",
       "    .dataframe tbody tr th {\n",
       "        vertical-align: top;\n",
       "    }\n",
       "\n",
       "    .dataframe thead th {\n",
       "        text-align: right;\n",
       "    }\n",
       "<\/style>\n",
       "<table border=\"1\" class=\"dataframe\">\n",
       "  <thead>\n",
       "    <tr style=\"text-align: right;\">\n",
       "      <th><\/th>\n",
       "      <th>notional<\/th>\n",
       "      <th>start<\/th>\n",
       "      <th>end<\/th>\n",
       "      <th>dcf<\/th>\n",
       "      <th>df<\/th>\n",
       "    <\/tr>\n",
       "  <\/thead>\n",
       "  <tbody>\n",
       "    <tr>\n",
       "      <th>0<\/th>\n",
       "      <td>1,748,653.15000<\/td>\n",
       "      <td>2007-01-19<\/td>\n",
       "      <td>2008-01-21<\/td>\n",
       "      <td>1<\/td>\n",
       "      <td>0.96118<\/td>\n",
       "    <\/tr>\n",
       "    <tr>\n",
       "      <th>1<\/th>\n",
       "      <td>1,748,653.15000<\/td>\n",
       "      <td>2008-01-21<\/td>\n",
       "      <td>2009-01-19<\/td>\n",
       "      <td>1<\/td>\n",
       "      <td>0.92150<\/td>\n",
       "    <\/tr>\n",
       "    <tr>\n",
       "      <th>2<\/th>\n",
       "      <td>1,748,653.15000<\/td>\n",
       "      <td>2009-01-19<\/td>\n",
       "      <td>2010-01-19<\/td>\n",
       "      <td>1<\/td>\n",
       "      <td>0.88453<\/td>\n",
       "    <\/tr>\n",
       "    <tr>\n",
       "      <th>3<\/th>\n",
       "      <td>1,748,653.15000<\/td>\n",
       "      <td>2010-01-19<\/td>\n",
       "      <td>2011-01-19<\/td>\n",
       "      <td>1<\/td>\n",
       "      <td>0.84900<\/td>\n",
       "    <\/tr>\n",
       "    <tr>\n",
       "      <th>4<\/th>\n",
       "      <td>1,748,653.15000<\/td>\n",
       "      <td>2011-01-19<\/td>\n",
       "      <td>2012-01-19<\/td>\n",
       "      <td>1<\/td>\n",
       "      <td>0.81458<\/td>\n",
       "    <\/tr>\n",
       "    <tr>\n",
       "      <th>5<\/th>\n",
       "      <td>1,748,653.15000<\/td>\n",
       "      <td>2012-01-19<\/td>\n",
       "      <td>2013-01-21<\/td>\n",
       "      <td>1<\/td>\n",
       "      <td>0.78079<\/td>\n",
       "    <\/tr>\n",
       "    <tr>\n",
       "      <th>6<\/th>\n",
       "      <td>1,748,653.15000<\/td>\n",
       "      <td>2013-01-21<\/td>\n",
       "      <td>2014-01-20<\/td>\n",
       "      <td>1<\/td>\n",
       "      <td>0.74847<\/td>\n",
       "    <\/tr>\n",
       "    <tr>\n",
       "      <th>7<\/th>\n",
       "      <td>1,748,653.15000<\/td>\n",
       "      <td>2014-01-20<\/td>\n",
       "      <td>2015-01-19<\/td>\n",
       "      <td>1<\/td>\n",
       "      <td>0.71672<\/td>\n",
       "    <\/tr>\n",
       "    <tr>\n",
       "      <th>8<\/th>\n",
       "      <td>1,748,653.15000<\/td>\n",
       "      <td>2015-01-19<\/td>\n",
       "      <td>2016-01-19<\/td>\n",
       "      <td>1<\/td>\n",
       "      <td>0.68599<\/td>\n",
       "    <\/tr>\n",
       "    <tr>\n",
       "      <th>9<\/th>\n",
       "      <td>1,748,653.15000<\/td>\n",
       "      <td>2016-01-19<\/td>\n",
       "      <td>2017-01-19<\/td>\n",
       "      <td>1<\/td>\n",
       "      <td>0.65617<\/td>\n",
       "    <\/tr>\n",
       "    <tr>\n",
       "      <th>10<\/th>\n",
       "      <td>1,748,653.15000<\/td>\n",
       "      <td>2017-01-19<\/td>\n",
       "      <td>2018-01-19<\/td>\n",
       "      <td>1<\/td>\n",
       "      <td>0.62745<\/td>\n",
       "    <\/tr>\n",
       "    <tr>\n",
       "      <th>11<\/th>\n",
       "      <td>1,748,653.15000<\/td>\n",
       "      <td>2018-01-19<\/td>\n",
       "      <td>2019-01-21<\/td>\n",
       "      <td>1<\/td>\n",
       "      <td>0.59980<\/td>\n",
       "    <\/tr>\n",
       "    <tr>\n",
       "      <th>12<\/th>\n",
       "      <td>1,748,653.15000<\/td>\n",
       "      <td>2019-01-21<\/td>\n",
       "      <td>2020-01-20<\/td>\n",
       "      <td>1<\/td>\n",
       "      <td>0.59006<\/td>\n",
       "    <\/tr>\n",
       "    <tr>\n",
       "      <th>13<\/th>\n",
       "      <td>1,748,653.15000<\/td>\n",
       "      <td>2020-01-20<\/td>\n",
       "      <td>2021-01-19<\/td>\n",
       "      <td>1<\/td>\n",
       "      <td>0.58030<\/td>\n",
       "    <\/tr>\n",
       "    <tr>\n",
       "      <th>14<\/th>\n",
       "      <td>1,748,653.15000<\/td>\n",
       "      <td>2021-01-19<\/td>\n",
       "      <td>2022-01-19<\/td>\n",
       "      <td>1<\/td>\n",
       "      <td>0.57054<\/td>\n",
       "    <\/tr>\n",
       "  <\/tbody>\n",
       "<\/table>\n",
       "<\/div>"
      ]
     },
     "metadata":{
      
     },
     "output_type":"display_data"
    }
   ],
   "metadata":{
    "datalore":{
     "node_id":"Tg1YtqI7jpKezOJIl9owqM",
     "type":"CODE",
     "hide_input_from_viewers":true,
     "hide_output_from_viewers":true
    }
   }
  },
  {
   "cell_type":"code",
   "source":[
    "#getting swap rate with matrix algebra\n",
    "fixed_rate = float_leg_pv \/ (fixed_leg.notional *  fixed_leg.dcf * fixed_leg.df).sum()\n",
    "print(f\"Fair fixed rate is: {fixed_rate * 100:.4f}%\")"
   ],
   "execution_count":340,
   "outputs":[
    {
     "name":"stdout",
     "text":[
      "Fair fixed rate is: 3.9097%\n"
     ],
     "output_type":"stream"
    }
   ],
   "metadata":{
    "datalore":{
     "node_id":"rH7PCv07W11lTL7RUQYbgt",
     "type":"CODE",
     "hide_input_from_viewers":true,
     "hide_output_from_viewers":true
    }
   }
  },
  {
   "cell_type":"code",
   "source":[
    "from scipy.optimize import root\n",
    "def swapPv(rate):\n",
    "    fxd = fixed_leg.copy()\n",
    "    fixed_leg_pv = (fxd.notional * fxd.dcf * fxd.df * rate).sum()\n",
    "    return fixed_leg_pv - float_leg_pv\n",
    "\n",
    "\n",
    "res = root(swapPv, 0)\n",
    "fixed_rate1 = res['x'][0]\n",
    "\n",
    "print(f\"Fixed rate Matrix Algebra:\\t {fixed_rate * 100:.4f}%\")\n",
    "print(f\"Fixed rate Optimization:\\t {fixed_rate1 * 100:.4f}%\")"
   ],
   "execution_count":341,
   "outputs":[
    {
     "name":"stdout",
     "text":[
      "Fixed rate Matrix Algebra:\t 3.9097%\n",
      "Fixed rate Optimization:\t 3.9097%\n"
     ],
     "output_type":"stream"
    }
   ],
   "metadata":{
    "datalore":{
     "node_id":"XoUpEm0mrYTE9i8CSbDkA0",
     "type":"CODE",
     "hide_input_from_viewers":true,
     "hide_output_from_viewers":true
    }
   }
  },
  {
   "cell_type":"code",
   "source":[
    "fixed_leg['rate'] = fixed_rate\n",
    "fixed_leg['cashflow'] = fixed_leg.notional * fixed_leg.dcf * fixed_leg.rate\n",
    "fixed_leg['pv'] = fixed_leg.cashflow * fixed_leg.df\n",
    "\n",
    "\n",
    "fixed_leg_pv = fixed_leg.pv.sum()\n",
    "print(f\"Present Value of Fixed Leg is: {fixed_leg_pv:,.2f}\")\n",
    "\n",
    "fixed_leg"
   ],
   "execution_count":342,
   "outputs":[
    {
     "name":"stdout",
     "text":[
      "Present Value of Fixed Leg is: 751,154.04\n"
     ],
     "output_type":"stream"
    },
    {
     "data":{
      "text\/html":[
       "<div>\n",
       "<style scoped>\n",
       "    .dataframe tbody tr th:only-of-type {\n",
       "        vertical-align: middle;\n",
       "    }\n",
       "\n",
       "    .dataframe tbody tr th {\n",
       "        vertical-align: top;\n",
       "    }\n",
       "\n",
       "    .dataframe thead th {\n",
       "        text-align: right;\n",
       "    }\n",
       "<\/style>\n",
       "<table border=\"1\" class=\"dataframe\">\n",
       "  <thead>\n",
       "    <tr style=\"text-align: right;\">\n",
       "      <th><\/th>\n",
       "      <th>notional<\/th>\n",
       "      <th>start<\/th>\n",
       "      <th>end<\/th>\n",
       "      <th>dcf<\/th>\n",
       "      <th>df<\/th>\n",
       "      <th>rate<\/th>\n",
       "      <th>cashflow<\/th>\n",
       "      <th>pv<\/th>\n",
       "    <\/tr>\n",
       "  <\/thead>\n",
       "  <tbody>\n",
       "    <tr>\n",
       "      <th>0<\/th>\n",
       "      <td>1,748,653.15000<\/td>\n",
       "      <td>2007-01-19<\/td>\n",
       "      <td>2008-01-21<\/td>\n",
       "      <td>1<\/td>\n",
       "      <td>0.96118<\/td>\n",
       "      <td>0.03910<\/td>\n",
       "      <td>68,367.00997<\/td>\n",
       "      <td>65,712.95126<\/td>\n",
       "    <\/tr>\n",
       "    <tr>\n",
       "      <th>1<\/th>\n",
       "      <td>1,748,653.15000<\/td>\n",
       "      <td>2008-01-21<\/td>\n",
       "      <td>2009-01-19<\/td>\n",
       "      <td>1<\/td>\n",
       "      <td>0.92150<\/td>\n",
       "      <td>0.03910<\/td>\n",
       "      <td>68,367.00997<\/td>\n",
       "      <td>63,000.33183<\/td>\n",
       "    <\/tr>\n",
       "    <tr>\n",
       "      <th>2<\/th>\n",
       "      <td>1,748,653.15000<\/td>\n",
       "      <td>2009-01-19<\/td>\n",
       "      <td>2010-01-19<\/td>\n",
       "      <td>1<\/td>\n",
       "      <td>0.88453<\/td>\n",
       "      <td>0.03910<\/td>\n",
       "      <td>68,367.00997<\/td>\n",
       "      <td>60,472.60682<\/td>\n",
       "    <\/tr>\n",
       "    <tr>\n",
       "      <th>3<\/th>\n",
       "      <td>1,748,653.15000<\/td>\n",
       "      <td>2010-01-19<\/td>\n",
       "      <td>2011-01-19<\/td>\n",
       "      <td>1<\/td>\n",
       "      <td>0.84900<\/td>\n",
       "      <td>0.03910<\/td>\n",
       "      <td>68,367.00997<\/td>\n",
       "      <td>58,043.33149<\/td>\n",
       "    <\/tr>\n",
       "    <tr>\n",
       "      <th>4<\/th>\n",
       "      <td>1,748,653.15000<\/td>\n",
       "      <td>2011-01-19<\/td>\n",
       "      <td>2012-01-19<\/td>\n",
       "      <td>1<\/td>\n",
       "      <td>0.81458<\/td>\n",
       "      <td>0.03910<\/td>\n",
       "      <td>68,367.00997<\/td>\n",
       "      <td>55,690.70209<\/td>\n",
       "    <\/tr>\n",
       "    <tr>\n",
       "      <th>5<\/th>\n",
       "      <td>1,748,653.15000<\/td>\n",
       "      <td>2012-01-19<\/td>\n",
       "      <td>2013-01-21<\/td>\n",
       "      <td>1<\/td>\n",
       "      <td>0.78079<\/td>\n",
       "      <td>0.03910<\/td>\n",
       "      <td>68,367.00997<\/td>\n",
       "      <td>53,380.21803<\/td>\n",
       "    <\/tr>\n",
       "    <tr>\n",
       "      <th>6<\/th>\n",
       "      <td>1,748,653.15000<\/td>\n",
       "      <td>2013-01-21<\/td>\n",
       "      <td>2014-01-20<\/td>\n",
       "      <td>1<\/td>\n",
       "      <td>0.74847<\/td>\n",
       "      <td>0.03910<\/td>\n",
       "      <td>68,367.00997<\/td>\n",
       "      <td>51,170.50489<\/td>\n",
       "    <\/tr>\n",
       "    <tr>\n",
       "      <th>7<\/th>\n",
       "      <td>1,748,653.15000<\/td>\n",
       "      <td>2014-01-20<\/td>\n",
       "      <td>2015-01-19<\/td>\n",
       "      <td>1<\/td>\n",
       "      <td>0.71672<\/td>\n",
       "      <td>0.03910<\/td>\n",
       "      <td>68,367.00997<\/td>\n",
       "      <td>48,999.84877<\/td>\n",
       "    <\/tr>\n",
       "    <tr>\n",
       "      <th>8<\/th>\n",
       "      <td>1,748,653.15000<\/td>\n",
       "      <td>2015-01-19<\/td>\n",
       "      <td>2016-01-19<\/td>\n",
       "      <td>1<\/td>\n",
       "      <td>0.68599<\/td>\n",
       "      <td>0.03910<\/td>\n",
       "      <td>68,367.00997<\/td>\n",
       "      <td>46,899.39337<\/td>\n",
       "    <\/tr>\n",
       "    <tr>\n",
       "      <th>9<\/th>\n",
       "      <td>1,748,653.15000<\/td>\n",
       "      <td>2016-01-19<\/td>\n",
       "      <td>2017-01-19<\/td>\n",
       "      <td>1<\/td>\n",
       "      <td>0.65617<\/td>\n",
       "      <td>0.03910<\/td>\n",
       "      <td>68,367.00997<\/td>\n",
       "      <td>44,860.22841<\/td>\n",
       "    <\/tr>\n",
       "    <tr>\n",
       "      <th>10<\/th>\n",
       "      <td>1,748,653.15000<\/td>\n",
       "      <td>2017-01-19<\/td>\n",
       "      <td>2018-01-19<\/td>\n",
       "      <td>1<\/td>\n",
       "      <td>0.62745<\/td>\n",
       "      <td>0.03910<\/td>\n",
       "      <td>68,367.00997<\/td>\n",
       "      <td>42,896.88104<\/td>\n",
       "    <\/tr>\n",
       "    <tr>\n",
       "      <th>11<\/th>\n",
       "      <td>1,748,653.15000<\/td>\n",
       "      <td>2018-01-19<\/td>\n",
       "      <td>2019-01-21<\/td>\n",
       "      <td>1<\/td>\n",
       "      <td>0.59980<\/td>\n",
       "      <td>0.03910<\/td>\n",
       "      <td>68,367.00997<\/td>\n",
       "      <td>41,006.20305<\/td>\n",
       "    <\/tr>\n",
       "    <tr>\n",
       "      <th>12<\/th>\n",
       "      <td>1,748,653.15000<\/td>\n",
       "      <td>2019-01-21<\/td>\n",
       "      <td>2020-01-20<\/td>\n",
       "      <td>1<\/td>\n",
       "      <td>0.59006<\/td>\n",
       "      <td>0.03910<\/td>\n",
       "      <td>68,367.00997<\/td>\n",
       "      <td>40,340.82201<\/td>\n",
       "    <\/tr>\n",
       "    <tr>\n",
       "      <th>13<\/th>\n",
       "      <td>1,748,653.15000<\/td>\n",
       "      <td>2020-01-20<\/td>\n",
       "      <td>2021-01-19<\/td>\n",
       "      <td>1<\/td>\n",
       "      <td>0.58030<\/td>\n",
       "      <td>0.03910<\/td>\n",
       "      <td>68,367.00997<\/td>\n",
       "      <td>39,673.61301<\/td>\n",
       "    <\/tr>\n",
       "    <tr>\n",
       "      <th>14<\/th>\n",
       "      <td>1,748,653.15000<\/td>\n",
       "      <td>2021-01-19<\/td>\n",
       "      <td>2022-01-19<\/td>\n",
       "      <td>1<\/td>\n",
       "      <td>0.57054<\/td>\n",
       "      <td>0.03910<\/td>\n",
       "      <td>68,367.00997<\/td>\n",
       "      <td>39,006.40401<\/td>\n",
       "    <\/tr>\n",
       "  <\/tbody>\n",
       "<\/table>\n",
       "<\/div>"
      ]
     },
     "metadata":{
      
     },
     "output_type":"display_data"
    }
   ],
   "metadata":{
    "datalore":{
     "node_id":"gfVUkIcv01vMvO50gFh4pj",
     "type":"CODE",
     "hide_input_from_viewers":true,
     "hide_output_from_viewers":true
    }
   }
  },
  {
   "cell_type":"code",
   "source":[
    "#Question 2b)\n",
    "pv01 = (fixed_leg.notional * fixed_leg.dcf * 0.0001 * fixed_leg.df).sum()\n",
    "\n",
    "print(f\"Present value of 1 bps on the fixed leg is: EUR {pv01:,.2f}\")"
   ],
   "execution_count":343,
   "outputs":[
    {
     "name":"stdout",
     "text":[
      "Present value of 1 bps on the fixed leg is: EUR 1,921.26\n"
     ],
     "output_type":"stream"
    }
   ],
   "metadata":{
    "datalore":{
     "node_id":"Liqtk48tEfXRHYB6NO9V5L",
     "type":"CODE",
     "hide_input_from_viewers":true,
     "hide_output_from_viewers":true
    }
   }
  },
  {
   "cell_type":"code",
   "source":[
    "#question 2c\n",
    "fixed_leg_2c = pd.DataFrame({\n",
    "    'notional': swap_notional,\n",
    "    'start': loan_dates[::2][:-1],\n",
    "    'end': loan_dates[::2][1:]\n",
    "})\n",
    "\n",
    "fixed_leg_2c['dcf'] = 1\n",
    "fixed_leg_2c['df'] = fixed_leg.end.apply(getDF)\n",
    "fixed_leg_2c"
   ],
   "execution_count":344,
   "outputs":[
    {
     "data":{
      "text\/html":[
       "<div>\n",
       "<style scoped>\n",
       "    .dataframe tbody tr th:only-of-type {\n",
       "        vertical-align: middle;\n",
       "    }\n",
       "\n",
       "    .dataframe tbody tr th {\n",
       "        vertical-align: top;\n",
       "    }\n",
       "\n",
       "    .dataframe thead th {\n",
       "        text-align: right;\n",
       "    }\n",
       "<\/style>\n",
       "<table border=\"1\" class=\"dataframe\">\n",
       "  <thead>\n",
       "    <tr style=\"text-align: right;\">\n",
       "      <th><\/th>\n",
       "      <th>notional<\/th>\n",
       "      <th>start<\/th>\n",
       "      <th>end<\/th>\n",
       "      <th>dcf<\/th>\n",
       "      <th>df<\/th>\n",
       "    <\/tr>\n",
       "  <\/thead>\n",
       "  <tbody>\n",
       "    <tr>\n",
       "      <th>0<\/th>\n",
       "      <td>1,748,653.15000<\/td>\n",
       "      <td>2007-01-19<\/td>\n",
       "      <td>2008-01-21<\/td>\n",
       "      <td>1<\/td>\n",
       "      <td>0.96118<\/td>\n",
       "    <\/tr>\n",
       "    <tr>\n",
       "      <th>1<\/th>\n",
       "      <td>1,748,653.15000<\/td>\n",
       "      <td>2008-01-21<\/td>\n",
       "      <td>2009-01-19<\/td>\n",
       "      <td>1<\/td>\n",
       "      <td>0.92150<\/td>\n",
       "    <\/tr>\n",
       "    <tr>\n",
       "      <th>2<\/th>\n",
       "      <td>1,748,653.15000<\/td>\n",
       "      <td>2009-01-19<\/td>\n",
       "      <td>2010-01-19<\/td>\n",
       "      <td>1<\/td>\n",
       "      <td>0.88453<\/td>\n",
       "    <\/tr>\n",
       "    <tr>\n",
       "      <th>3<\/th>\n",
       "      <td>1,748,653.15000<\/td>\n",
       "      <td>2010-01-19<\/td>\n",
       "      <td>2011-01-19<\/td>\n",
       "      <td>1<\/td>\n",
       "      <td>0.84900<\/td>\n",
       "    <\/tr>\n",
       "    <tr>\n",
       "      <th>4<\/th>\n",
       "      <td>1,748,653.15000<\/td>\n",
       "      <td>2011-01-19<\/td>\n",
       "      <td>2012-01-19<\/td>\n",
       "      <td>1<\/td>\n",
       "      <td>0.81458<\/td>\n",
       "    <\/tr>\n",
       "    <tr>\n",
       "      <th>5<\/th>\n",
       "      <td>1,748,653.15000<\/td>\n",
       "      <td>2012-01-19<\/td>\n",
       "      <td>2013-01-21<\/td>\n",
       "      <td>1<\/td>\n",
       "      <td>0.78079<\/td>\n",
       "    <\/tr>\n",
       "    <tr>\n",
       "      <th>6<\/th>\n",
       "      <td>1,748,653.15000<\/td>\n",
       "      <td>2013-01-21<\/td>\n",
       "      <td>2014-01-20<\/td>\n",
       "      <td>1<\/td>\n",
       "      <td>0.74847<\/td>\n",
       "    <\/tr>\n",
       "    <tr>\n",
       "      <th>7<\/th>\n",
       "      <td>1,748,653.15000<\/td>\n",
       "      <td>2014-01-20<\/td>\n",
       "      <td>2015-01-19<\/td>\n",
       "      <td>1<\/td>\n",
       "      <td>0.71672<\/td>\n",
       "    <\/tr>\n",
       "    <tr>\n",
       "      <th>8<\/th>\n",
       "      <td>1,748,653.15000<\/td>\n",
       "      <td>2015-01-19<\/td>\n",
       "      <td>2016-01-19<\/td>\n",
       "      <td>1<\/td>\n",
       "      <td>0.68599<\/td>\n",
       "    <\/tr>\n",
       "    <tr>\n",
       "      <th>9<\/th>\n",
       "      <td>1,748,653.15000<\/td>\n",
       "      <td>2016-01-19<\/td>\n",
       "      <td>2017-01-19<\/td>\n",
       "      <td>1<\/td>\n",
       "      <td>0.65617<\/td>\n",
       "    <\/tr>\n",
       "    <tr>\n",
       "      <th>10<\/th>\n",
       "      <td>1,748,653.15000<\/td>\n",
       "      <td>2017-01-19<\/td>\n",
       "      <td>2018-01-19<\/td>\n",
       "      <td>1<\/td>\n",
       "      <td>0.62745<\/td>\n",
       "    <\/tr>\n",
       "    <tr>\n",
       "      <th>11<\/th>\n",
       "      <td>1,748,653.15000<\/td>\n",
       "      <td>2018-01-19<\/td>\n",
       "      <td>2019-01-21<\/td>\n",
       "      <td>1<\/td>\n",
       "      <td>0.59980<\/td>\n",
       "    <\/tr>\n",
       "    <tr>\n",
       "      <th>12<\/th>\n",
       "      <td>1,748,653.15000<\/td>\n",
       "      <td>2019-01-21<\/td>\n",
       "      <td>2020-01-20<\/td>\n",
       "      <td>1<\/td>\n",
       "      <td>0.59006<\/td>\n",
       "    <\/tr>\n",
       "    <tr>\n",
       "      <th>13<\/th>\n",
       "      <td>1,748,653.15000<\/td>\n",
       "      <td>2020-01-20<\/td>\n",
       "      <td>2021-01-19<\/td>\n",
       "      <td>1<\/td>\n",
       "      <td>0.58030<\/td>\n",
       "    <\/tr>\n",
       "    <tr>\n",
       "      <th>14<\/th>\n",
       "      <td>1,748,653.15000<\/td>\n",
       "      <td>2021-01-19<\/td>\n",
       "      <td>2022-01-19<\/td>\n",
       "      <td>1<\/td>\n",
       "      <td>0.57054<\/td>\n",
       "    <\/tr>\n",
       "  <\/tbody>\n",
       "<\/table>\n",
       "<\/div>"
      ]
     },
     "metadata":{
      
     },
     "output_type":"display_data"
    }
   ],
   "metadata":{
    "datalore":{
     "node_id":"5Mm946FVoJJoRh0zHdFvWm",
     "type":"CODE",
     "hide_input_from_viewers":true,
     "hide_output_from_viewers":true
    }
   }
  },
  {
   "cell_type":"code",
   "source":[
    "#question 2c\n",
    "\n",
    "fixed_leg_2c['rate'] = fixed_rate+0.0005\n",
    "fixed_leg_2c['cashflow'] = fixed_leg_2c.notional * fixed_leg_2c.dcf * fixed_leg_2c.rate\n",
    "fixed_leg_2c['pv'] = fixed_leg_2c.cashflow * fixed_leg_2c.df\n",
    "\n",
    "\n",
    "fixed_leg_pv_2c = fixed_leg_2c.pv.sum()\n",
    "print(f\"Present Value of Fixed Leg, with the fee, is: {fixed_leg_pv_2c:,.2f}\")"
   ],
   "execution_count":345,
   "outputs":[
    {
     "name":"stdout",
     "text":[
      "Present Value of Fixed Leg, with the fee, is: 760,760.34\n"
     ],
     "output_type":"stream"
    }
   ],
   "metadata":{
    "datalore":{
     "node_id":"2hPsSJfzBQ19GFzFtqpy3i",
     "type":"CODE",
     "hide_input_from_viewers":true,
     "hide_output_from_viewers":true
    }
   }
  },
  {
   "cell_type":"code",
   "source":[
    "#Other way to calculate querstion 2c\n",
    "pv05 = (fixed_leg.notional * fixed_leg.dcf * 0.0005 * fixed_leg.df).sum()\n",
    "result_pv05 = fixed_leg_pv + pv05\n",
    "print(f\"The price of this swap considering that the counterparty charges 5bps is: {result_pv05:.3f}\")"
   ],
   "execution_count":346,
   "outputs":[
    {
     "name":"stdout",
     "text":[
      "The price of this swap considering that the counterparty charges 5bps is: 760760.339\n"
     ],
     "output_type":"stream"
    }
   ],
   "metadata":{
    "datalore":{
     "node_id":"0ohruDrQrG1d8nlo464Ppg",
     "type":"CODE",
     "hide_input_from_viewers":true,
     "hide_output_from_viewers":true
    }
   }
  },
  {
   "cell_type":"code",
   "source":[
    "#The price of the swap with a 5bps is  3.7953% + 0.0005"
   ],
   "execution_count":347,
   "outputs":[
    
   ],
   "metadata":{
    "datalore":{
     "node_id":"WVYYNT1GhlUXpCA41QBc8t",
     "type":"CODE",
     "hide_input_from_viewers":true,
     "hide_output_from_viewers":true
    }
   }
  },
  {
   "cell_type":"code",
   "source":[
    "#question 2d)\n",
    "#The market value of this swap 0\n",
    "market_value = fixed_leg_pv - float_leg_pv\n",
    "market_value"
   ],
   "execution_count":348,
   "outputs":[
    {
     "data":{
      "text\/plain":[
       "1.1641532182693481e-10"
      ]
     },
     "metadata":{
      
     },
     "output_type":"display_data"
    }
   ],
   "metadata":{
    "datalore":{
     "node_id":"IHb4H5U8H4sP7J8OsH2hZY",
     "type":"CODE",
     "hide_input_from_viewers":true,
     "hide_output_from_viewers":true
    }
   }
  },
  {
   "cell_type":"code",
   "source":[
    "#Market value with 5bps fee:\n",
    "market_value_fee = fixed_leg_pv_2c - float_leg_pv\n",
    "market_value_fee"
   ],
   "execution_count":349,
   "outputs":[
    {
     "data":{
      "text\/plain":[
       "9606.298995143268"
      ]
     },
     "metadata":{
      
     },
     "output_type":"display_data"
    }
   ],
   "metadata":{
    "datalore":{
     "node_id":"eo2iMa5KWlb2BRwbSLzMsk",
     "type":"CODE",
     "hide_input_from_viewers":true,
     "hide_output_from_viewers":true
    }
   }
  },
  {
   "cell_type":"code",
   "source":[
    "#Qustion 2e)\n",
    "beg_date=date(2007,1,31)\n",
    "last_date=date(2020,11,30)\n",
    "delta=(last_date-beg_date).days"
   ],
   "execution_count":350,
   "outputs":[
    
   ],
   "metadata":{
    "datalore":{
     "node_id":"8FzEwwFmfCN0x2tMvf3Dan",
     "type":"CODE",
     "hide_input_from_viewers":true,
     "hide_output_from_viewers":true
    }
   }
  },
  {
   "cell_type":"code",
   "source":[
    "hist_dates=pd.date_range(beg_date,last_date,freq='d')\n",
    "hist_dates"
   ],
   "execution_count":351,
   "outputs":[
    {
     "data":{
      "text\/plain":[
       "DatetimeIndex(['2007-01-31', '2007-02-01', '2007-02-02', '2007-02-03',\n",
       "               '2007-02-04', '2007-02-05', '2007-02-06', '2007-02-07',\n",
       "               '2007-02-08', '2007-02-09',\n",
       "               ...\n",
       "               '2020-11-21', '2020-11-22', '2020-11-23', '2020-11-24',\n",
       "               '2020-11-25', '2020-11-26', '2020-11-27', '2020-11-28',\n",
       "               '2020-11-29', '2020-11-30'],\n",
       "              dtype='datetime64[ns]', length=5053, freq='D')"
      ]
     },
     "metadata":{
      
     },
     "output_type":"display_data"
    }
   ],
   "metadata":{
    "datalore":{
     "node_id":"UjbHjiLFiUMasbPF5WdVrM",
     "type":"CODE",
     "hide_input_from_viewers":true,
     "hide_output_from_viewers":true
    }
   }
  },
  {
   "cell_type":"code",
   "source":[
    "for b in hist_dates:\n",
    "    try:\n",
    "        swaps_hist=swaps.loc[str(b)].transpose()\n",
    "        swaps_hist.columns=['par_rate']\n",
    "        swaps_hist.reset_index(inplace=True)\n",
    "        swaps_hist[['instrument', 'maturity']] = swaps_hist['index'].str.split(' ', expand=True) #splitting the index column to have a columns with only the name of the product\n",
    "        swaps_hist[\"maturity\"] = swaps_hist[\"maturity\"].apply(lambda x: x + \"M\" if \"X\" in x else x) #adding a M to the FRAs maturities\n",
    "        swaps_hist['maturity_fra'] = swaps_hist['maturity'].str.split('X').str[1] #getting the maturity of the fra\n",
    "        swaps_hist.loc[swaps_hist[\"instrument\"] == \"FRA\", \"maturity\"] = swaps_hist[\"maturity_fra\"] #getting the new maturity\n",
    "        swaps_hist[\"year_frac\"] = swaps_hist[\"maturity\"].apply(extract_number)\n",
    "        swaps_hist.set_index('index',inplace=True)\n",
    "        forward_hist=swaps_hist.loc['FRA 6X12', 'par_rate']\n",
    "        one_year_rate_hist=(((1+swaps_hist.loc['Deposit 6M', 'par_rate'])**swaps_hist.loc['Deposit 6M', 'year_frac'])*(1+forward_hist)**(1-swaps_hist.loc['Deposit 6M', 'year_frac']))-1\n",
    "        yield_curve_hist = swaps_hist[swaps_hist.index.str.contains(\"FRA\") == False]\n",
    "        one_year_rate_frame_hist = pd.DataFrame([[one_year_rate_hist,'-','1Y','-',1.0]],\n",
    "            index=['Swap 1Y'],\n",
    "            columns=['par_rate', 'instrument','maturity','maturity_fra','year_frac'])\n",
    "        yield_curve_hist=yield_curve_hist.append(one_year_rate_frame_hist)\n",
    "        yield_curve_hist.set_index('year_frac',inplace=True)\n",
    "        yield_curve_hist.loc[0.5, 'df'] = 1 \/ (1 + (yield_curve_hist.loc[0.5, 'par_rate']\/100) * 0.5)\n",
    "        yield_curve_hist.loc[0.5, 'zero_rate'] = yield_curve_hist.loc[0.5, 'par_rate']\/100\n",
    "        yield_curve_hist.loc[1, 'df'] = 1 \/ (1 + yield_curve_hist.loc[1, 'par_rate']\/100 * 1)\n",
    "        yield_curve_hist.loc[1, 'zero_rate'] = yield_curve_hist.loc[1, 'par_rate']\/100\n",
    "        yield_curve_hist=yield_curve_hist.sort_index()\n",
    "        yield_curve_hist[\"Tenor\"]= yield_curve_hist.index\n",
    "        yield_curve_hist['maturity'] = [date(b.year,b.month+6,b.day)] + [date(b.year + int(n), b.month, b.day) for n in yield_curve_hist.index[1:]]\n",
    "        yield_curve_hist['days'] = yield_curve_hist.maturity.apply(lambda x: (x - b).days)\n",
    "        idx_hist=0\n",
    "        row_hist=0\n",
    "        for idx_hist, row_hist in yield_curve_hist.loc[2:].iterrows():\n",
    "            prev_dfs = yield_curve_hist.loc[1:idx_hist-1].df.sum()\n",
    "            yield_curve_hist.loc[idx_hist, 'df'] = (1 - row_hist.par_rate\/100 * prev_dfs) \/ (1+row_hist.par_rate\/100)\n",
    "        for a in yield_curve_hist.index[2:]:\n",
    "            yield_curve_hist.loc[a,'zero_rate']=((1\/yield_curve_hist.loc[a,'df'])**(1\/a))-1\n",
    "        \n",
    "        \n",
    "            \n",
    "    except:\n",
    "        continue\n",
    "yield_curve_hist"
   ],
   "execution_count":357,
   "outputs":[
    {
     "data":{
      "text\/html":[
       "<div>\n",
       "<style scoped>\n",
       "    .dataframe tbody tr th:only-of-type {\n",
       "        vertical-align: middle;\n",
       "    }\n",
       "\n",
       "    .dataframe tbody tr th {\n",
       "        vertical-align: top;\n",
       "    }\n",
       "\n",
       "    .dataframe thead th {\n",
       "        text-align: right;\n",
       "    }\n",
       "<\/style>\n",
       "<table border=\"1\" class=\"dataframe\">\n",
       "  <thead>\n",
       "    <tr style=\"text-align: right;\">\n",
       "      <th><\/th>\n",
       "      <th>par_rate<\/th>\n",
       "      <th>instrument<\/th>\n",
       "      <th>maturity<\/th>\n",
       "      <th>maturity_fra<\/th>\n",
       "      <th>df<\/th>\n",
       "      <th>zero_rate<\/th>\n",
       "      <th>Tenor<\/th>\n",
       "    <\/tr>\n",
       "    <tr>\n",
       "      <th>year_frac<\/th>\n",
       "      <th><\/th>\n",
       "      <th><\/th>\n",
       "      <th><\/th>\n",
       "      <th><\/th>\n",
       "      <th><\/th>\n",
       "      <th><\/th>\n",
       "      <th><\/th>\n",
       "    <\/tr>\n",
       "  <\/thead>\n",
       "  <tbody>\n",
       "    <tr>\n",
       "      <th>0.50000<\/th>\n",
       "      <td>-0.50800<\/td>\n",
       "      <td>Deposit<\/td>\n",
       "      <td>6M<\/td>\n",
       "      <td>NaN<\/td>\n",
       "      <td>1.00255<\/td>\n",
       "      <td>-0.00508<\/td>\n",
       "      <td>0.50000<\/td>\n",
       "    <\/tr>\n",
       "    <tr>\n",
       "      <th>1.00000<\/th>\n",
       "      <td>-0.51101<\/td>\n",
       "      <td>-<\/td>\n",
       "      <td>1Y<\/td>\n",
       "      <td>-<\/td>\n",
       "      <td>1.00514<\/td>\n",
       "      <td>-0.00511<\/td>\n",
       "      <td>1.00000<\/td>\n",
       "    <\/tr>\n",
       "    <tr>\n",
       "      <th>2.00000<\/th>\n",
       "      <td>-0.51860<\/td>\n",
       "      <td>Swap<\/td>\n",
       "      <td>2Y<\/td>\n",
       "      <td>NaN<\/td>\n",
       "      <td>NaN<\/td>\n",
       "      <td>NaN<\/td>\n",
       "      <td>2.00000<\/td>\n",
       "    <\/tr>\n",
       "    <tr>\n",
       "      <th>3.00000<\/th>\n",
       "      <td>-0.50800<\/td>\n",
       "      <td>Swap<\/td>\n",
       "      <td>3Y<\/td>\n",
       "      <td>NaN<\/td>\n",
       "      <td>NaN<\/td>\n",
       "      <td>NaN<\/td>\n",
       "      <td>3.00000<\/td>\n",
       "    <\/tr>\n",
       "    <tr>\n",
       "      <th>4.00000<\/th>\n",
       "      <td>-0.48700<\/td>\n",
       "      <td>Swap<\/td>\n",
       "      <td>4Y<\/td>\n",
       "      <td>NaN<\/td>\n",
       "      <td>NaN<\/td>\n",
       "      <td>NaN<\/td>\n",
       "      <td>4.00000<\/td>\n",
       "    <\/tr>\n",
       "    <tr>\n",
       "      <th>5.00000<\/th>\n",
       "      <td>-0.45800<\/td>\n",
       "      <td>Swap<\/td>\n",
       "      <td>5Y<\/td>\n",
       "      <td>NaN<\/td>\n",
       "      <td>NaN<\/td>\n",
       "      <td>NaN<\/td>\n",
       "      <td>5.00000<\/td>\n",
       "    <\/tr>\n",
       "    <tr>\n",
       "      <th>6.00000<\/th>\n",
       "      <td>-0.42400<\/td>\n",
       "      <td>Swap<\/td>\n",
       "      <td>6Y<\/td>\n",
       "      <td>NaN<\/td>\n",
       "      <td>NaN<\/td>\n",
       "      <td>NaN<\/td>\n",
       "      <td>6.00000<\/td>\n",
       "    <\/tr>\n",
       "    <tr>\n",
       "      <th>7.00000<\/th>\n",
       "      <td>-0.38400<\/td>\n",
       "      <td>Swap<\/td>\n",
       "      <td>7Y<\/td>\n",
       "      <td>NaN<\/td>\n",
       "      <td>NaN<\/td>\n",
       "      <td>NaN<\/td>\n",
       "      <td>7.00000<\/td>\n",
       "    <\/tr>\n",
       "    <tr>\n",
       "      <th>8.00000<\/th>\n",
       "      <td>-0.34150<\/td>\n",
       "      <td>Swap<\/td>\n",
       "      <td>8Y<\/td>\n",
       "      <td>NaN<\/td>\n",
       "      <td>NaN<\/td>\n",
       "      <td>NaN<\/td>\n",
       "      <td>8.00000<\/td>\n",
       "    <\/tr>\n",
       "    <tr>\n",
       "      <th>9.00000<\/th>\n",
       "      <td>-0.29700<\/td>\n",
       "      <td>Swap<\/td>\n",
       "      <td>9Y<\/td>\n",
       "      <td>NaN<\/td>\n",
       "      <td>NaN<\/td>\n",
       "      <td>NaN<\/td>\n",
       "      <td>9.00000<\/td>\n",
       "    <\/tr>\n",
       "    <tr>\n",
       "      <th>10.00000<\/th>\n",
       "      <td>-0.25100<\/td>\n",
       "      <td>Swap<\/td>\n",
       "      <td>10Y<\/td>\n",
       "      <td>NaN<\/td>\n",
       "      <td>NaN<\/td>\n",
       "      <td>NaN<\/td>\n",
       "      <td>10.00000<\/td>\n",
       "    <\/tr>\n",
       "    <tr>\n",
       "      <th>11.00000<\/th>\n",
       "      <td>-0.20680<\/td>\n",
       "      <td>Swap<\/td>\n",
       "      <td>11Y<\/td>\n",
       "      <td>NaN<\/td>\n",
       "      <td>NaN<\/td>\n",
       "      <td>NaN<\/td>\n",
       "      <td>11.00000<\/td>\n",
       "    <\/tr>\n",
       "    <tr>\n",
       "      <th>12.00000<\/th>\n",
       "      <td>-0.16400<\/td>\n",
       "      <td>Swap<\/td>\n",
       "      <td>12Y<\/td>\n",
       "      <td>NaN<\/td>\n",
       "      <td>NaN<\/td>\n",
       "      <td>NaN<\/td>\n",
       "      <td>12.00000<\/td>\n",
       "    <\/tr>\n",
       "    <tr>\n",
       "      <th>15.00000<\/th>\n",
       "      <td>-0.06170<\/td>\n",
       "      <td>Swap<\/td>\n",
       "      <td>15Y<\/td>\n",
       "      <td>NaN<\/td>\n",
       "      <td>NaN<\/td>\n",
       "      <td>NaN<\/td>\n",
       "      <td>15.00000<\/td>\n",
       "    <\/tr>\n",
       "    <tr>\n",
       "      <th>20.00000<\/th>\n",
       "      <td>0.01820<\/td>\n",
       "      <td>Swap<\/td>\n",
       "      <td>20Y<\/td>\n",
       "      <td>NaN<\/td>\n",
       "      <td>NaN<\/td>\n",
       "      <td>NaN<\/td>\n",
       "      <td>20.00000<\/td>\n",
       "    <\/tr>\n",
       "    <tr>\n",
       "      <th>25.00000<\/th>\n",
       "      <td>0.02230<\/td>\n",
       "      <td>Swap<\/td>\n",
       "      <td>25Y<\/td>\n",
       "      <td>NaN<\/td>\n",
       "      <td>NaN<\/td>\n",
       "      <td>NaN<\/td>\n",
       "      <td>25.00000<\/td>\n",
       "    <\/tr>\n",
       "    <tr>\n",
       "      <th>30.00000<\/th>\n",
       "      <td>-0.00530<\/td>\n",
       "      <td>Swap<\/td>\n",
       "      <td>30Y<\/td>\n",
       "      <td>NaN<\/td>\n",
       "      <td>NaN<\/td>\n",
       "      <td>NaN<\/td>\n",
       "      <td>30.00000<\/td>\n",
       "    <\/tr>\n",
       "    <tr>\n",
       "      <th>40.00000<\/th>\n",
       "      <td>-0.06050<\/td>\n",
       "      <td>Swap<\/td>\n",
       "      <td>40Y<\/td>\n",
       "      <td>NaN<\/td>\n",
       "      <td>NaN<\/td>\n",
       "      <td>NaN<\/td>\n",
       "      <td>40.00000<\/td>\n",
       "    <\/tr>\n",
       "    <tr>\n",
       "      <th>50.00000<\/th>\n",
       "      <td>-0.11000<\/td>\n",
       "      <td>Swap<\/td>\n",
       "      <td>50Y<\/td>\n",
       "      <td>NaN<\/td>\n",
       "      <td>NaN<\/td>\n",
       "      <td>NaN<\/td>\n",
       "      <td>50.00000<\/td>\n",
       "    <\/tr>\n",
       "  <\/tbody>\n",
       "<\/table>\n",
       "<\/div>"
      ]
     },
     "metadata":{
      
     },
     "output_type":"display_data"
    }
   ],
   "metadata":{
    "datalore":{
     "node_id":"lLcIoEghlqbS97Bu3jfSVc",
     "type":"CODE",
     "hide_input_from_viewers":true,
     "hide_output_from_viewers":true
    }
   }
  },
  {
   "cell_type":"code",
   "source":[
    
   ],
   "execution_count":null,
   "outputs":[
    
   ],
   "metadata":{
    "datalore":{
     "node_id":"RsKsoVugvAyuRMIqcG45Nq",
     "type":"CODE",
     "hide_input_from_viewers":true,
     "hide_output_from_viewers":true
    }
   }
  }
 ],
 "metadata":{
  "kernelspec":{
   "display_name":"Python",
   "language":"python",
   "name":"python"
  },
  "datalore":{
   "version":1,
   "computation_mode":"JUPYTER",
   "package_manager":"pip",
   "base_environment":"default",
   "packages":[
    
   ]
  }
 },
 "nbformat":4,
 "nbformat_minor":4
}